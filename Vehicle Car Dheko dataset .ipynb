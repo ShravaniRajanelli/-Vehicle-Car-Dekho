{
 "cells": [
  {
   "cell_type": "markdown",
   "id": "11a1c567",
   "metadata": {},
   "source": [
    "# Vehicle Car Dekho Price Prediction - Regression Model"
   ]
  },
  {
   "cell_type": "markdown",
   "id": "4e7cff39",
   "metadata": {},
   "source": [
    "### Data Set Description:"
   ]
  },
  {
   "cell_type": "markdown",
   "id": "bb95a958",
   "metadata": {},
   "source": [
    "The Vehicle Car Dheko project aims to develop an intelligent predictive analysis and recommendation system using machine learning techniques. The project focuses on leveraging a comprehensive dataset containing various attributes of vehicles, such as make, model, year, price, mileage, and features. By applying advanced machine learning algorithms, the system will provide valuable insights and personalized recommendations to potential buyers, enabling them to make informed decisions when purchasing a car."
   ]
  },
  {
   "cell_type": "markdown",
   "id": "ffbaf91b",
   "metadata": {},
   "source": [
    "### Data Fields:"
   ]
  },
  {
   "cell_type": "markdown",
   "id": "1de644cd",
   "metadata": {},
   "source": [
    "| **Variable Name** | **Description** |\n",
    "|--|--|\n",
    "|name|name of the car|\n",
    "|year|year in which car was bought|\n",
    "|selling_price|selling price of the car|\n",
    "|km_driven|number of kilometers the car is driven|\n",
    "|fuel|fuel type of the car|\n",
    "|seller_type|tells if car is sold by individual or dealer|\n",
    "|transmission|Gear transmission of the car (Automatic/Manual)|\n",
    "|owner|number of previous owners|\n",
    "|mileage|mileage of the car|\n",
    "|engine|engine capacity of the car|\n",
    "|max_power|max power of engine|\n",
    "|torque|torque of the car|\n",
    "|seats|number of seats in the car|\n"
   ]
  },
  {
   "cell_type": "markdown",
   "id": "10ad1214",
   "metadata": {},
   "source": [
    "### Goal:"
   ]
  },
  {
   "cell_type": "markdown",
   "id": "80250d9b",
   "metadata": {},
   "source": [
    "Predicting the Price of Used Cars"
   ]
  },
  {
   "cell_type": "code",
   "execution_count": 176,
   "id": "2c068789",
   "metadata": {},
   "outputs": [],
   "source": [
    "# Importing Required Libraries\n",
    "import numpy as np\n",
    "import pandas as pd\n",
    "import matplotlib.pyplot as plt\n",
    "%matplotlib inline\n",
    "import seaborn as sns"
   ]
  },
  {
   "cell_type": "code",
   "execution_count": 177,
   "id": "a1022b10",
   "metadata": {},
   "outputs": [
    {
     "name": "stdout",
     "output_type": "stream",
     "text": [
      "[WinError 3] The system cannot find the path specified: 'D:\\\\IMR\\\\CapStone Project\\\\Vehicle'\n",
      "C:\\Users\\srava\\github projects\\project on cardheko price prediction\n"
     ]
    }
   ],
   "source": [
    "import io \n",
    "%cd \"D:\\IMR\\CapStone Project\\Vehicle\""
   ]
  },
  {
   "cell_type": "code",
   "execution_count": 178,
   "id": "f48ff4ef",
   "metadata": {},
   "outputs": [],
   "source": [
    "vehicle = pd.read_csv(\"Car details v3.csv\")"
   ]
  },
  {
   "cell_type": "code",
   "execution_count": 179,
   "id": "c0a9d476",
   "metadata": {},
   "outputs": [
    {
     "name": "stdout",
     "output_type": "stream",
     "text": [
      "<class 'pandas.core.frame.DataFrame'>\n",
      "RangeIndex: 8128 entries, 0 to 8127\n",
      "Data columns (total 12 columns):\n",
      " #   Column         Non-Null Count  Dtype \n",
      "---  ------         --------------  ----- \n",
      " 0   name           8128 non-null   object\n",
      " 1   year           8128 non-null   int64 \n",
      " 2   selling_price  8128 non-null   int64 \n",
      " 3   km_driven      8128 non-null   int64 \n",
      " 4   fuel           8128 non-null   object\n",
      " 5   seller_type    8128 non-null   object\n",
      " 6   transmission   8128 non-null   object\n",
      " 7   owner          8128 non-null   object\n",
      " 8   mileage        7907 non-null   object\n",
      " 9   engine         7907 non-null   object\n",
      " 10  max_power      7913 non-null   object\n",
      " 11  torque         7641 non-null   object\n",
      "dtypes: int64(3), object(9)\n",
      "memory usage: 762.1+ KB\n"
     ]
    }
   ],
   "source": [
    "# Checking columns and it's datatype\n",
    "vehicle.info()"
   ]
  },
  {
   "cell_type": "code",
   "execution_count": 180,
   "id": "b61d5968",
   "metadata": {
    "scrolled": true
   },
   "outputs": [
    {
     "data": {
      "text/html": [
       "<div>\n",
       "<style scoped>\n",
       "    .dataframe tbody tr th:only-of-type {\n",
       "        vertical-align: middle;\n",
       "    }\n",
       "\n",
       "    .dataframe tbody tr th {\n",
       "        vertical-align: top;\n",
       "    }\n",
       "\n",
       "    .dataframe thead th {\n",
       "        text-align: right;\n",
       "    }\n",
       "</style>\n",
       "<table border=\"1\" class=\"dataframe\">\n",
       "  <thead>\n",
       "    <tr style=\"text-align: right;\">\n",
       "      <th></th>\n",
       "      <th>name</th>\n",
       "      <th>year</th>\n",
       "      <th>selling_price</th>\n",
       "      <th>km_driven</th>\n",
       "      <th>fuel</th>\n",
       "      <th>seller_type</th>\n",
       "      <th>transmission</th>\n",
       "      <th>owner</th>\n",
       "      <th>mileage</th>\n",
       "      <th>engine</th>\n",
       "      <th>max_power</th>\n",
       "      <th>torque</th>\n",
       "    </tr>\n",
       "  </thead>\n",
       "  <tbody>\n",
       "    <tr>\n",
       "      <th>0</th>\n",
       "      <td>Maruti Swift Dzire VDI</td>\n",
       "      <td>2014</td>\n",
       "      <td>450000</td>\n",
       "      <td>145500</td>\n",
       "      <td>Diesel</td>\n",
       "      <td>Individual</td>\n",
       "      <td>Manual</td>\n",
       "      <td>First Owner</td>\n",
       "      <td>23.4 kmpl</td>\n",
       "      <td>1248 CC</td>\n",
       "      <td>74 bhp</td>\n",
       "      <td>2000rpm</td>\n",
       "    </tr>\n",
       "    <tr>\n",
       "      <th>1</th>\n",
       "      <td>Skoda Rapid 1.5 TDI Ambition</td>\n",
       "      <td>2014</td>\n",
       "      <td>370000</td>\n",
       "      <td>120000</td>\n",
       "      <td>Diesel</td>\n",
       "      <td>Individual</td>\n",
       "      <td>Manual</td>\n",
       "      <td>Second Owner</td>\n",
       "      <td>21.14 kmpl</td>\n",
       "      <td>1498 CC</td>\n",
       "      <td>103.52 bhp</td>\n",
       "      <td>1500-2500rpm</td>\n",
       "    </tr>\n",
       "    <tr>\n",
       "      <th>2</th>\n",
       "      <td>Honda City 2017-2020 EXi</td>\n",
       "      <td>2006</td>\n",
       "      <td>158000</td>\n",
       "      <td>140000</td>\n",
       "      <td>Petrol</td>\n",
       "      <td>Individual</td>\n",
       "      <td>Manual</td>\n",
       "      <td>Third Owner</td>\n",
       "      <td>17.7 kmpl</td>\n",
       "      <td>1497 CC</td>\n",
       "      <td>78 bhp</td>\n",
       "      <td>2,700(kgm</td>\n",
       "    </tr>\n",
       "    <tr>\n",
       "      <th>3</th>\n",
       "      <td>Hyundai i20 Sportz Diesel</td>\n",
       "      <td>2010</td>\n",
       "      <td>225000</td>\n",
       "      <td>127000</td>\n",
       "      <td>Diesel</td>\n",
       "      <td>Individual</td>\n",
       "      <td>Manual</td>\n",
       "      <td>First Owner</td>\n",
       "      <td>23.0 kmpl</td>\n",
       "      <td>1396 CC</td>\n",
       "      <td>90 bhp</td>\n",
       "      <td>NaN</td>\n",
       "    </tr>\n",
       "    <tr>\n",
       "      <th>4</th>\n",
       "      <td>Maruti Swift VXI BSIII</td>\n",
       "      <td>2007</td>\n",
       "      <td>130000</td>\n",
       "      <td>120000</td>\n",
       "      <td>Petrol</td>\n",
       "      <td>Individual</td>\n",
       "      <td>Manual</td>\n",
       "      <td>First Owner</td>\n",
       "      <td>16.1 kmpl</td>\n",
       "      <td>1298 CC</td>\n",
       "      <td>88.2 bhp</td>\n",
       "      <td>4,500(kgm</td>\n",
       "    </tr>\n",
       "  </tbody>\n",
       "</table>\n",
       "</div>"
      ],
      "text/plain": [
       "                           name  year  selling_price  km_driven    fuel  \\\n",
       "0        Maruti Swift Dzire VDI  2014         450000     145500  Diesel   \n",
       "1  Skoda Rapid 1.5 TDI Ambition  2014         370000     120000  Diesel   \n",
       "2      Honda City 2017-2020 EXi  2006         158000     140000  Petrol   \n",
       "3     Hyundai i20 Sportz Diesel  2010         225000     127000  Diesel   \n",
       "4        Maruti Swift VXI BSIII  2007         130000     120000  Petrol   \n",
       "\n",
       "  seller_type transmission         owner     mileage   engine   max_power  \\\n",
       "0  Individual       Manual   First Owner   23.4 kmpl  1248 CC      74 bhp   \n",
       "1  Individual       Manual  Second Owner  21.14 kmpl  1498 CC  103.52 bhp   \n",
       "2  Individual       Manual   Third Owner   17.7 kmpl  1497 CC      78 bhp   \n",
       "3  Individual       Manual   First Owner   23.0 kmpl  1396 CC      90 bhp   \n",
       "4  Individual       Manual   First Owner   16.1 kmpl  1298 CC    88.2 bhp   \n",
       "\n",
       "          torque  \n",
       "0        2000rpm  \n",
       "1   1500-2500rpm  \n",
       "2      2,700(kgm  \n",
       "3            NaN  \n",
       "4      4,500(kgm  "
      ]
     },
     "execution_count": 180,
     "metadata": {},
     "output_type": "execute_result"
    }
   ],
   "source": [
    "vehicle.head()"
   ]
  },
  {
   "cell_type": "code",
   "execution_count": 181,
   "id": "015e6bc3",
   "metadata": {},
   "outputs": [
    {
     "data": {
      "text/plain": [
       "array(['23.4 kmpl', '21.14 kmpl', '17.7 kmpl', '23.0 kmpl', '16.1 kmpl',\n",
       "       '20.14 kmpl', '17.3 km/kg', '23.59 kmpl', '20.0 kmpl',\n",
       "       '19.01 kmpl', '17.3 kmpl', '19.3 kmpl', nan, '18.9 kmpl',\n",
       "       '18.15 kmpl', '24.52 kmpl', '19.7 kmpl', '22.54 kmpl', '21.0 kmpl',\n",
       "       '25.5 kmpl', '26.59 kmpl', '21.5 kmpl', '20.3 kmpl', '21.4 kmpl',\n",
       "       '24.7 kmpl', '18.2 kmpl', '16.8 kmpl', '24.3 kmpl', '14.0 kmpl',\n",
       "       '18.6 kmpl', '33.44 km/kg', '23.95 kmpl', '17.0 kmpl',\n",
       "       '20.63 kmpl', '13.93 kmpl', '16.0 kmpl', '17.8 kmpl', '18.5 kmpl',\n",
       "       '12.55 kmpl', '12.99 kmpl', '14.8 kmpl', '13.5 kmpl', '26.0 kmpl',\n",
       "       '20.65 kmpl', '27.3 kmpl', '11.36 kmpl', '17.68 kmpl',\n",
       "       '14.28 kmpl', '18.53 kmpl', '14.84 kmpl', '21.12 kmpl',\n",
       "       '20.36 kmpl', '21.27 kmpl', '18.16 kmpl', '22.0 kmpl', '25.1 kmpl',\n",
       "       '20.51 kmpl', '21.66 kmpl', '25.2 kmpl', '22.9 kmpl', '16.02 kmpl',\n",
       "       '20.54 kmpl', '22.77 kmpl', '15.71 kmpl', '23.1 kmpl',\n",
       "       '19.02 kmpl', '19.81 kmpl', '26.2 km/kg', '16.47 kmpl',\n",
       "       '15.04 kmpl', '19.1 kmpl', '21.79 kmpl', '18.8 kmpl', '21.21 kmpl',\n",
       "       '15.37 kmpl', '11.79 kmpl', '19.0 kmpl', '14.3 kmpl', '15.8 kmpl',\n",
       "       '15.1 kmpl', '19.09 kmpl', '22.32 kmpl', '21.9 kmpl', '14.53 kmpl',\n",
       "       '21.63 kmpl', '20.85 kmpl', '20.45 kmpl', '19.67 kmpl',\n",
       "       '23.01 kmpl', '20.77 kmpl', '17.92 kmpl', '17.01 kmpl',\n",
       "       '22.37 kmpl', '19.33 kmpl', '9.5 kmpl', '12.83 kmpl', '22.48 kmpl',\n",
       "       '16.78 kmpl', '14.67 kmpl', '15.0 kmpl', '13.96 kmpl', '18.0 kmpl',\n",
       "       '12.07 kmpl', '26.21 kmpl', '10.8 kmpl', '16.3 kmpl', '13.6 kmpl',\n",
       "       '14.74 kmpl', '15.6 kmpl', '19.56 kmpl', '22.69 kmpl',\n",
       "       '19.16 kmpl', '18.12 kmpl', '12.1 kmpl', '17.5 kmpl', '42.0 kmpl',\n",
       "       '20.4 kmpl', '21.1 kmpl', '19.44 kmpl', '13.0 kmpl', '21.43 kmpl',\n",
       "       '22.95 kmpl', '16.2 kmpl', '15.3 kmpl', '28.09 kmpl', '17.4 kmpl',\n",
       "       '19.4 kmpl', '26.6 km/kg', '17.6 kmpl', '28.4 kmpl', '14.1 kmpl',\n",
       "       '25.17 kmpl', '22.74 kmpl', '17.57 kmpl', '16.95 kmpl',\n",
       "       '19.49 kmpl', '17.21 kmpl', '13.2 kmpl', '14.2 kmpl', '26.8 kmpl',\n",
       "       '25.4 kmpl', '11.5 kmpl', '27.28 kmpl', '17.97 kmpl', '12.8 kmpl',\n",
       "       '16.55 kmpl', '12.05 kmpl', '14.07 kmpl', '21.02 kmpl',\n",
       "       '11.57 kmpl', '17.9 kmpl', '15.96 kmpl', '17.1 kmpl', '17.19 kmpl',\n",
       "       '21.01 kmpl', '24.0 kmpl', '25.6 kmpl', '21.38 kmpl', '23.84 kmpl',\n",
       "       '23.08 kmpl', '14.24 kmpl', '20.71 kmpl', '15.64 kmpl',\n",
       "       '14.5 kmpl', '16.34 kmpl', '27.39 kmpl', '11.1 kmpl', '13.9 kmpl',\n",
       "       '20.88 km/kg', '20.92 kmpl', '23.8 kmpl', '24.4 kmpl',\n",
       "       '15.29 kmpl', '21.19 kmpl', '22.5 kmpl', '19.6 kmpl', '23.65 kmpl',\n",
       "       '25.32 kmpl', '23.5 kmpl', '16.6 kmpl', '23.9 kmpl', '20.8 kmpl',\n",
       "       '27.62 kmpl', '12.9 kmpl', '25.44 kmpl', '17.88 kmpl', '22.7 kmpl',\n",
       "       '17.2 kmpl', '15.42 kmpl', '19.68 kmpl', '18.7 kmpl', '15.4 kmpl',\n",
       "       '19.34 kmpl', '22.71 kmpl', '25.8 kmpl', '13.7 kmpl', '12.2 kmpl',\n",
       "       '18.49 kmpl', '9.0 kmpl', '0.0 kmpl', '13.58 kmpl', '10.1 kmpl',\n",
       "       '20.5 kmpl', '25.0 kmpl', '10.5 kmpl', '22.07 kmpl', '22.3 kmpl',\n",
       "       '15.26 kmpl', '20.62 kmpl', '27.4 kmpl', '23.2 kmpl', '14.4 kmpl',\n",
       "       '18.4 kmpl', '30.46 km/kg', '14.02 kmpl', '11.0 kmpl', '20.6 kmpl',\n",
       "       '22.05 kmpl', '20.2 kmpl', '18.1 kmpl', '22.1 kmpl', '19.87 kmpl',\n",
       "       '13.01 kmpl', '18.06 kmpl', '26.1 kmpl', '16.52 kmpl',\n",
       "       '13.55 kmpl', '24.2 kmpl', '25.83 kmpl', '11.2 kmpl', '17.09 kmpl',\n",
       "       '21.03 kmpl', '17.45 kmpl', '21.64 kmpl', '21.94 km/kg',\n",
       "       '13.87 kmpl', '19.98 kmpl', '20.52 kmpl', '23.57 kmpl',\n",
       "       '11.7 kmpl', '17.43 kmpl', '18.88 kmpl', '13.68 kmpl',\n",
       "       '11.18 kmpl', '20.89 kmpl', '11.8 kmpl', '19.62 kmpl', '21.7 kmpl',\n",
       "       '14.9 kmpl', '19.5 kmpl', '10.91 kmpl', '15.7 kmpl', '20.73 kmpl',\n",
       "       '15.85 kmpl', '20.7 kmpl', '14.23 kmpl', '16.5 kmpl', '17.36 kmpl',\n",
       "       '12.6 kmpl', '16.36 kmpl', '14.95 kmpl', '16.9 kmpl', '19.2 kmpl',\n",
       "       '16.96 kmpl', '22.15 kmpl', '18.78 kmpl', '19.61 kmpl',\n",
       "       '17.71 kmpl', '18.3 kmpl', '19.12 kmpl', '19.72 kmpl', '12.0 kmpl',\n",
       "       '11.4 kmpl', '23.03 kmpl', '11.07 kmpl', '15.9 kmpl', '17.67 kmpl',\n",
       "       '20.46 kmpl', '13.1 kmpl', '13.45 km/kg', '24.8 kmpl',\n",
       "       '15.73 kmpl', '15.11 kmpl', '12.7 kmpl', '21.2 kmpl', '20.38 kmpl',\n",
       "       '21.56 kmpl', '13.22 kmpl', '14.49 kmpl', '15.05 kmpl',\n",
       "       '23.26 kmpl', '15.41 kmpl', '13.8 kmpl', '22.27 kmpl',\n",
       "       '32.52 km/kg', '14.66 kmpl', '12.12 kmpl', '16.84 kmpl',\n",
       "       '14.09 kmpl', '14.7 kmpl', '13.4 kmpl', '15.5 kmpl', '13.49 kmpl',\n",
       "       '11.88 km/kg', '14.6 kmpl', '10.75 kmpl', '24.5 kmpl',\n",
       "       '11.74 kmpl', '16.07 kmpl', '15.63 kmpl', '26.3 km/kg',\n",
       "       '23.7 km/kg', '25.47 kmpl', '17.05 kmpl', '23.3 kmpl', '11.9 kmpl',\n",
       "       '13.38 kmpl', '20.86 kmpl', '19.2 km/kg', '10.9 kmpl',\n",
       "       '18.25 kmpl', '15.2 kmpl', '20.37 kmpl', '17.8 km/kg', '21.8 kmpl',\n",
       "       '11.96 kmpl', '24.04 kmpl', '19.69 kmpl', '13.73 kmpl',\n",
       "       '21.04 kmpl', '25.01 kmpl', '10.93 kmpl', '10.9 km/kg',\n",
       "       '24.29 kmpl', '13.44 kmpl', '20.07 kmpl', '21.1 km/kg',\n",
       "       '19.08 kmpl', '20.34 kmpl', '11.68 kmpl', '12.5 kmpl', '12.3 kmpl',\n",
       "       '23.87 kmpl', '16.38 kmpl', '17.42 kmpl', '10.0 kmpl',\n",
       "       '18.24 kmpl', '10.71 kmpl', '19.59 kmpl', '16.7 kmpl',\n",
       "       '19.83 kmpl', '21.76 kmpl', '16.05 kmpl', '20.28 kmpl',\n",
       "       '16.25 kmpl', '16.73 kmpl', '18.48 kmpl', '13.2 km/kg',\n",
       "       '21.4 km/kg', '14.99 kmpl', '18.76 kmpl', '16.4 kmpl',\n",
       "       '19.64 kmpl', '14.94 kmpl', '16.6 km/kg', '16.0 km/kg',\n",
       "       '17.11 kmpl', '22.8 km/kg', '32.26 km/kg', '33.0 km/kg',\n",
       "       '12.4 kmpl', '18.44 kmpl', '16.09 kmpl', '19.0 km/kg',\n",
       "       '12.62 kmpl', '21.13 kmpl', '15.17 kmpl', '21.73 kmpl',\n",
       "       '21.72 kmpl', '12.85 kmpl', '14.81 kmpl', '13.24 kmpl',\n",
       "       '14.4 km/kg', '21.49 kmpl', '14.62 kmpl', '26.83 km/kg',\n",
       "       '11.45 kmpl', '12.08 kmpl', '15.74 kmpl', '11.3 kmpl',\n",
       "       '15.1 km/kg', '14.21 kmpl', '11.72 kmpl', '16.51 kmpl'],\n",
       "      dtype=object)"
      ]
     },
     "execution_count": 181,
     "metadata": {},
     "output_type": "execute_result"
    }
   ],
   "source": [
    "vehicle.mileage.unique()"
   ]
  },
  {
   "cell_type": "code",
   "execution_count": 182,
   "id": "1182b10c",
   "metadata": {},
   "outputs": [],
   "source": [
    "# Cleaning the rows - \"kmpl\",\"km/kg\",\" \"(whitespaces) in mileage \n",
    "vehicle.mileage = vehicle.mileage.str.replace(\"kmpl\",\"\")"
   ]
  },
  {
   "cell_type": "code",
   "execution_count": 183,
   "id": "35d273f2",
   "metadata": {},
   "outputs": [],
   "source": [
    "vehicle.mileage = vehicle.mileage.str.replace(\"km/kg\",\"\")"
   ]
  },
  {
   "cell_type": "code",
   "execution_count": 184,
   "id": "30fb66ac",
   "metadata": {},
   "outputs": [],
   "source": [
    "vehicle.mileage = vehicle.mileage.str.replace(\" \",\"\")"
   ]
  },
  {
   "cell_type": "code",
   "execution_count": 185,
   "id": "d6459c8a",
   "metadata": {},
   "outputs": [
    {
     "data": {
      "text/html": [
       "<div>\n",
       "<style scoped>\n",
       "    .dataframe tbody tr th:only-of-type {\n",
       "        vertical-align: middle;\n",
       "    }\n",
       "\n",
       "    .dataframe tbody tr th {\n",
       "        vertical-align: top;\n",
       "    }\n",
       "\n",
       "    .dataframe thead th {\n",
       "        text-align: right;\n",
       "    }\n",
       "</style>\n",
       "<table border=\"1\" class=\"dataframe\">\n",
       "  <thead>\n",
       "    <tr style=\"text-align: right;\">\n",
       "      <th></th>\n",
       "      <th>name</th>\n",
       "      <th>year</th>\n",
       "      <th>selling_price</th>\n",
       "      <th>km_driven</th>\n",
       "      <th>fuel</th>\n",
       "      <th>seller_type</th>\n",
       "      <th>transmission</th>\n",
       "      <th>owner</th>\n",
       "      <th>mileage</th>\n",
       "      <th>engine</th>\n",
       "      <th>max_power</th>\n",
       "      <th>torque</th>\n",
       "    </tr>\n",
       "  </thead>\n",
       "  <tbody>\n",
       "    <tr>\n",
       "      <th>0</th>\n",
       "      <td>Maruti Swift Dzire VDI</td>\n",
       "      <td>2014</td>\n",
       "      <td>450000</td>\n",
       "      <td>145500</td>\n",
       "      <td>Diesel</td>\n",
       "      <td>Individual</td>\n",
       "      <td>Manual</td>\n",
       "      <td>First Owner</td>\n",
       "      <td>23.4</td>\n",
       "      <td>1248 CC</td>\n",
       "      <td>74 bhp</td>\n",
       "      <td>2000rpm</td>\n",
       "    </tr>\n",
       "    <tr>\n",
       "      <th>1</th>\n",
       "      <td>Skoda Rapid 1.5 TDI Ambition</td>\n",
       "      <td>2014</td>\n",
       "      <td>370000</td>\n",
       "      <td>120000</td>\n",
       "      <td>Diesel</td>\n",
       "      <td>Individual</td>\n",
       "      <td>Manual</td>\n",
       "      <td>Second Owner</td>\n",
       "      <td>21.14</td>\n",
       "      <td>1498 CC</td>\n",
       "      <td>103.52 bhp</td>\n",
       "      <td>1500-2500rpm</td>\n",
       "    </tr>\n",
       "  </tbody>\n",
       "</table>\n",
       "</div>"
      ],
      "text/plain": [
       "                           name  year  selling_price  km_driven    fuel  \\\n",
       "0        Maruti Swift Dzire VDI  2014         450000     145500  Diesel   \n",
       "1  Skoda Rapid 1.5 TDI Ambition  2014         370000     120000  Diesel   \n",
       "\n",
       "  seller_type transmission         owner mileage   engine   max_power  \\\n",
       "0  Individual       Manual   First Owner    23.4  1248 CC      74 bhp   \n",
       "1  Individual       Manual  Second Owner   21.14  1498 CC  103.52 bhp   \n",
       "\n",
       "          torque  \n",
       "0        2000rpm  \n",
       "1   1500-2500rpm  "
      ]
     },
     "execution_count": 185,
     "metadata": {},
     "output_type": "execute_result"
    }
   ],
   "source": [
    "vehicle.head(2)"
   ]
  },
  {
   "cell_type": "code",
   "execution_count": 186,
   "id": "9d989a03",
   "metadata": {},
   "outputs": [],
   "source": [
    "# Cleaning the rows - \"CC\" in engine"
   ]
  },
  {
   "cell_type": "code",
   "execution_count": 187,
   "id": "1fa841a0",
   "metadata": {},
   "outputs": [],
   "source": [
    "vehicle.engine = vehicle.engine.str.replace(\"CC\",\"\")"
   ]
  },
  {
   "cell_type": "code",
   "execution_count": 188,
   "id": "0a011e1f",
   "metadata": {
    "scrolled": true
   },
   "outputs": [
    {
     "data": {
      "text/html": [
       "<div>\n",
       "<style scoped>\n",
       "    .dataframe tbody tr th:only-of-type {\n",
       "        vertical-align: middle;\n",
       "    }\n",
       "\n",
       "    .dataframe tbody tr th {\n",
       "        vertical-align: top;\n",
       "    }\n",
       "\n",
       "    .dataframe thead th {\n",
       "        text-align: right;\n",
       "    }\n",
       "</style>\n",
       "<table border=\"1\" class=\"dataframe\">\n",
       "  <thead>\n",
       "    <tr style=\"text-align: right;\">\n",
       "      <th></th>\n",
       "      <th>name</th>\n",
       "      <th>year</th>\n",
       "      <th>selling_price</th>\n",
       "      <th>km_driven</th>\n",
       "      <th>fuel</th>\n",
       "      <th>seller_type</th>\n",
       "      <th>transmission</th>\n",
       "      <th>owner</th>\n",
       "      <th>mileage</th>\n",
       "      <th>engine</th>\n",
       "      <th>max_power</th>\n",
       "      <th>torque</th>\n",
       "    </tr>\n",
       "  </thead>\n",
       "  <tbody>\n",
       "    <tr>\n",
       "      <th>0</th>\n",
       "      <td>Maruti Swift Dzire VDI</td>\n",
       "      <td>2014</td>\n",
       "      <td>450000</td>\n",
       "      <td>145500</td>\n",
       "      <td>Diesel</td>\n",
       "      <td>Individual</td>\n",
       "      <td>Manual</td>\n",
       "      <td>First Owner</td>\n",
       "      <td>23.4</td>\n",
       "      <td>1248</td>\n",
       "      <td>74 bhp</td>\n",
       "      <td>2000rpm</td>\n",
       "    </tr>\n",
       "    <tr>\n",
       "      <th>1</th>\n",
       "      <td>Skoda Rapid 1.5 TDI Ambition</td>\n",
       "      <td>2014</td>\n",
       "      <td>370000</td>\n",
       "      <td>120000</td>\n",
       "      <td>Diesel</td>\n",
       "      <td>Individual</td>\n",
       "      <td>Manual</td>\n",
       "      <td>Second Owner</td>\n",
       "      <td>21.14</td>\n",
       "      <td>1498</td>\n",
       "      <td>103.52 bhp</td>\n",
       "      <td>1500-2500rpm</td>\n",
       "    </tr>\n",
       "  </tbody>\n",
       "</table>\n",
       "</div>"
      ],
      "text/plain": [
       "                           name  year  selling_price  km_driven    fuel  \\\n",
       "0        Maruti Swift Dzire VDI  2014         450000     145500  Diesel   \n",
       "1  Skoda Rapid 1.5 TDI Ambition  2014         370000     120000  Diesel   \n",
       "\n",
       "  seller_type transmission         owner mileage engine   max_power  \\\n",
       "0  Individual       Manual   First Owner    23.4  1248       74 bhp   \n",
       "1  Individual       Manual  Second Owner   21.14  1498   103.52 bhp   \n",
       "\n",
       "          torque  \n",
       "0        2000rpm  \n",
       "1   1500-2500rpm  "
      ]
     },
     "execution_count": 188,
     "metadata": {},
     "output_type": "execute_result"
    }
   ],
   "source": [
    "vehicle.head(2)"
   ]
  },
  {
   "cell_type": "code",
   "execution_count": 189,
   "id": "924ec274",
   "metadata": {},
   "outputs": [],
   "source": [
    "# Cleaning the rows - \"bhp\" , \" \"(whitespaces) in max_power\n",
    "vehicle.max_power = vehicle.max_power.str.replace(\"bhp\",\"\")"
   ]
  },
  {
   "cell_type": "code",
   "execution_count": 190,
   "id": "ba062033",
   "metadata": {},
   "outputs": [],
   "source": [
    "vehicle.max_power = vehicle.max_power.str.replace(\" \",\"\")"
   ]
  },
  {
   "cell_type": "code",
   "execution_count": 191,
   "id": "9ddce263",
   "metadata": {},
   "outputs": [
    {
     "data": {
      "text/html": [
       "<div>\n",
       "<style scoped>\n",
       "    .dataframe tbody tr th:only-of-type {\n",
       "        vertical-align: middle;\n",
       "    }\n",
       "\n",
       "    .dataframe tbody tr th {\n",
       "        vertical-align: top;\n",
       "    }\n",
       "\n",
       "    .dataframe thead th {\n",
       "        text-align: right;\n",
       "    }\n",
       "</style>\n",
       "<table border=\"1\" class=\"dataframe\">\n",
       "  <thead>\n",
       "    <tr style=\"text-align: right;\">\n",
       "      <th></th>\n",
       "      <th>name</th>\n",
       "      <th>year</th>\n",
       "      <th>selling_price</th>\n",
       "      <th>km_driven</th>\n",
       "      <th>fuel</th>\n",
       "      <th>seller_type</th>\n",
       "      <th>transmission</th>\n",
       "      <th>owner</th>\n",
       "      <th>mileage</th>\n",
       "      <th>engine</th>\n",
       "      <th>max_power</th>\n",
       "      <th>torque</th>\n",
       "    </tr>\n",
       "  </thead>\n",
       "  <tbody>\n",
       "    <tr>\n",
       "      <th>0</th>\n",
       "      <td>Maruti Swift Dzire VDI</td>\n",
       "      <td>2014</td>\n",
       "      <td>450000</td>\n",
       "      <td>145500</td>\n",
       "      <td>Diesel</td>\n",
       "      <td>Individual</td>\n",
       "      <td>Manual</td>\n",
       "      <td>First Owner</td>\n",
       "      <td>23.4</td>\n",
       "      <td>1248</td>\n",
       "      <td>74</td>\n",
       "      <td>2000rpm</td>\n",
       "    </tr>\n",
       "    <tr>\n",
       "      <th>1</th>\n",
       "      <td>Skoda Rapid 1.5 TDI Ambition</td>\n",
       "      <td>2014</td>\n",
       "      <td>370000</td>\n",
       "      <td>120000</td>\n",
       "      <td>Diesel</td>\n",
       "      <td>Individual</td>\n",
       "      <td>Manual</td>\n",
       "      <td>Second Owner</td>\n",
       "      <td>21.14</td>\n",
       "      <td>1498</td>\n",
       "      <td>103.52</td>\n",
       "      <td>1500-2500rpm</td>\n",
       "    </tr>\n",
       "  </tbody>\n",
       "</table>\n",
       "</div>"
      ],
      "text/plain": [
       "                           name  year  selling_price  km_driven    fuel  \\\n",
       "0        Maruti Swift Dzire VDI  2014         450000     145500  Diesel   \n",
       "1  Skoda Rapid 1.5 TDI Ambition  2014         370000     120000  Diesel   \n",
       "\n",
       "  seller_type transmission         owner mileage engine max_power  \\\n",
       "0  Individual       Manual   First Owner    23.4  1248         74   \n",
       "1  Individual       Manual  Second Owner   21.14  1498     103.52   \n",
       "\n",
       "          torque  \n",
       "0        2000rpm  \n",
       "1   1500-2500rpm  "
      ]
     },
     "execution_count": 191,
     "metadata": {},
     "output_type": "execute_result"
    }
   ],
   "source": [
    "vehicle.head(2)"
   ]
  },
  {
   "cell_type": "code",
   "execution_count": 192,
   "id": "707af163",
   "metadata": {},
   "outputs": [
    {
     "data": {
      "text/plain": [
       "array([' 2000rpm', ' 1500-2500rpm', ' 2,700(kgm', nan, ' 4,500(kgm',\n",
       "       ' 4000rpm', ' 2500rpm', ' 1800-2400rpm', ' 2250rpm', ' 4500rpm',\n",
       "       ' 3500rpm', ' 3500-3600rpm', ' 1750rpm', ' 3000rpm',\n",
       "       ' 1500-2750rpm', ' 4850rpm', ' 1700-2700rpm', ' 1750-2500rpm',\n",
       "       ' 4600rpm', ' 4800rpm', ' 1400-3400rpm', ' 1250-4000rpm',\n",
       "       ' 2000-2500rpm', ' 4400rpm', ' 1200-3400rpm', ' 1200-3600rpm',\n",
       "       ' 1750-3000rpm', ' 1400-2800rpm', ' 1500-3000rpm', ' 1750-3250rpm',\n",
       "       ' 1350-4600rpm', ' 3750rpm', ' 3800rpm', ' 4200rpm',\n",
       "       ' 1800-2800rpm', ' 4250rpm', ' 1500~4500rpm', ' 1750-2800rpm',\n",
       "       ' 1900-2750rpm', ' 1900rpm', ' 3600-5200rpm', ' 4300rpm',\n",
       "       ' 1750-2250rpm', ' 1600-2400rpm', ' 1250-5000rpm', ' 1600-1800rpm',\n",
       "       ' 1600-3600rpm', ' 1750-2750rpm', ' 1600rpm', ' 4700rpm',\n",
       "       ' 1750-4000rpm', ' 1200-4000rpm', ' 1200-1400rpm', ' 1740rpm',\n",
       "       ' 3000-4300rpm', ' 3200rpm', ' 4386rpm', ' 1500-4000rpm',\n",
       "       ' 1800-3250rpm', ' 1600-2800rpm', ' 3,500(kgm', ' 3,200(kgm',\n",
       "       ' 1800-3000rpm', ' 1400-3400(kgm', ' 1800-2000rpm',\n",
       "       ' 1600-2200rpm', ' 1400-2200rpm', ' 2000-3500rpm', ' 1400-2600rpm',\n",
       "       ' 2700rpm', ' 1250-5300rpm', ' 3,000(kgm', ' 1,900-2,750(kgm',\n",
       "       ' 2,500(kgm', ' 1400-3200rpm', ' 2000-2750rpm', ' 1,800-3,000(kgm',\n",
       "       ' 1440-1500rpm', ' 5000rpm', ' 1800rpm', ' 1700-2200rpm',\n",
       "       ' 3600rpm', ' 1440-2200rpm', ' 4388rpm', ' 1,500-3,000(kgm',\n",
       "       ' 2,000(kgm', ' 2400-2800rpm', ' 1800-2500rpm', ' 1500-1800rpm',\n",
       "       ' 1750-3000', ' 2600rpm', ' 1600-3000rpm', ' 1,800(kgm',\n",
       "       ' 4,200(kgm', ' 4,100(kgm', ' 4000+/-500rpm', ' 4750rpm',\n",
       "       ' 3,000+/-500(NM', ' 1400-4500rpm', ' 3300rpm', ' 1,800-2,800(kgm',\n",
       "       ' 4100rpm', ' 1500-2800rpm', ' 1000-2500rpm', ' 1600-2400',\n",
       "       ' 3100rpm', ' 3,750(kgm', ' 1,400-2,800(kgm', ' 3,800(kgm',\n",
       "       ' 3400rpm', ' 2000-3000', '4800', ' 1,700-2,200(kgm',\n",
       "       ' 1400-3250rpm', ' 3750-3800rpm', ' 2500(kgm', ' 4,500rpm',\n",
       "       ' 4,400(kgm', ' 1850rpm', ' 1750-2700rpm', ' 1500rpm',\n",
       "       ' 1500-2250rpm', ' 2650rpm', ' 1800-2200rpm', ' 1500-4500rpm',\n",
       "       ' 3,400(kgm', ' 1,900(kgm', ' 2400-4000rpm', ' 2,600(kgm',\n",
       "       ' 1000-2000rpm', ' 4,800(kgm', ' 1500-4100rpm', '2500',\n",
       "       ' 4,000(kgm', ' 1600-2000rpm', ' 3,500-4,500(kgm',\n",
       "       ' 1,950-4,700(kgm', ' 2800rpm', ' 175-2750rpm', ' 1500-3500rpm',\n",
       "       ' 2000-3000rpm', ' 2200rpm', ' 1,750-4,600(kgm', ' 4,250(kgm',\n",
       "       ' 1,750-3,000(kgm', ' 1400-4100rpm', ' 1700-4500rpm', ' 2400rpm',\n",
       "       ' 1,600-2,200(kgm', ' 4,700(kgm', ' 1600-4000rpm', ' 21,800(kgm',\n",
       "       ' 1,750-2,500(kgm', ' 1800-2600rpm', ' 1600-2500rpm',\n",
       "       ' 2,000-2,750(kgm', ' 4,300(kgm', ' 1600-3200rpm',\n",
       "       ' 2,000-2,680(kgm', ' 3700rpm'], dtype=object)"
      ]
     },
     "execution_count": 192,
     "metadata": {},
     "output_type": "execute_result"
    }
   ],
   "source": [
    "vehicle.torque.unique()"
   ]
  },
  {
   "cell_type": "code",
   "execution_count": 193,
   "id": "21418bf1",
   "metadata": {},
   "outputs": [],
   "source": [
    "# Cleaning the rows - \"rpm\" , \"(kgm\" , \"(NM\" , \"+/\" , \" \"(whitespaces), \",\" , \"~\" ,  in max_power\n",
    "vehicle.torque = vehicle.torque.str.replace(\"rpm\",\"\")"
   ]
  },
  {
   "cell_type": "code",
   "execution_count": 194,
   "id": "9afd9711",
   "metadata": {},
   "outputs": [],
   "source": [
    "vehicle.torque = vehicle.torque.str.replace(\"(kgm\",\"\")"
   ]
  },
  {
   "cell_type": "code",
   "execution_count": 195,
   "id": "721f3b6a",
   "metadata": {},
   "outputs": [],
   "source": [
    "vehicle.torque = vehicle.torque.str.replace(\"(NM\",\"\")"
   ]
  },
  {
   "cell_type": "code",
   "execution_count": 196,
   "id": "c1d9d3da",
   "metadata": {},
   "outputs": [],
   "source": [
    "vehicle.torque = vehicle.torque.str.replace(\"+/\",\"\")"
   ]
  },
  {
   "cell_type": "code",
   "execution_count": 197,
   "id": "7c667d4b",
   "metadata": {},
   "outputs": [],
   "source": [
    "vehicle.torque = vehicle.torque.str.replace(\" \",\"\")"
   ]
  },
  {
   "cell_type": "code",
   "execution_count": 198,
   "id": "1d667260",
   "metadata": {},
   "outputs": [],
   "source": [
    "vehicle.torque = vehicle.torque.str.replace(\",\",\"\")"
   ]
  },
  {
   "cell_type": "code",
   "execution_count": 199,
   "id": "3cbd0ec4",
   "metadata": {},
   "outputs": [],
   "source": [
    "vehicle.torque = vehicle.torque.str.replace(\"~\",\"\")"
   ]
  },
  {
   "cell_type": "code",
   "execution_count": 200,
   "id": "57700efa",
   "metadata": {},
   "outputs": [],
   "source": [
    "# Calculating mean of the hyphen seperated numbers\n",
    "vehicle.torque = vehicle.torque.str.split('-', expand=True).astype(float).mean(axis=1)"
   ]
  },
  {
   "cell_type": "code",
   "execution_count": 201,
   "id": "ba39485e",
   "metadata": {},
   "outputs": [
    {
     "data": {
      "text/html": [
       "<div>\n",
       "<style scoped>\n",
       "    .dataframe tbody tr th:only-of-type {\n",
       "        vertical-align: middle;\n",
       "    }\n",
       "\n",
       "    .dataframe tbody tr th {\n",
       "        vertical-align: top;\n",
       "    }\n",
       "\n",
       "    .dataframe thead th {\n",
       "        text-align: right;\n",
       "    }\n",
       "</style>\n",
       "<table border=\"1\" class=\"dataframe\">\n",
       "  <thead>\n",
       "    <tr style=\"text-align: right;\">\n",
       "      <th></th>\n",
       "      <th>name</th>\n",
       "      <th>year</th>\n",
       "      <th>selling_price</th>\n",
       "      <th>km_driven</th>\n",
       "      <th>fuel</th>\n",
       "      <th>seller_type</th>\n",
       "      <th>transmission</th>\n",
       "      <th>owner</th>\n",
       "      <th>mileage</th>\n",
       "      <th>engine</th>\n",
       "      <th>max_power</th>\n",
       "      <th>torque</th>\n",
       "    </tr>\n",
       "  </thead>\n",
       "  <tbody>\n",
       "    <tr>\n",
       "      <th>0</th>\n",
       "      <td>Maruti Swift Dzire VDI</td>\n",
       "      <td>2014</td>\n",
       "      <td>450000</td>\n",
       "      <td>145500</td>\n",
       "      <td>Diesel</td>\n",
       "      <td>Individual</td>\n",
       "      <td>Manual</td>\n",
       "      <td>First Owner</td>\n",
       "      <td>23.4</td>\n",
       "      <td>1248</td>\n",
       "      <td>74</td>\n",
       "      <td>2000.0</td>\n",
       "    </tr>\n",
       "    <tr>\n",
       "      <th>1</th>\n",
       "      <td>Skoda Rapid 1.5 TDI Ambition</td>\n",
       "      <td>2014</td>\n",
       "      <td>370000</td>\n",
       "      <td>120000</td>\n",
       "      <td>Diesel</td>\n",
       "      <td>Individual</td>\n",
       "      <td>Manual</td>\n",
       "      <td>Second Owner</td>\n",
       "      <td>21.14</td>\n",
       "      <td>1498</td>\n",
       "      <td>103.52</td>\n",
       "      <td>2000.0</td>\n",
       "    </tr>\n",
       "  </tbody>\n",
       "</table>\n",
       "</div>"
      ],
      "text/plain": [
       "                           name  year  selling_price  km_driven    fuel  \\\n",
       "0        Maruti Swift Dzire VDI  2014         450000     145500  Diesel   \n",
       "1  Skoda Rapid 1.5 TDI Ambition  2014         370000     120000  Diesel   \n",
       "\n",
       "  seller_type transmission         owner mileage engine max_power  torque  \n",
       "0  Individual       Manual   First Owner    23.4  1248         74  2000.0  \n",
       "1  Individual       Manual  Second Owner   21.14  1498     103.52  2000.0  "
      ]
     },
     "execution_count": 201,
     "metadata": {},
     "output_type": "execute_result"
    }
   ],
   "source": [
    "vehicle.head(2)"
   ]
  },
  {
   "cell_type": "code",
   "execution_count": 202,
   "id": "3413b251",
   "metadata": {},
   "outputs": [
    {
     "data": {
      "text/plain": [
       "name               0\n",
       "year               0\n",
       "selling_price      0\n",
       "km_driven          0\n",
       "fuel               0\n",
       "seller_type        0\n",
       "transmission       0\n",
       "owner              0\n",
       "mileage          221\n",
       "engine           221\n",
       "max_power        215\n",
       "torque           487\n",
       "dtype: int64"
      ]
     },
     "execution_count": 202,
     "metadata": {},
     "output_type": "execute_result"
    }
   ],
   "source": [
    "# checking for missing values\n",
    "vehicle.isnull().sum()"
   ]
  },
  {
   "cell_type": "code",
   "execution_count": 203,
   "id": "73158c39",
   "metadata": {},
   "outputs": [],
   "source": [
    "# filling null values in Mileage , Engine, Max_power , torque"
   ]
  },
  {
   "cell_type": "code",
   "execution_count": 204,
   "id": "b3680dd6",
   "metadata": {},
   "outputs": [],
   "source": [
    "# Mileage -\n",
    "vehicle.mileage = vehicle.mileage.astype(float)"
   ]
  },
  {
   "cell_type": "code",
   "execution_count": 205,
   "id": "1a0eef3d",
   "metadata": {},
   "outputs": [
    {
     "data": {
      "text/plain": [
       "count    7907.000000\n",
       "mean       19.418783\n",
       "std         4.037145\n",
       "min         0.000000\n",
       "25%        16.780000\n",
       "50%        19.300000\n",
       "75%        22.320000\n",
       "max        42.000000\n",
       "Name: mileage, dtype: float64"
      ]
     },
     "execution_count": 205,
     "metadata": {},
     "output_type": "execute_result"
    }
   ],
   "source": [
    "vehicle.mileage.describe()"
   ]
  },
  {
   "cell_type": "code",
   "execution_count": 206,
   "id": "d2bb3304",
   "metadata": {},
   "outputs": [],
   "source": [
    "vehicle.mileage = vehicle.mileage.fillna(vehicle.mileage.mean())"
   ]
  },
  {
   "cell_type": "code",
   "execution_count": 207,
   "id": "d690e33a",
   "metadata": {},
   "outputs": [
    {
     "data": {
      "text/plain": [
       "0"
      ]
     },
     "execution_count": 207,
     "metadata": {},
     "output_type": "execute_result"
    }
   ],
   "source": [
    "vehicle.mileage.isnull().sum()"
   ]
  },
  {
   "cell_type": "code",
   "execution_count": 208,
   "id": "c0ac6d8e",
   "metadata": {},
   "outputs": [],
   "source": [
    "# Engine - \n",
    "vehicle.engine = vehicle.engine.astype(float)"
   ]
  },
  {
   "cell_type": "code",
   "execution_count": 209,
   "id": "ea4404a8",
   "metadata": {},
   "outputs": [
    {
     "data": {
      "text/plain": [
       "count    7907.000000\n",
       "mean     1458.625016\n",
       "std       503.916303\n",
       "min       624.000000\n",
       "25%      1197.000000\n",
       "50%      1248.000000\n",
       "75%      1582.000000\n",
       "max      3604.000000\n",
       "Name: engine, dtype: float64"
      ]
     },
     "execution_count": 209,
     "metadata": {},
     "output_type": "execute_result"
    }
   ],
   "source": [
    "vehicle.engine.describe()"
   ]
  },
  {
   "cell_type": "code",
   "execution_count": 210,
   "id": "7138ba01",
   "metadata": {},
   "outputs": [],
   "source": [
    "# as mean and meadian are not so close \n",
    "# there is a mean distrotion that means we have so many outliers \n",
    "# so we choose median over mean\n",
    "vehicle.engine = vehicle.engine.fillna(vehicle.engine.median())"
   ]
  },
  {
   "cell_type": "code",
   "execution_count": 211,
   "id": "aa580142",
   "metadata": {},
   "outputs": [
    {
     "data": {
      "text/plain": [
       "name               0\n",
       "year               0\n",
       "selling_price      0\n",
       "km_driven          0\n",
       "fuel               0\n",
       "seller_type        0\n",
       "transmission       0\n",
       "owner              0\n",
       "mileage            0\n",
       "engine             0\n",
       "max_power        215\n",
       "torque           487\n",
       "dtype: int64"
      ]
     },
     "execution_count": 211,
     "metadata": {},
     "output_type": "execute_result"
    }
   ],
   "source": [
    "vehicle.isnull().sum()"
   ]
  },
  {
   "cell_type": "code",
   "execution_count": 212,
   "id": "20e5f593",
   "metadata": {},
   "outputs": [],
   "source": [
    "# max_power \n",
    "vehicle.max_power = pd.to_numeric(vehicle.max_power, errors='coerce', downcast='float')"
   ]
  },
  {
   "cell_type": "code",
   "execution_count": 213,
   "id": "426b5ecc",
   "metadata": {
    "scrolled": true
   },
   "outputs": [
    {
     "data": {
      "text/plain": [
       "count    7912.000000\n",
       "mean       91.517914\n",
       "std        35.822365\n",
       "min         0.000000\n",
       "25%        68.050003\n",
       "50%        82.000000\n",
       "75%       102.000000\n",
       "max       400.000000\n",
       "Name: max_power, dtype: float64"
      ]
     },
     "execution_count": 213,
     "metadata": {},
     "output_type": "execute_result"
    }
   ],
   "source": [
    "vehicle.max_power.describe()"
   ]
  },
  {
   "cell_type": "code",
   "execution_count": 214,
   "id": "03fdfb81",
   "metadata": {},
   "outputs": [],
   "source": [
    "vehicle.max_power = vehicle.max_power.fillna(vehicle.max_power.median())"
   ]
  },
  {
   "cell_type": "code",
   "execution_count": 215,
   "id": "26c5d566",
   "metadata": {},
   "outputs": [
    {
     "data": {
      "text/plain": [
       "name               0\n",
       "year               0\n",
       "selling_price      0\n",
       "km_driven          0\n",
       "fuel               0\n",
       "seller_type        0\n",
       "transmission       0\n",
       "owner              0\n",
       "mileage            0\n",
       "engine             0\n",
       "max_power          0\n",
       "torque           487\n",
       "dtype: int64"
      ]
     },
     "execution_count": 215,
     "metadata": {},
     "output_type": "execute_result"
    }
   ],
   "source": [
    "vehicle.isnull().sum()"
   ]
  },
  {
   "cell_type": "code",
   "execution_count": 216,
   "id": "2704de15",
   "metadata": {},
   "outputs": [
    {
     "data": {
      "text/plain": [
       "count    7.641000e+03\n",
       "mean     6.824147e+03\n",
       "std      2.426905e+05\n",
       "min      1.300000e+03\n",
       "25%      2.000000e+03\n",
       "50%      2.400000e+03\n",
       "75%      4.000000e+03\n",
       "max      1.500450e+07\n",
       "Name: torque, dtype: float64"
      ]
     },
     "execution_count": 216,
     "metadata": {},
     "output_type": "execute_result"
    }
   ],
   "source": [
    "# torque \n",
    "vehicle.torque.describe()"
   ]
  },
  {
   "cell_type": "code",
   "execution_count": 217,
   "id": "96a180d4",
   "metadata": {},
   "outputs": [],
   "source": [
    "vehicle.torque = vehicle.torque.fillna(vehicle.torque.median())"
   ]
  },
  {
   "cell_type": "code",
   "execution_count": 218,
   "id": "ed9c82cf",
   "metadata": {},
   "outputs": [
    {
     "data": {
      "text/plain": [
       "name             0\n",
       "year             0\n",
       "selling_price    0\n",
       "km_driven        0\n",
       "fuel             0\n",
       "seller_type      0\n",
       "transmission     0\n",
       "owner            0\n",
       "mileage          0\n",
       "engine           0\n",
       "max_power        0\n",
       "torque           0\n",
       "dtype: int64"
      ]
     },
     "execution_count": 218,
     "metadata": {},
     "output_type": "execute_result"
    }
   ],
   "source": [
    "vehicle.isnull().sum()"
   ]
  },
  {
   "cell_type": "code",
   "execution_count": 219,
   "id": "762a347e",
   "metadata": {},
   "outputs": [],
   "source": [
    "# All missing values are imputed"
   ]
  },
  {
   "cell_type": "markdown",
   "id": "2ca986e8",
   "metadata": {},
   "source": [
    "## Data Visualization"
   ]
  },
  {
   "cell_type": "code",
   "execution_count": 220,
   "id": "8c0ad82d",
   "metadata": {},
   "outputs": [
    {
     "data": {
      "image/png": "[encoded data removed]",
      "text/plain": [
       "<Figure size 640x480 with 1 Axes>"
      ]
     },
     "metadata": {},
     "output_type": "display_data"
    }
   ],
   "source": [
    "ax=vehicle.selling_price.plot(kind=\"hist\")\n",
    "for i in ax.containers:\n",
    "    ax.bar_label(i,label_type=\"edge\")"
   ]
  },
  {
   "cell_type": "code",
   "execution_count": 221,
   "id": "80f7e6ff",
   "metadata": {},
   "outputs": [
    {
     "data": {
      "text/plain": [
       "<Axes: >"
      ]
     },
     "execution_count": 221,
     "metadata": {},
     "output_type": "execute_result"
    },
    {
     "data": {
      "image/png": "[encoded data removed]",
      "text/plain": [
       "<Figure size 640x480 with 1 Axes>"
      ]
     },
     "metadata": {},
     "output_type": "display_data"
    }
   ],
   "source": [
    "sns.boxplot(vehicle.selling_price,orient=\"h\")"
   ]
  },
  {
   "cell_type": "code",
   "execution_count": 222,
   "id": "bd0f8f0f",
   "metadata": {},
   "outputs": [
    {
     "data": {
      "text/plain": [
       "<Axes: xlabel='selling_price', ylabel='Density'>"
      ]
     },
     "execution_count": 222,
     "metadata": {},
     "output_type": "execute_result"
    },
    {
     "data": {
      "image/png": "[encoded data removed]",
      "text/plain": [
       "<Figure size 640x480 with 1 Axes>"
      ]
     },
     "metadata": {},
     "output_type": "display_data"
    }
   ],
   "source": [
    "sns.kdeplot(vehicle.selling_price)"
   ]
  },
  {
   "cell_type": "code",
   "execution_count": 223,
   "id": "1f867f92",
   "metadata": {
    "scrolled": true
   },
   "outputs": [
    {
     "data": {
      "text/plain": [
       "<Figure size 3000x1500 with 0 Axes>"
      ]
     },
     "metadata": {},
     "output_type": "display_data"
    },
    {
     "data": {
      "image/png": "[encoded data removed]",
      "text/plain": [
       "<Figure size 640x480 with 3 Axes>"
      ]
     },
     "metadata": {},
     "output_type": "display_data"
    }
   ],
   "source": [
    "plt.figure(figsize=(30,15))\n",
    "fig,ax=plt.subplots(3,1)\n",
    "sns.histplot(vehicle.selling_price,ax=ax[0])\n",
    "sns.boxplot(vehicle.selling_price,orient=\"h\",ax=ax[1])\n",
    "sns.kdeplot(vehicle.selling_price,ax=ax[2])\n",
    "plt.show()"
   ]
  },
  {
   "cell_type": "markdown",
   "id": "08d5da4f",
   "metadata": {},
   "source": [
    "#### Dependent Varibale (selling_price) is positively skewed, <br> in order to bring it to normally distributed we use logarithmic transformation<br>"
   ]
  },
  {
   "cell_type": "code",
   "execution_count": 224,
   "id": "a980dae6",
   "metadata": {},
   "outputs": [
    {
     "data": {
      "text/plain": [
       "<Figure size 3000x1500 with 0 Axes>"
      ]
     },
     "metadata": {},
     "output_type": "display_data"
    },
    {
     "data": {
      "image/png": "[encoded data removed]",
      "text/plain": [
       "<Figure size 640x480 with 3 Axes>"
      ]
     },
     "metadata": {},
     "output_type": "display_data"
    }
   ],
   "source": [
    "plt.figure(figsize=(30,15))\n",
    "fig,ax=plt.subplots(3,1)\n",
    "sns.histplot(np.log(vehicle.selling_price),ax=ax[0])\n",
    "sns.boxplot(np.log(vehicle.selling_price),orient=\"h\",ax=ax[1])\n",
    "sns.kdeplot(np.log(vehicle.selling_price),ax=ax[2])\n",
    "plt.show()"
   ]
  },
  {
   "cell_type": "code",
   "execution_count": 225,
   "id": "fe794c7a",
   "metadata": {},
   "outputs": [
    {
     "data": {
      "text/plain": [
       "10000000"
      ]
     },
     "execution_count": 225,
     "metadata": {},
     "output_type": "execute_result"
    }
   ],
   "source": [
    "vehicle.selling_price.max()"
   ]
  },
  {
   "cell_type": "code",
   "execution_count": 226,
   "id": "fca88582",
   "metadata": {
    "scrolled": true
   },
   "outputs": [
    {
     "data": {
      "text/plain": [
       "selling_price\n",
       "(500000, 1000000]      2668\n",
       "(1000000, 1500000]      292\n",
       "(1500000, 2000000]      171\n",
       "(2000000, 2500000]       59\n",
       "(2500000, 3000000]       70\n",
       "(3000000, 10000000]     229\n",
       "Name: count, dtype: int64"
      ]
     },
     "execution_count": 226,
     "metadata": {},
     "output_type": "execute_result"
    }
   ],
   "source": [
    "# Frequency Distribution Table\n",
    "pd.cut(vehicle.selling_price,bins=[500000,1000000,1500000,2000000,2500000,3000000,10000000]).value_counts().sort_index()"
   ]
  },
  {
   "cell_type": "code",
   "execution_count": 227,
   "id": "b40ba645",
   "metadata": {},
   "outputs": [
    {
     "data": {
      "image/png": "[encoded data removed]",
      "text/plain": [
       "<Figure size 640x480 with 1 Axes>"
      ]
     },
     "metadata": {},
     "output_type": "display_data"
    }
   ],
   "source": [
    "# Bar Plot for Frequency Distribution Table\n",
    "ax=pd.cut(vehicle.selling_price,bins=[500000,1000000,1500000,2000000,2500000,3000000,10000000]\n",
    "         ).value_counts().sort_index().plot(kind=\"bar\",color=\"green\")\n",
    "\n",
    "for i in ax.containers :\n",
    "    ax.bar_label(i)\n",
    "plt.show()"
   ]
  },
  {
   "cell_type": "code",
   "execution_count": 228,
   "id": "9b897b83",
   "metadata": {
    "scrolled": true
   },
   "outputs": [
    {
     "data": {
      "text/plain": [
       "<Axes: >"
      ]
     },
     "execution_count": 228,
     "metadata": {},
     "output_type": "execute_result"
    },
    {
     "data": {
      "text/plain": [
       "<Figure size 2000x2000 with 0 Axes>"
      ]
     },
     "metadata": {},
     "output_type": "display_data"
    },
    {
     "data": {
      "image/png": "[encoded data removed]",
      "text/plain": [
       "<Figure size 640x480 with 1 Axes>"
      ]
     },
     "metadata": {},
     "output_type": "display_data"
    }
   ],
   "source": [
    "plt.figure(figsize=(20,20))\n",
    "vehicle.plot(kind=\"box\",vert=False)"
   ]
  },
  {
   "cell_type": "code",
   "execution_count": 229,
   "id": "846c64f9",
   "metadata": {},
   "outputs": [
    {
     "data": {
      "image/png": "[encoded data removed]",
      "text/plain": [
       "<Figure size 640x480 with 1 Axes>"
      ]
     },
     "metadata": {},
     "output_type": "display_data"
    }
   ],
   "source": [
    "ax = pd.crosstab(vehicle.fuel,vehicle.transmission).plot(kind=\"bar\")\n",
    "\n",
    "for i in ax.containers :\n",
    "    ax.bar_label(i)"
   ]
  },
  {
   "cell_type": "code",
   "execution_count": 230,
   "id": "401fe54b",
   "metadata": {
    "scrolled": true
   },
   "outputs": [
    {
     "data": {
      "image/png": "[encoded data removed]",
      "text/plain": [
       "<Figure size 640x480 with 1 Axes>"
      ]
     },
     "metadata": {},
     "output_type": "display_data"
    }
   ],
   "source": [
    "ax = sns.barplot(vehicle,x=\"fuel\",y=\"selling_price\",errorbar=None)\n",
    "ax.bar_label(ax.containers[0])\n",
    "plt.show()"
   ]
  },
  {
   "cell_type": "code",
   "execution_count": 231,
   "id": "8916cdfa",
   "metadata": {
    "scrolled": true
   },
   "outputs": [
    {
     "data": {
      "text/plain": [
       "<Axes: ylabel='count'>"
      ]
     },
     "execution_count": 231,
     "metadata": {},
     "output_type": "execute_result"
    },
    {
     "data": {
      "image/png": "[encoded data removed]",
      "text/plain": [
       "<Figure size 400x400 with 1 Axes>"
      ]
     },
     "metadata": {},
     "output_type": "display_data"
    }
   ],
   "source": [
    "vehicle.fuel.value_counts().plot(kind=\"pie\",autopct=\"%.2f%%\",figsize=(4,4))"
   ]
  },
  {
   "cell_type": "markdown",
   "id": "32f3e986",
   "metadata": {},
   "source": [
    "## Data Aggregation"
   ]
  },
  {
   "cell_type": "code",
   "execution_count": 232,
   "id": "fa67f32a",
   "metadata": {},
   "outputs": [
    {
     "data": {
      "text/plain": [
       "fuel\n",
       "CNG       301017.491228\n",
       "Diesel    791452.921627\n",
       "LPG       200421.052632\n",
       "Petrol    462441.061691\n",
       "Name: selling_price, dtype: float64"
      ]
     },
     "execution_count": 232,
     "metadata": {},
     "output_type": "execute_result"
    }
   ],
   "source": [
    "vehicle.selling_price.groupby(vehicle.fuel).mean()"
   ]
  },
  {
   "cell_type": "code",
   "execution_count": 233,
   "id": "e9621c37",
   "metadata": {},
   "outputs": [
    {
     "data": {
      "text/plain": [
       "transmission\n",
       "Automatic    1.870828e+06\n",
       "Manual       4.554259e+05\n",
       "Name: selling_price, dtype: float64"
      ]
     },
     "execution_count": 233,
     "metadata": {},
     "output_type": "execute_result"
    }
   ],
   "source": [
    "vehicle.selling_price.groupby(vehicle.transmission).mean()"
   ]
  },
  {
   "cell_type": "code",
   "execution_count": 234,
   "id": "de97a041",
   "metadata": {},
   "outputs": [
    {
     "data": {
      "text/plain": [
       "fuel\n",
       "CNG       23.832546\n",
       "Diesel    19.637386\n",
       "LPG       18.643588\n",
       "Petrol    19.092587\n",
       "Name: mileage, dtype: float64"
      ]
     },
     "execution_count": 234,
     "metadata": {},
     "output_type": "execute_result"
    }
   ],
   "source": [
    "vehicle.mileage.groupby(vehicle.fuel).mean()"
   ]
  },
  {
   "cell_type": "code",
   "execution_count": 235,
   "id": "f8da7e7a",
   "metadata": {
    "scrolled": true
   },
   "outputs": [
    {
     "data": {
      "text/html": [
       "<div>\n",
       "<style scoped>\n",
       "    .dataframe tbody tr th:only-of-type {\n",
       "        vertical-align: middle;\n",
       "    }\n",
       "\n",
       "    .dataframe tbody tr th {\n",
       "        vertical-align: top;\n",
       "    }\n",
       "\n",
       "    .dataframe thead th {\n",
       "        text-align: right;\n",
       "    }\n",
       "</style>\n",
       "<table border=\"1\" class=\"dataframe\">\n",
       "  <thead>\n",
       "    <tr style=\"text-align: right;\">\n",
       "      <th>transmission</th>\n",
       "      <th>Automatic</th>\n",
       "      <th>Manual</th>\n",
       "    </tr>\n",
       "    <tr>\n",
       "      <th>fuel</th>\n",
       "      <th></th>\n",
       "      <th></th>\n",
       "    </tr>\n",
       "  </thead>\n",
       "  <tbody>\n",
       "    <tr>\n",
       "      <th>CNG</th>\n",
       "      <td>0</td>\n",
       "      <td>57</td>\n",
       "    </tr>\n",
       "    <tr>\n",
       "      <th>Diesel</th>\n",
       "      <td>534</td>\n",
       "      <td>3868</td>\n",
       "    </tr>\n",
       "    <tr>\n",
       "      <th>LPG</th>\n",
       "      <td>0</td>\n",
       "      <td>38</td>\n",
       "    </tr>\n",
       "    <tr>\n",
       "      <th>Petrol</th>\n",
       "      <td>516</td>\n",
       "      <td>3115</td>\n",
       "    </tr>\n",
       "  </tbody>\n",
       "</table>\n",
       "</div>"
      ],
      "text/plain": [
       "transmission  Automatic  Manual\n",
       "fuel                           \n",
       "CNG                   0      57\n",
       "Diesel              534    3868\n",
       "LPG                   0      38\n",
       "Petrol              516    3115"
      ]
     },
     "execution_count": 235,
     "metadata": {},
     "output_type": "execute_result"
    }
   ],
   "source": [
    "pd.crosstab(vehicle.fuel,vehicle.transmission)"
   ]
  },
  {
   "cell_type": "code",
   "execution_count": 236,
   "id": "0dc0b711",
   "metadata": {},
   "outputs": [
    {
     "data": {
      "text/html": [
       "<div>\n",
       "<style scoped>\n",
       "    .dataframe tbody tr th:only-of-type {\n",
       "        vertical-align: middle;\n",
       "    }\n",
       "\n",
       "    .dataframe tbody tr th {\n",
       "        vertical-align: top;\n",
       "    }\n",
       "\n",
       "    .dataframe thead th {\n",
       "        text-align: right;\n",
       "    }\n",
       "</style>\n",
       "<table border=\"1\" class=\"dataframe\">\n",
       "  <thead>\n",
       "    <tr style=\"text-align: right;\">\n",
       "      <th>owner</th>\n",
       "      <th>First Owner</th>\n",
       "      <th>Fourth &amp; Above Owner</th>\n",
       "      <th>Second Owner</th>\n",
       "      <th>Test Drive Car</th>\n",
       "      <th>Third Owner</th>\n",
       "    </tr>\n",
       "    <tr>\n",
       "      <th>fuel</th>\n",
       "      <th></th>\n",
       "      <th></th>\n",
       "      <th></th>\n",
       "      <th></th>\n",
       "      <th></th>\n",
       "    </tr>\n",
       "  </thead>\n",
       "  <tbody>\n",
       "    <tr>\n",
       "      <th>CNG</th>\n",
       "      <td>34</td>\n",
       "      <td>2</td>\n",
       "      <td>18</td>\n",
       "      <td>0</td>\n",
       "      <td>3</td>\n",
       "    </tr>\n",
       "    <tr>\n",
       "      <th>Diesel</th>\n",
       "      <td>2804</td>\n",
       "      <td>88</td>\n",
       "      <td>1223</td>\n",
       "      <td>1</td>\n",
       "      <td>286</td>\n",
       "    </tr>\n",
       "    <tr>\n",
       "      <th>LPG</th>\n",
       "      <td>17</td>\n",
       "      <td>2</td>\n",
       "      <td>14</td>\n",
       "      <td>0</td>\n",
       "      <td>5</td>\n",
       "    </tr>\n",
       "    <tr>\n",
       "      <th>Petrol</th>\n",
       "      <td>2434</td>\n",
       "      <td>82</td>\n",
       "      <td>850</td>\n",
       "      <td>4</td>\n",
       "      <td>261</td>\n",
       "    </tr>\n",
       "  </tbody>\n",
       "</table>\n",
       "</div>"
      ],
      "text/plain": [
       "owner   First Owner  Fourth & Above Owner  Second Owner  Test Drive Car  \\\n",
       "fuel                                                                      \n",
       "CNG              34                     2            18               0   \n",
       "Diesel         2804                    88          1223               1   \n",
       "LPG              17                     2            14               0   \n",
       "Petrol         2434                    82           850               4   \n",
       "\n",
       "owner   Third Owner  \n",
       "fuel                 \n",
       "CNG               3  \n",
       "Diesel          286  \n",
       "LPG               5  \n",
       "Petrol          261  "
      ]
     },
     "execution_count": 236,
     "metadata": {},
     "output_type": "execute_result"
    }
   ],
   "source": [
    "pd.crosstab(vehicle.fuel,vehicle.owner)"
   ]
  },
  {
   "cell_type": "code",
   "execution_count": 237,
   "id": "b70bfb83",
   "metadata": {},
   "outputs": [
    {
     "data": {
      "text/plain": [
       "fuel\n",
       "CNG        3223.684211\n",
       "Diesel     2136.379487\n",
       "LPG        3581.578947\n",
       "Petrol    12004.381988\n",
       "Name: torque, dtype: float64"
      ]
     },
     "execution_count": 237,
     "metadata": {},
     "output_type": "execute_result"
    }
   ],
   "source": [
    "vehicle.torque.groupby(vehicle.fuel).mean()"
   ]
  },
  {
   "cell_type": "markdown",
   "id": "f4bb0469",
   "metadata": {},
   "source": [
    "## Hypothesis Testing :"
   ]
  },
  {
   "cell_type": "code",
   "execution_count": 238,
   "id": "7c52c3cf",
   "metadata": {},
   "outputs": [
    {
     "data": {
      "text/plain": [
       "fuel\n",
       "CNG       301017.491228\n",
       "Diesel    791452.921627\n",
       "LPG       200421.052632\n",
       "Petrol    462441.061691\n",
       "Name: selling_price, dtype: float64"
      ]
     },
     "execution_count": 238,
     "metadata": {},
     "output_type": "execute_result"
    }
   ],
   "source": [
    "#Test Null Average Selling_price of diff fuel cars\n",
    "vehicle.selling_price.groupby(vehicle.fuel).mean()"
   ]
  },
  {
   "cell_type": "code",
   "execution_count": 239,
   "id": "1552e15e",
   "metadata": {},
   "outputs": [],
   "source": [
    "# As we have more than 2 levels we use Anova test (f_oneway)"
   ]
  },
  {
   "cell_type": "code",
   "execution_count": 240,
   "id": "f6d55b8e",
   "metadata": {},
   "outputs": [],
   "source": [
    "cng = vehicle[vehicle.fuel == \"CNG\"]\n",
    "diesel = vehicle[vehicle.fuel == \"Diesel\"]\n",
    "lpg = vehicle[vehicle.fuel == \"LPG\"]\n",
    "petrol = vehicle[vehicle.fuel == \"Petrol\"]"
   ]
  },
  {
   "cell_type": "code",
   "execution_count": 241,
   "id": "c509b198",
   "metadata": {},
   "outputs": [],
   "source": [
    "from scipy.stats import f_oneway"
   ]
  },
  {
   "cell_type": "code",
   "execution_count": 242,
   "id": "a015c04e",
   "metadata": {},
   "outputs": [
    {
     "data": {
      "text/plain": [
       "F_onewayResult(statistic=122.88062883888716, pvalue=7.768067697277526e-78)"
      ]
     },
     "execution_count": 242,
     "metadata": {},
     "output_type": "execute_result"
    }
   ],
   "source": [
    "f_oneway(cng.selling_price,diesel.selling_price,lpg.selling_price,petrol.selling_price)\n",
    "# Since pvalue = 7.768067697277526e-78 is lessthan 0.05, Reject Null Hypothesis"
   ]
  },
  {
   "cell_type": "markdown",
   "id": "71c29056",
   "metadata": {},
   "source": [
    "Null:There is no significante difference Average Selling_price of cng,diesel,lpg,petrol.<br>\n",
    "Alternate:There is a significante difference between Average Selling_price of cng,diesel,lpg,petrol .<br>"
   ]
  },
  {
   "cell_type": "code",
   "execution_count": 243,
   "id": "68c40fdb",
   "metadata": {},
   "outputs": [
    {
     "data": {
      "text/plain": [
       "transmission\n",
       "Automatic    1.870828e+06\n",
       "Manual       4.554259e+05\n",
       "Name: selling_price, dtype: float64"
      ]
     },
     "execution_count": 243,
     "metadata": {},
     "output_type": "execute_result"
    }
   ],
   "source": [
    "#Test Null Average Selling_price of diff Transmission\n",
    "vehicle.selling_price.groupby(vehicle.transmission).mean()"
   ]
  },
  {
   "cell_type": "code",
   "execution_count": 244,
   "id": "e4f61766",
   "metadata": {
    "scrolled": true
   },
   "outputs": [
    {
     "data": {
      "text/plain": [
       "transmission\n",
       "Automatic    2.691349e+12\n",
       "Manual       8.872370e+10\n",
       "Name: selling_price, dtype: float64"
      ]
     },
     "execution_count": 244,
     "metadata": {},
     "output_type": "execute_result"
    }
   ],
   "source": [
    "vehicle.selling_price.groupby(vehicle.transmission).var()"
   ]
  },
  {
   "cell_type": "code",
   "execution_count": 245,
   "id": "39adb6f4",
   "metadata": {},
   "outputs": [],
   "source": [
    "automatic = vehicle[vehicle.transmission == \"Automatic\"]\n",
    "manual = vehicle[vehicle.transmission == \"Manual\"]"
   ]
  },
  {
   "cell_type": "code",
   "execution_count": 246,
   "id": "21f2910e",
   "metadata": {},
   "outputs": [],
   "source": [
    "# As we have exactly 2 levels we use ttest\n",
    "from scipy.stats import ttest_ind"
   ]
  },
  {
   "cell_type": "code",
   "execution_count": 247,
   "id": "0ccffa87",
   "metadata": {},
   "outputs": [
    {
     "data": {
      "text/plain": [
       "TtestResult(statistic=27.888813193478946, pvalue=8.531946079710315e-129, df=1059.2814874514092)"
      ]
     },
     "execution_count": 247,
     "metadata": {},
     "output_type": "execute_result"
    }
   ],
   "source": [
    "ttest_ind(automatic.selling_price,manual.selling_price,equal_var=False)\n",
    "# Since pvalue=8.531946079710315e-129 is less than 0.05, reject Null Hypothesis"
   ]
  },
  {
   "cell_type": "code",
   "execution_count": 248,
   "id": "9d739d4b",
   "metadata": {},
   "outputs": [
    {
     "data": {
      "text/html": [
       "<div>\n",
       "<style scoped>\n",
       "    .dataframe tbody tr th:only-of-type {\n",
       "        vertical-align: middle;\n",
       "    }\n",
       "\n",
       "    .dataframe tbody tr th {\n",
       "        vertical-align: top;\n",
       "    }\n",
       "\n",
       "    .dataframe thead th {\n",
       "        text-align: right;\n",
       "    }\n",
       "</style>\n",
       "<table border=\"1\" class=\"dataframe\">\n",
       "  <thead>\n",
       "    <tr style=\"text-align: right;\">\n",
       "      <th>transmission</th>\n",
       "      <th>Automatic</th>\n",
       "      <th>Manual</th>\n",
       "    </tr>\n",
       "    <tr>\n",
       "      <th>fuel</th>\n",
       "      <th></th>\n",
       "      <th></th>\n",
       "    </tr>\n",
       "  </thead>\n",
       "  <tbody>\n",
       "    <tr>\n",
       "      <th>CNG</th>\n",
       "      <td>0</td>\n",
       "      <td>57</td>\n",
       "    </tr>\n",
       "    <tr>\n",
       "      <th>Diesel</th>\n",
       "      <td>534</td>\n",
       "      <td>3868</td>\n",
       "    </tr>\n",
       "    <tr>\n",
       "      <th>LPG</th>\n",
       "      <td>0</td>\n",
       "      <td>38</td>\n",
       "    </tr>\n",
       "    <tr>\n",
       "      <th>Petrol</th>\n",
       "      <td>516</td>\n",
       "      <td>3115</td>\n",
       "    </tr>\n",
       "  </tbody>\n",
       "</table>\n",
       "</div>"
      ],
      "text/plain": [
       "transmission  Automatic  Manual\n",
       "fuel                           \n",
       "CNG                   0      57\n",
       "Diesel              534    3868\n",
       "LPG                   0      38\n",
       "Petrol              516    3115"
      ]
     },
     "execution_count": 248,
     "metadata": {},
     "output_type": "execute_result"
    }
   ],
   "source": [
    "#Test Null No Association between fuel and transmission\n",
    "pd.crosstab(vehicle.fuel,vehicle.transmission)"
   ]
  },
  {
   "cell_type": "code",
   "execution_count": 249,
   "id": "9c1e5761",
   "metadata": {},
   "outputs": [],
   "source": [
    "from scipy.stats import chi2_contingency"
   ]
  },
  {
   "cell_type": "markdown",
   "id": "aa15ca0e",
   "metadata": {},
   "source": [
    "Null - There is no Association between fuel and Transmission<br>\n",
    "Alt - There is Association between fuel and Transmission<br>"
   ]
  },
  {
   "cell_type": "code",
   "execution_count": 250,
   "id": "fa28b1f6",
   "metadata": {},
   "outputs": [
    {
     "data": {
      "text/plain": [
       "Chi2ContingencyResult(statistic=21.912764347384904, pvalue=6.801498516561924e-05, dof=3, expected_freq=array([[   7.36343504,   49.63656496],\n",
       "       [ 568.66387795, 3833.33612205],\n",
       "       [   4.90895669,   33.09104331],\n",
       "       [ 469.06373031, 3161.93626969]]))"
      ]
     },
     "execution_count": 250,
     "metadata": {},
     "output_type": "execute_result"
    }
   ],
   "source": [
    "chi2_contingency(pd.crosstab(vehicle.fuel,vehicle.transmission))\n",
    "# since pvalue = 6.801498516561924e-05 is less than 0.05, Reject Null Hypothesis"
   ]
  },
  {
   "cell_type": "markdown",
   "id": "c69658ea",
   "metadata": {},
   "source": [
    "## Data PreProcessing :"
   ]
  },
  {
   "cell_type": "code",
   "execution_count": 251,
   "id": "8f872b2f",
   "metadata": {},
   "outputs": [
    {
     "name": "stdout",
     "output_type": "stream",
     "text": [
      "<class 'pandas.core.frame.DataFrame'>\n",
      "RangeIndex: 8128 entries, 0 to 8127\n",
      "Data columns (total 12 columns):\n",
      " #   Column         Non-Null Count  Dtype  \n",
      "---  ------         --------------  -----  \n",
      " 0   name           8128 non-null   object \n",
      " 1   year           8128 non-null   int64  \n",
      " 2   selling_price  8128 non-null   int64  \n",
      " 3   km_driven      8128 non-null   int64  \n",
      " 4   fuel           8128 non-null   object \n",
      " 5   seller_type    8128 non-null   object \n",
      " 6   transmission   8128 non-null   object \n",
      " 7   owner          8128 non-null   object \n",
      " 8   mileage        8128 non-null   float64\n",
      " 9   engine         8128 non-null   float64\n",
      " 10  max_power      8128 non-null   float32\n",
      " 11  torque         8128 non-null   float64\n",
      "dtypes: float32(1), float64(3), int64(3), object(5)\n",
      "memory usage: 730.4+ KB\n"
     ]
    }
   ],
   "source": [
    "vehicle.info()"
   ]
  },
  {
   "cell_type": "code",
   "execution_count": 252,
   "id": "805cbcba-bfaf-40b5-8e44-46fe756228ab",
   "metadata": {},
   "outputs": [],
   "source": [
    "vehicle = vehicle.drop(\"year\",axis=1)"
   ]
  },
  {
   "cell_type": "code",
   "execution_count": 253,
   "id": "8fab127b",
   "metadata": {},
   "outputs": [],
   "source": [
    "# Splitting\n",
    "numcols = vehicle.select_dtypes(include=np.number)\n",
    "objcols = vehicle.select_dtypes(include=[\"object\"])"
   ]
  },
  {
   "cell_type": "code",
   "execution_count": 254,
   "id": "be734055",
   "metadata": {
    "scrolled": true
   },
   "outputs": [
    {
     "data": {
      "text/plain": [
       "Index(['selling_price', 'km_driven', 'mileage', 'engine', 'max_power',\n",
       "       'torque'],\n",
       "      dtype='object')"
      ]
     },
     "execution_count": 254,
     "metadata": {},
     "output_type": "execute_result"
    }
   ],
   "source": [
    "numcols.columns"
   ]
  },
  {
   "cell_type": "code",
   "execution_count": 255,
   "id": "a9574fc9",
   "metadata": {},
   "outputs": [
    {
     "data": {
      "text/plain": [
       "Index(['name', 'fuel', 'seller_type', 'transmission', 'owner'], dtype='object')"
      ]
     },
     "execution_count": 255,
     "metadata": {},
     "output_type": "execute_result"
    }
   ],
   "source": [
    "objcols.columns"
   ]
  },
  {
   "cell_type": "code",
   "execution_count": 256,
   "id": "543108fd",
   "metadata": {},
   "outputs": [
    {
     "name": "stdout",
     "output_type": "stream",
     "text": [
      "(8128, 6)\n",
      "(8128, 5)\n"
     ]
    }
   ],
   "source": [
    "print(numcols.shape)\n",
    "print(objcols.shape)"
   ]
  },
  {
   "cell_type": "code",
   "execution_count": 257,
   "id": "2db56627",
   "metadata": {},
   "outputs": [
    {
     "data": {
      "text/html": [
       "<div>\n",
       "<style scoped>\n",
       "    .dataframe tbody tr th:only-of-type {\n",
       "        vertical-align: middle;\n",
       "    }\n",
       "\n",
       "    .dataframe tbody tr th {\n",
       "        vertical-align: top;\n",
       "    }\n",
       "\n",
       "    .dataframe thead th {\n",
       "        text-align: right;\n",
       "    }\n",
       "</style>\n",
       "<table border=\"1\" class=\"dataframe\">\n",
       "  <thead>\n",
       "    <tr style=\"text-align: right;\">\n",
       "      <th></th>\n",
       "      <th>selling_price</th>\n",
       "      <th>km_driven</th>\n",
       "      <th>mileage</th>\n",
       "      <th>engine</th>\n",
       "      <th>max_power</th>\n",
       "      <th>torque</th>\n",
       "    </tr>\n",
       "  </thead>\n",
       "  <tbody>\n",
       "    <tr>\n",
       "      <th>0</th>\n",
       "      <td>450000</td>\n",
       "      <td>145500</td>\n",
       "      <td>23.40</td>\n",
       "      <td>1248.0</td>\n",
       "      <td>74.000000</td>\n",
       "      <td>2000.0</td>\n",
       "    </tr>\n",
       "    <tr>\n",
       "      <th>1</th>\n",
       "      <td>370000</td>\n",
       "      <td>120000</td>\n",
       "      <td>21.14</td>\n",
       "      <td>1498.0</td>\n",
       "      <td>103.519997</td>\n",
       "      <td>2000.0</td>\n",
       "    </tr>\n",
       "  </tbody>\n",
       "</table>\n",
       "</div>"
      ],
      "text/plain": [
       "   selling_price  km_driven  mileage  engine   max_power  torque\n",
       "0         450000     145500    23.40  1248.0   74.000000  2000.0\n",
       "1         370000     120000    21.14  1498.0  103.519997  2000.0"
      ]
     },
     "execution_count": 257,
     "metadata": {},
     "output_type": "execute_result"
    }
   ],
   "source": [
    "numcols.head(2)"
   ]
  },
  {
   "cell_type": "code",
   "execution_count": 258,
   "id": "695ceae1",
   "metadata": {},
   "outputs": [
    {
     "data": {
      "text/plain": [
       "<Axes: >"
      ]
     },
     "execution_count": 258,
     "metadata": {},
     "output_type": "execute_result"
    },
    {
     "data": {
      "image/png": "[encoded data removed]",
      "text/plain": [
       "<Figure size 1200x500 with 2 Axes>"
      ]
     },
     "metadata": {},
     "output_type": "display_data"
    }
   ],
   "source": [
    "plt.figure(figsize=(12,5))\n",
    "sns.heatmap(numcols.corr(),annot=True)"
   ]
  },
  {
   "cell_type": "code",
   "execution_count": 259,
   "id": "023bf49d",
   "metadata": {},
   "outputs": [],
   "source": [
    "y = numcols.selling_price"
   ]
  },
  {
   "cell_type": "code",
   "execution_count": 260,
   "id": "56b7f54c-1dca-46dc-b2f5-d4a7e511a3dd",
   "metadata": {},
   "outputs": [],
   "source": [
    "numcols = numcols.drop(\"selling_price\",axis=1)"
   ]
  },
  {
   "cell_type": "code",
   "execution_count": 261,
   "id": "ac3cb56a",
   "metadata": {
    "scrolled": true
   },
   "outputs": [
    {
     "data": {
      "text/html": [
       "<div>\n",
       "<style scoped>\n",
       "    .dataframe tbody tr th:only-of-type {\n",
       "        vertical-align: middle;\n",
       "    }\n",
       "\n",
       "    .dataframe tbody tr th {\n",
       "        vertical-align: top;\n",
       "    }\n",
       "\n",
       "    .dataframe thead th {\n",
       "        text-align: right;\n",
       "    }\n",
       "</style>\n",
       "<table border=\"1\" class=\"dataframe\">\n",
       "  <thead>\n",
       "    <tr style=\"text-align: right;\">\n",
       "      <th></th>\n",
       "      <th>km_driven</th>\n",
       "      <th>mileage</th>\n",
       "      <th>engine</th>\n",
       "      <th>max_power</th>\n",
       "      <th>torque</th>\n",
       "    </tr>\n",
       "  </thead>\n",
       "  <tbody>\n",
       "    <tr>\n",
       "      <th>count</th>\n",
       "      <td>8.128000e+03</td>\n",
       "      <td>8128.000000</td>\n",
       "      <td>8128.00000</td>\n",
       "      <td>8128.000000</td>\n",
       "      <td>8.128000e+03</td>\n",
       "    </tr>\n",
       "    <tr>\n",
       "      <th>mean</th>\n",
       "      <td>6.981951e+04</td>\n",
       "      <td>19.418783</td>\n",
       "      <td>1452.89813</td>\n",
       "      <td>91.264977</td>\n",
       "      <td>6.559068e+03</td>\n",
       "    </tr>\n",
       "    <tr>\n",
       "      <th>std</th>\n",
       "      <td>5.655055e+04</td>\n",
       "      <td>3.981875</td>\n",
       "      <td>498.19672</td>\n",
       "      <td>35.376476</td>\n",
       "      <td>2.353090e+05</td>\n",
       "    </tr>\n",
       "    <tr>\n",
       "      <th>min</th>\n",
       "      <td>1.000000e+00</td>\n",
       "      <td>0.000000</td>\n",
       "      <td>624.00000</td>\n",
       "      <td>0.000000</td>\n",
       "      <td>1.300000e+03</td>\n",
       "    </tr>\n",
       "    <tr>\n",
       "      <th>25%</th>\n",
       "      <td>3.500000e+04</td>\n",
       "      <td>16.800000</td>\n",
       "      <td>1197.00000</td>\n",
       "      <td>68.099998</td>\n",
       "      <td>2.125000e+03</td>\n",
       "    </tr>\n",
       "    <tr>\n",
       "      <th>50%</th>\n",
       "      <td>6.000000e+04</td>\n",
       "      <td>19.418783</td>\n",
       "      <td>1248.00000</td>\n",
       "      <td>82.000000</td>\n",
       "      <td>2.400000e+03</td>\n",
       "    </tr>\n",
       "    <tr>\n",
       "      <th>75%</th>\n",
       "      <td>9.800000e+04</td>\n",
       "      <td>22.277500</td>\n",
       "      <td>1582.00000</td>\n",
       "      <td>101.250000</td>\n",
       "      <td>3.800000e+03</td>\n",
       "    </tr>\n",
       "    <tr>\n",
       "      <th>max</th>\n",
       "      <td>2.360457e+06</td>\n",
       "      <td>42.000000</td>\n",
       "      <td>3604.00000</td>\n",
       "      <td>400.000000</td>\n",
       "      <td>1.500450e+07</td>\n",
       "    </tr>\n",
       "  </tbody>\n",
       "</table>\n",
       "</div>"
      ],
      "text/plain": [
       "          km_driven      mileage      engine    max_power        torque\n",
       "count  8.128000e+03  8128.000000  8128.00000  8128.000000  8.128000e+03\n",
       "mean   6.981951e+04    19.418783  1452.89813    91.264977  6.559068e+03\n",
       "std    5.655055e+04     3.981875   498.19672    35.376476  2.353090e+05\n",
       "min    1.000000e+00     0.000000   624.00000     0.000000  1.300000e+03\n",
       "25%    3.500000e+04    16.800000  1197.00000    68.099998  2.125000e+03\n",
       "50%    6.000000e+04    19.418783  1248.00000    82.000000  2.400000e+03\n",
       "75%    9.800000e+04    22.277500  1582.00000   101.250000  3.800000e+03\n",
       "max    2.360457e+06    42.000000  3604.00000   400.000000  1.500450e+07"
      ]
     },
     "execution_count": 261,
     "metadata": {},
     "output_type": "execute_result"
    }
   ],
   "source": [
    "numcols.describe()"
   ]
  },
  {
   "cell_type": "code",
   "execution_count": 262,
   "id": "755f2926",
   "metadata": {
    "scrolled": true
   },
   "outputs": [
    {
     "data": {
      "text/html": [
       "<div>\n",
       "<style scoped>\n",
       "    .dataframe tbody tr th:only-of-type {\n",
       "        vertical-align: middle;\n",
       "    }\n",
       "\n",
       "    .dataframe tbody tr th {\n",
       "        vertical-align: top;\n",
       "    }\n",
       "\n",
       "    .dataframe thead th {\n",
       "        text-align: right;\n",
       "    }\n",
       "</style>\n",
       "<table border=\"1\" class=\"dataframe\">\n",
       "  <thead>\n",
       "    <tr style=\"text-align: right;\">\n",
       "      <th></th>\n",
       "      <th>km_driven</th>\n",
       "      <th>mileage</th>\n",
       "      <th>engine</th>\n",
       "      <th>max_power</th>\n",
       "      <th>torque</th>\n",
       "    </tr>\n",
       "  </thead>\n",
       "  <tbody>\n",
       "    <tr>\n",
       "      <th>km_driven</th>\n",
       "      <td>1.000000</td>\n",
       "      <td>-0.171426</td>\n",
       "      <td>0.198911</td>\n",
       "      <td>-0.040599</td>\n",
       "      <td>0.012107</td>\n",
       "    </tr>\n",
       "    <tr>\n",
       "      <th>mileage</th>\n",
       "      <td>-0.171426</td>\n",
       "      <td>1.000000</td>\n",
       "      <td>-0.574469</td>\n",
       "      <td>-0.373165</td>\n",
       "      <td>-0.020520</td>\n",
       "    </tr>\n",
       "    <tr>\n",
       "      <th>engine</th>\n",
       "      <td>0.198911</td>\n",
       "      <td>-0.574469</td>\n",
       "      <td>1.000000</td>\n",
       "      <td>0.703612</td>\n",
       "      <td>0.009482</td>\n",
       "    </tr>\n",
       "    <tr>\n",
       "      <th>max_power</th>\n",
       "      <td>-0.040599</td>\n",
       "      <td>-0.373165</td>\n",
       "      <td>0.703612</td>\n",
       "      <td>1.000000</td>\n",
       "      <td>0.029886</td>\n",
       "    </tr>\n",
       "    <tr>\n",
       "      <th>torque</th>\n",
       "      <td>0.012107</td>\n",
       "      <td>-0.020520</td>\n",
       "      <td>0.009482</td>\n",
       "      <td>0.029886</td>\n",
       "      <td>1.000000</td>\n",
       "    </tr>\n",
       "  </tbody>\n",
       "</table>\n",
       "</div>"
      ],
      "text/plain": [
       "           km_driven   mileage    engine  max_power    torque\n",
       "km_driven   1.000000 -0.171426  0.198911  -0.040599  0.012107\n",
       "mileage    -0.171426  1.000000 -0.574469  -0.373165 -0.020520\n",
       "engine      0.198911 -0.574469  1.000000   0.703612  0.009482\n",
       "max_power  -0.040599 -0.373165  0.703612   1.000000  0.029886\n",
       "torque      0.012107 -0.020520  0.009482   0.029886  1.000000"
      ]
     },
     "execution_count": 262,
     "metadata": {},
     "output_type": "execute_result"
    }
   ],
   "source": [
    "numcols.corr()"
   ]
  },
  {
   "cell_type": "code",
   "execution_count": 264,
   "id": "5d858691",
   "metadata": {
    "scrolled": false
   },
   "outputs": [
    {
     "data": {
      "text/plain": [
       "<Axes: >"
      ]
     },
     "execution_count": 264,
     "metadata": {},
     "output_type": "execute_result"
    },
    {
     "data": {
      "image/png": "[encoded data removed]",
      "text/plain": [
       "<Figure size 640x480 with 1 Axes>"
      ]
     },
     "metadata": {},
     "output_type": "display_data"
    }
   ],
   "source": [
    "sns.boxplot(numcols,orient=\"h\")"
   ]
  },
  {
   "cell_type": "code",
   "execution_count": 265,
   "id": "08614287",
   "metadata": {},
   "outputs": [],
   "source": [
    "# We have extreame Outliers let's remove them"
   ]
  },
  {
   "cell_type": "code",
   "execution_count": 266,
   "id": "69e28572",
   "metadata": {},
   "outputs": [],
   "source": [
    "# Calculating the first quartile (Q1) and third quartile (Q3)\n",
    "Q1 = numcols.quantile(0.25)\n",
    "Q3 = numcols.quantile(0.75)\n",
    "\n",
    "# Calculating the IQR (Interquartile Range)\n",
    "IQR = Q3 - Q1\n",
    "\n",
    "# lower and upper bounds for extreme outliers\n",
    "lower_bound = Q1 - 3 * IQR\n",
    "upper_bound = Q3 + 3 * IQR\n",
    "\n",
    "# Removing rows with extreme outliers\n",
    "numcols = numcols[(numcols >= lower_bound) & (numcols <= upper_bound)]\n"
   ]
  },
  {
   "cell_type": "code",
   "execution_count": 267,
   "id": "b05eb934",
   "metadata": {
    "scrolled": true
   },
   "outputs": [
    {
     "data": {
      "text/plain": [
       "<Axes: >"
      ]
     },
     "execution_count": 267,
     "metadata": {},
     "output_type": "execute_result"
    },
    {
     "data": {
      "image/png": "[encoded data removed]",
      "text/plain": [
       "<Figure size 640x480 with 1 Axes>"
      ]
     },
     "metadata": {},
     "output_type": "display_data"
    }
   ],
   "source": [
    "sns.boxplot(numcols,orient=\"h\")"
   ]
  },
  {
   "cell_type": "code",
   "execution_count": 268,
   "id": "cfce6f24",
   "metadata": {},
   "outputs": [
    {
     "data": {
      "text/plain": [
       "km_driven     31\n",
       "mileage       18\n",
       "engine       146\n",
       "max_power     90\n",
       "torque         3\n",
       "dtype: int64"
      ]
     },
     "execution_count": 268,
     "metadata": {},
     "output_type": "execute_result"
    }
   ],
   "source": [
    "numcols.isnull().sum()"
   ]
  },
  {
   "cell_type": "code",
   "execution_count": 269,
   "id": "bfab007d",
   "metadata": {},
   "outputs": [
    {
     "data": {
      "text/plain": [
       "array([1.45500e+05, 1.20000e+05, 1.40000e+05, 1.27000e+05, 4.50000e+04,\n",
       "       1.75000e+05, 5.00000e+03, 9.00000e+04, 1.69000e+05, 6.80000e+04,\n",
       "       1.00000e+05, 8.00000e+04, 4.00000e+04, 7.00000e+04, 5.30000e+04,\n",
       "       5.00000e+04, 7.20000e+04, 3.50000e+04, 2.80000e+04, 2.50000e+04,\n",
       "       2.38800e+03, 1.62000e+04, 1.00000e+04, 1.50000e+04, 4.20000e+04,\n",
       "       6.00000e+04, 7.60000e+04, 2.89000e+04, 8.63000e+04, 2.33000e+04,\n",
       "       3.26000e+04, 1.03000e+04, 7.70000e+04, 9.90000e+04, 2.78000e+04,\n",
       "       4.98000e+04, 1.51000e+05, 5.47000e+04, 6.40000e+04, 6.30000e+04,\n",
       "       1.27700e+05, 3.39000e+04, 5.90000e+04, 1.10000e+05, 1.47000e+05,\n",
       "       3.00000e+04, 1.35000e+05, 9.85000e+03, 7.80000e+04, 1.70000e+05,\n",
       "       4.90000e+04, 3.20000e+04, 3.80000e+04, 4.40000e+04, 1.20000e+04,\n",
       "       5.55000e+04, 6.15000e+04, 1.50000e+05, 3.78000e+04, 1.14000e+05,\n",
       "       4.80000e+04, 6.90000e+04, 1.30000e+04, 7.61390e+04, 6.50000e+04,\n",
       "       1.30300e+03, 3.18000e+04, 2.00000e+04, 1.70000e+04, 2.10000e+04,\n",
       "       3.70000e+04, 2.95000e+04, 2.70000e+04, 7.50000e+03, 1.90000e+04,\n",
       "       4.10000e+04, 3.90000e+04, 2.20000e+04, 4.70000e+04, 7.22000e+04,\n",
       "       4.99000e+04, 9.00000e+03, 1.10000e+04, 9.50000e+04, 1.80000e+04,\n",
       "       4.61000e+04, 1.60000e+04, 9.65400e+03, 2.43000e+04, 4.21630e+04,\n",
       "       8.00000e+03, 7.10000e+04, 9.50000e+03, 3.66000e+04, 1.40000e+04,\n",
       "       1.20600e+05, 8.60000e+04, 7.80000e+03, 3.13770e+04, 7.50000e+04,\n",
       "       9.30000e+04, 1.25000e+05, 1.35000e+04, 1.62500e+05, 9.25000e+04,\n",
       "       1.58000e+05, 2.00000e+03, 1.81000e+05, 1.93000e+05, 1.22358e+05,\n",
       "       9.52000e+04, 3.30330e+04, 6.30630e+04, 2.07890e+05, 7.97600e+03,\n",
       "       1.65000e+04, 9.93610e+04, 3.30000e+04, 8.01000e+04, 1.60000e+05,\n",
       "       2.60000e+04, 2.90000e+04, 5.80000e+04, 3.60000e+04, 1.85000e+05,\n",
       "       1.62000e+05, 6.70000e+04, 5.20000e+04, 6.80890e+04, 5.83430e+04,\n",
       "       3.88170e+04, 5.64940e+04, 7.93280e+04, 5.62100e+03, 2.55380e+04,\n",
       "       6.97790e+04, 5.62900e+04, 8.50000e+03, 7.03200e+03, 1.06000e+05,\n",
       "       2.40000e+05, 2.14000e+05, 1.00000e+03, 2.65000e+05, 1.34000e+05,\n",
       "       2.13600e+03, 2.50000e+05, 1.30000e+05, 9.95000e+04, 1.19000e+05,\n",
       "       4.46650e+04, 1.23000e+05, 3.40000e+04, 1.46000e+05, 8.50000e+04,\n",
       "       2.01850e+05, 4.60000e+04, 1.90000e+05, 4.30000e+04, 1.42000e+04,\n",
       "       1.91000e+04, 5.40000e+04, 1.01500e+05, 9.75000e+04, 5.57350e+04,\n",
       "       1.50000e+03, 1.81491e+05, 5.33190e+04, 4.09060e+04, 3.17110e+04,\n",
       "       4.37550e+04, 6.66930e+04, 5.95490e+04, 9.43850e+04, 7.37300e+04,\n",
       "       2.21889e+05, 1.16104e+05, 1.50546e+05, 1.48120e+05, 1.42000e+05,\n",
       "       1.26000e+05, 2.40000e+04, 1.01000e+05, 1.68000e+05, 1.65000e+05,\n",
       "       9.85000e+04, 9.80000e+04, 7.78000e+04, 5.14920e+04, 1.36000e+05,\n",
       "       9.10000e+04, 1.67000e+05, 1.80000e+05, 6.00000e+03, 5.51130e+04,\n",
       "       9.15000e+04, 1.32478e+05, 5.10000e+04, 1.05000e+05, 1.37500e+05,\n",
       "       8.80000e+04, 1.56060e+05, 1.07000e+05, 5.70000e+04,         nan,\n",
       "       2.00000e+05, 1.89450e+04, 1.44000e+05, 1.07825e+05, 1.62000e+03,\n",
       "       1.41000e+05, 1.08000e+05, 5.50000e+04, 3.79440e+04, 9.04000e+04,\n",
       "       9.60000e+04, 1.93623e+05, 6.31860e+04, 2.19000e+05, 2.30000e+04,\n",
       "       9.40000e+04, 1.40500e+05, 1.43000e+05, 1.95000e+05, 8.07900e+03,\n",
       "       1.14368e+05, 7.99900e+04, 8.16320e+04, 1.55201e+05, 1.01504e+05,\n",
       "       9.01650e+04, 8.60170e+04, 8.50360e+04, 1.60254e+05, 1.25531e+05,\n",
       "       2.06000e+05, 4.97000e+04, 7.40000e+04, 6.55000e+03, 5.60000e+04,\n",
       "       4.17790e+04, 3.10000e+04, 1.35340e+04, 7.00000e+03, 2.81560e+04,\n",
       "       6.33090e+04, 1.55000e+05, 1.15000e+04, 3.00000e+03, 1.57000e+05,\n",
       "       2.63000e+04, 8.91000e+04, 1.04000e+05, 2.10000e+05, 2.16000e+05,\n",
       "       8.40000e+04, 1.61000e+05, 7.21130e+04, 1.13000e+05, 9.64430e+04,\n",
       "       5.15000e+04, 1.04500e+05, 4.91020e+04, 8.10000e+04, 2.27000e+05,\n",
       "       1.17000e+05, 8.57600e+03, 1.97230e+04, 2.14460e+04, 5.22890e+04,\n",
       "       5.22360e+04, 5.44700e+04, 2.54710e+04, 3.39280e+04, 5.97360e+04,\n",
       "       5.42900e+04, 2.11800e+03, 6.13790e+04, 5.85440e+04, 7.43810e+04,\n",
       "       6.39820e+04, 5.64290e+04, 1.95000e+04, 5.68320e+04, 3.05280e+04,\n",
       "       6.52850e+04, 2.01020e+04, 5.23800e+04, 7.42500e+04, 5.72470e+04,\n",
       "       1.78000e+05, 4.23230e+04, 4.24620e+04, 5.47230e+04, 4.25450e+04,\n",
       "       4.12320e+04, 2.03750e+04, 4.39780e+04, 4.02000e+04, 2.72330e+04,\n",
       "       2.88320e+04, 1.03000e+05, 1.42500e+05, 1.15000e+05, 1.18000e+05,\n",
       "       3.55000e+04, 1.75000e+04, 9.20000e+04, 4.50000e+03, 8.30000e+04,\n",
       "       6.75000e+03, 1.85000e+04, 5.04780e+04, 9.20000e+03, 2.30000e+03,\n",
       "       4.29500e+03, 5.22900e+03, 4.70100e+03, 6.75700e+03, 2.81820e+04,\n",
       "       1.15330e+04, 1.16880e+04, 5.77280e+04, 2.37120e+04, 7.06700e+04,\n",
       "       4.33810e+04, 7.90110e+04, 5.85000e+04, 4.35000e+04, 1.27000e+04,\n",
       "       4.94550e+04, 4.68150e+04, 1.00875e+05, 1.28000e+05, 1.44030e+05,\n",
       "       1.76000e+05, 8.90000e+04, 9.70000e+04, 1.28000e+04, 6.51000e+04,\n",
       "       1.52000e+04, 8.20000e+04, 1.16500e+05, 1.45000e+05, 7.30000e+04,\n",
       "       1.13226e+05, 1.60500e+05, 1.32000e+05, 2.17000e+05, 1.39000e+05,\n",
       "       3.50000e+03, 6.20000e+04, 1.20005e+05, 1.68300e+04, 9.34680e+04,\n",
       "       1.65890e+04, 5.32010e+04, 2.52720e+04, 5.36190e+04, 6.00100e+03,\n",
       "       2.02000e+05, 7.17170e+04, 8.43210e+04, 1.77000e+05, 2.05000e+05,\n",
       "       4.18000e+04, 8.87000e+04, 1.88000e+05, 2.25000e+05, 5.50000e+03,\n",
       "       4.87500e+03, 2.70000e+03, 5.85110e+04, 2.62350e+04, 2.67660e+04,\n",
       "       1.60000e+03, 2.45220e+04, 1.36630e+04, 5.89450e+04, 1.56975e+05,\n",
       "       2.76200e+04, 1.43200e+05, 1.37000e+05, 1.38000e+05, 1.89000e+05,\n",
       "       1.56000e+05, 1.08000e+04, 6.75000e+04, 2.55000e+05, 7.18500e+04,\n",
       "       1.12000e+05, 1.59000e+05, 7.61310e+04, 5.17770e+04, 6.47880e+04,\n",
       "       4.69510e+04, 7.45370e+04, 2.35000e+04, 6.86000e+04, 1.38870e+04,\n",
       "       6.60000e+04, 2.44000e+04, 2.75000e+04, 6.78400e+04, 1.49032e+05,\n",
       "       8.40500e+04, 1.12880e+05, 2.81000e+04, 6.19150e+04, 1.84000e+05,\n",
       "       6.20000e+03, 1.67000e+04, 7.96700e+03, 9.65600e+03, 6.86090e+04,\n",
       "       3.33600e+04, 1.43170e+04, 8.72370e+04, 6.29600e+04, 2.66340e+04,\n",
       "       1.63720e+05, 6.79980e+04, 2.07060e+04, 1.00581e+05, 6.73030e+04,\n",
       "       7.91390e+04, 8.47840e+04, 1.30376e+05, 1.48000e+05, 3.35000e+04,\n",
       "       2.20530e+04, 7.84320e+04, 2.70000e+05, 7.20000e+03, 1.17500e+05,\n",
       "       7.85000e+04, 1.15717e+05, 4.00000e+03, 2.64320e+04, 4.67020e+04,\n",
       "       4.67060e+04, 5.35230e+04, 5.63650e+04, 4.95630e+04, 5.64320e+04,\n",
       "       5.23650e+04, 5.35120e+04, 5.35630e+04, 4.65330e+04, 5.96350e+04,\n",
       "       5.86320e+04, 1.23219e+05, 6.53000e+04, 3.93950e+04, 2.30000e+05,\n",
       "       3.25000e+04, 6.48000e+04, 2.48000e+05, 6.64440e+04, 2.18463e+05,\n",
       "       1.53000e+05, 8.71850e+04, 3.56400e+03, 4.87560e+04, 8.03220e+04,\n",
       "       1.73000e+05, 2.75000e+05, 6.50000e+03, 2.20000e+05, 1.08957e+05,\n",
       "       2.22000e+04, 2.60000e+05, 4.21080e+04, 7.90000e+04, 1.71000e+04,\n",
       "       4.30010e+04, 1.00600e+05, 9.23850e+04, 1.16000e+05, 7.25000e+04,\n",
       "       8.25000e+04, 5.06000e+04, 1.21000e+05, 1.01903e+05, 8.55680e+04,\n",
       "       3.10000e+03, 1.86000e+05, 5.93000e+04, 8.93220e+04, 4.83000e+04,\n",
       "       2.35110e+04, 2.25120e+04, 6.29000e+04, 5.24420e+04, 3.41560e+04,\n",
       "       3.41520e+04, 6.28410e+04, 3.86000e+04, 2.76540e+04, 4.86980e+04,\n",
       "       3.29950e+04, 9.01500e+04, 8.57000e+04, 2.53390e+04, 6.82400e+04,\n",
       "       9.26510e+04, 8.87540e+04, 2.37000e+04, 5.32870e+04, 6.95000e+04,\n",
       "       2.80500e+04, 2.29470e+04, 7.67200e+03, 3.66590e+04, 4.45000e+04,\n",
       "       9.90000e+03, 1.24316e+05, 6.54400e+03, 4.96000e+04, 1.98000e+05,\n",
       "       1.03994e+05, 3.50080e+04, 3.11000e+04, 4.23120e+04, 5.48910e+04,\n",
       "       1.88900e+04, 7.50100e+04, 4.33700e+03, 1.44950e+04, 8.35850e+04,\n",
       "       4.84060e+04, 5.62390e+04, 3.32430e+04, 1.58580e+04, 8.78470e+04,\n",
       "       9.55800e+03, 8.70000e+04, 1.12072e+05, 5.22690e+04, 1.57800e+04,\n",
       "       1.08800e+05, 1.25000e+04, 6.83000e+04, 1.21941e+05, 1.52186e+05,\n",
       "       8.22460e+04, 8.95800e+04, 2.78900e+03, 3.52780e+04, 2.86000e+03,\n",
       "       7.85620e+04, 3.60880e+04, 1.29000e+05, 1.33000e+05, 6.45000e+04,\n",
       "       2.45000e+04, 4.55000e+04, 7.15000e+04, 9.35000e+04, 6.03000e+04,\n",
       "       4.43910e+04, 5.63150e+04, 1.51510e+04, 1.14321e+05, 3.73330e+04,\n",
       "       2.15000e+04, 1.97000e+05, 4.03000e+04, 3.00300e+04, 2.90290e+04,\n",
       "       7.20720e+04, 8.20820e+04, 8.06000e+04, 5.86090e+04, 3.30030e+04,\n",
       "       1.65500e+05, 4.79900e+04, 5.80000e+03, 6.87000e+04, 1.02996e+05,\n",
       "       9.65000e+04, 5.24120e+04, 8.54720e+04, 8.74520e+04, 6.65300e+04,\n",
       "       3.23310e+04, 1.72000e+05, 2.34560e+04, 1.36500e+05, 1.11000e+05,\n",
       "       4.25000e+04, 4.72000e+04, 2.46000e+05, 5.20000e+03, 1.05000e+04,\n",
       "       9.33310e+04, 1.09000e+05, 5.40000e+03, 1.02000e+05, 6.08980e+04,\n",
       "       2.97000e+04, 7.60000e+03, 2.93400e+04, 8.08000e+04, 2.42650e+04,\n",
       "       5.69000e+04, 8.82000e+04, 4.08000e+04, 8.58800e+03, 1.58500e+05,\n",
       "       2.12000e+05, 1.01200e+05, 1.79150e+05, 8.44870e+04, 2.64000e+05,\n",
       "       5.11460e+04, 1.49000e+05, 3.68000e+04, 5.22000e+04, 1.07500e+05,\n",
       "       2.48200e+05, 7.72000e+03, 5.78820e+04, 2.42000e+05, 5.53800e+04,\n",
       "       1.88160e+04, 3.30190e+04, 4.77470e+04, 4.59000e+04, 6.86970e+04,\n",
       "       1.47279e+05, 2.47000e+04, 4.35260e+04, 5.58850e+04, 1.60340e+04,\n",
       "       1.56040e+05, 9.34150e+04, 1.22000e+05, 6.85190e+04, 2.29660e+04,\n",
       "       2.35000e+03, 5.98720e+04, 9.11820e+04, 5.95000e+04, 7.55000e+04,\n",
       "       1.52500e+05, 6.91230e+04, 7.75240e+04, 4.05230e+04, 2.36000e+04,\n",
       "       2.18000e+05, 2.41770e+04, 1.21779e+05, 1.53810e+04, 7.48000e+04,\n",
       "       1.09322e+05, 6.10000e+04, 8.05000e+04, 6.57550e+04, 2.60000e+03,\n",
       "       1.55000e+04, 5.07000e+04, 1.52000e+05, 2.00400e+05, 7.30000e+03,\n",
       "       9.75000e+03, 1.57138e+05, 2.85000e+05, 1.27991e+05, 1.31200e+04,\n",
       "       8.75000e+04, 6.22000e+04, 8.75400e+04, 2.31438e+05, 2.39451e+05,\n",
       "       1.54000e+05, 1.82000e+05, 2.15000e+05, 7.73000e+04, 6.12600e+04,\n",
       "       1.76010e+04, 4.77300e+03, 5.79000e+04, 8.60000e+03, 7.80100e+04,\n",
       "       8.38440e+04, 2.39990e+04, 9.14000e+04, 1.78500e+05, 6.69530e+04,\n",
       "       1.66000e+05, 1.31000e+05, 1.00750e+05, 4.86760e+04, 7.95000e+04,\n",
       "       2.00185e+05, 4.90250e+04, 7.64600e+04, 4.73700e+04, 4.52170e+04,\n",
       "       1.63000e+05, 2.22300e+05, 4.46000e+04, 2.80800e+04, 2.88000e+04,\n",
       "       2.19000e+04, 7.67300e+03, 9.62720e+04, 2.25000e+04, 7.40000e+03,\n",
       "       1.50360e+05, 4.21300e+04, 1.47500e+05, 5.61940e+04, 5.41880e+04,\n",
       "       5.40430e+04, 6.66570e+04, 3.55820e+04, 5.43270e+04, 7.94900e+03,\n",
       "       5.97340e+04, 4.91850e+04, 5.63890e+04, 5.82450e+04, 3.64220e+04,\n",
       "       4.25350e+04, 4.07360e+04, 5.62460e+04, 5.54030e+04, 1.05358e+05,\n",
       "       4.92000e+04, 8.15000e+04, 3.17700e+03, 3.94140e+04, 3.00780e+04,\n",
       "       4.45880e+04, 4.99070e+04, 6.70820e+04, 1.12879e+05, 1.02000e+04,\n",
       "       1.30000e+03, 1.75802e+05, 1.92000e+05, 7.38400e+04, 2.48570e+04,\n",
       "       2.64420e+04, 5.08000e+04, 4.01420e+04, 9.40000e+03, 1.25840e+04,\n",
       "       4.30000e+03, 1.45480e+04, 4.47720e+04, 4.85000e+04, 2.87820e+04,\n",
       "       2.84510e+04, 3.65000e+04, 4.48850e+04, 1.31111e+05, 5.84000e+04,\n",
       "       2.34000e+04, 1.58107e+05, 3.01000e+03, 7.70880e+04, 1.36511e+05,\n",
       "       3.67100e+04, 2.81800e+04, 4.40770e+04, 5.57680e+04, 1.23278e+05,\n",
       "       2.65000e+04, 1.84840e+04, 2.56000e+03, 1.03655e+05, 5.69750e+04,\n",
       "       7.47700e+04, 1.87000e+05, 7.32570e+04, 2.63200e+04, 3.84260e+04,\n",
       "       1.16700e+05, 1.76062e+05, 7.75000e+04, 3.95000e+04, 5.58960e+04,\n",
       "       3.04000e+04, 1.64000e+05, 2.71000e+05, 7.52620e+04, 9.18630e+04,\n",
       "       4.75520e+04, 1.47000e+04, 1.97000e+04, 1.45241e+05, 9.55000e+04,\n",
       "       5.34730e+04, 7.59580e+04, 3.15960e+04, 8.57100e+04, 1.29627e+05,\n",
       "       5.51300e+04, 2.25220e+04, 5.18560e+04, 2.94340e+04, 3.45000e+04,\n",
       "       6.82500e+03, 1.12011e+05, 5.35340e+04, 2.48119e+05, 2.40190e+04,\n",
       "       1.96000e+04, 1.83000e+05, 1.08916e+05, 8.95000e+04, 5.98650e+04,\n",
       "       6.81400e+04, 5.31900e+04, 7.01000e+04, 4.77250e+04, 7.01950e+04,\n",
       "       7.73950e+04, 7.43210e+04, 8.02350e+04, 7.71500e+04, 6.11000e+04,\n",
       "       8.23000e+04, 8.20500e+04, 7.45000e+04, 2.98990e+04, 5.92350e+04,\n",
       "       2.01000e+05, 7.72150e+04, 4.82280e+04, 5.85590e+04, 7.21790e+04,\n",
       "       5.08560e+04, 1.83000e+04, 5.92920e+04, 2.11470e+04, 6.11730e+04,\n",
       "       7.73210e+04, 9.15670e+04, 3.34000e+04, 9.26860e+04, 6.76000e+04,\n",
       "       4.95000e+04, 1.12048e+05, 3.06460e+04, 1.46810e+04, 4.30110e+04,\n",
       "       1.04300e+05, 7.35000e+04, 2.80000e+05, 3.57000e+04, 2.27000e+04,\n",
       "       2.18710e+04, 5.54250e+04, 3.76590e+04, 3.75000e+04, 1.98000e+04,\n",
       "       4.56290e+04, 6.88500e+04, 4.57750e+04, 6.82030e+04, 9.73430e+04,\n",
       "       8.25070e+04, 5.94000e+04, 1.25876e+05, 5.68000e+04, 6.52040e+04,\n",
       "       2.28600e+03, 1.57320e+04, 4.95230e+04, 3.65210e+04, 6.44810e+04,\n",
       "       4.90600e+04, 3.71610e+04, 6.01750e+04, 4.99570e+04, 4.32350e+04,\n",
       "       5.06990e+04, 1.00000e+00, 5.00740e+04, 3.01540e+04, 2.62630e+04,\n",
       "       8.49250e+04, 4.63570e+04, 4.67370e+04, 1.10048e+05, 1.86388e+05,\n",
       "       2.01710e+04, 3.71510e+04, 5.81610e+04, 5.01710e+04, 5.51610e+04,\n",
       "       9.59900e+03, 1.61510e+04, 2.81610e+04, 8.08680e+04, 1.94000e+05,\n",
       "       1.91000e+05])"
      ]
     },
     "execution_count": 269,
     "metadata": {},
     "output_type": "execute_result"
    }
   ],
   "source": [
    "numcols.km_driven.unique()"
   ]
  },
  {
   "cell_type": "code",
   "execution_count": 270,
   "id": "f2af7f34",
   "metadata": {},
   "outputs": [
    {
     "data": {
      "text/plain": [
       "count      8097.000000\n",
       "mean      68341.697048\n",
       "std       44687.518378\n",
       "min           1.000000\n",
       "25%       35000.000000\n",
       "50%       60000.000000\n",
       "75%       96000.000000\n",
       "max      285000.000000\n",
       "Name: km_driven, dtype: float64"
      ]
     },
     "execution_count": 270,
     "metadata": {},
     "output_type": "execute_result"
    }
   ],
   "source": [
    "numcols.km_driven.describe()"
   ]
  },
  {
   "cell_type": "code",
   "execution_count": 271,
   "id": "1511b94f",
   "metadata": {},
   "outputs": [],
   "source": [
    "numcols.km_driven = numcols.km_driven.fillna(numcols.km_driven.median())"
   ]
  },
  {
   "cell_type": "code",
   "execution_count": 272,
   "id": "66435700",
   "metadata": {},
   "outputs": [
    {
     "data": {
      "text/plain": [
       "array([23.4       , 21.14      , 17.7       , 23.        , 16.1       ,\n",
       "       20.14      , 17.3       , 23.59      , 20.        , 19.01      ,\n",
       "       19.3       , 19.41878336, 18.9       , 18.15      , 24.52      ,\n",
       "       19.7       , 22.54      , 21.        , 25.5       , 26.59      ,\n",
       "       21.5       , 20.3       , 21.4       , 24.7       , 18.2       ,\n",
       "       16.8       , 24.3       , 14.        , 18.6       , 33.44      ,\n",
       "       23.95      , 17.        , 20.63      , 13.93      , 16.        ,\n",
       "       17.8       , 18.5       , 12.55      , 12.99      , 14.8       ,\n",
       "       13.5       , 26.        , 20.65      , 27.3       , 11.36      ,\n",
       "       17.68      , 14.28      , 18.53      , 14.84      , 21.12      ,\n",
       "       20.36      , 21.27      , 18.16      , 22.        , 25.1       ,\n",
       "       20.51      , 21.66      , 25.2       , 22.9       , 16.02      ,\n",
       "       20.54      , 22.77      , 15.71      , 23.1       , 19.02      ,\n",
       "       19.81      , 26.2       , 16.47      , 15.04      , 19.1       ,\n",
       "       21.79      , 18.8       , 21.21      , 15.37      , 11.79      ,\n",
       "       19.        , 14.3       , 15.8       , 15.1       , 19.09      ,\n",
       "       22.32      , 21.9       , 14.53      , 21.63      , 20.85      ,\n",
       "       20.45      , 19.67      , 23.01      , 20.77      , 17.92      ,\n",
       "       17.01      , 22.37      , 19.33      ,  9.5       , 12.83      ,\n",
       "       22.48      , 16.78      , 14.67      , 15.        , 13.96      ,\n",
       "       18.        , 12.07      , 26.21      , 10.8       , 16.3       ,\n",
       "       13.6       , 14.74      , 15.6       , 19.56      , 22.69      ,\n",
       "       19.16      , 18.12      , 12.1       , 17.5       ,         nan,\n",
       "       20.4       , 21.1       , 19.44      , 13.        , 21.43      ,\n",
       "       22.95      , 16.2       , 15.3       , 28.09      , 17.4       ,\n",
       "       19.4       , 26.6       , 17.6       , 28.4       , 14.1       ,\n",
       "       25.17      , 22.74      , 17.57      , 16.95      , 19.49      ,\n",
       "       17.21      , 13.2       , 14.2       , 26.8       , 25.4       ,\n",
       "       11.5       , 27.28      , 17.97      , 12.8       , 16.55      ,\n",
       "       12.05      , 14.07      , 21.02      , 11.57      , 17.9       ,\n",
       "       15.96      , 17.1       , 17.19      , 21.01      , 24.        ,\n",
       "       25.6       , 21.38      , 23.84      , 23.08      , 14.24      ,\n",
       "       20.71      , 15.64      , 14.5       , 16.34      , 27.39      ,\n",
       "       11.1       , 13.9       , 20.88      , 20.92      , 23.8       ,\n",
       "       24.4       , 15.29      , 21.19      , 22.5       , 19.6       ,\n",
       "       23.65      , 25.32      , 23.5       , 16.6       , 23.9       ,\n",
       "       20.8       , 27.62      , 12.9       , 25.44      , 17.88      ,\n",
       "       22.7       , 17.2       , 15.42      , 19.68      , 18.7       ,\n",
       "       15.4       , 19.34      , 22.71      , 25.8       , 13.7       ,\n",
       "       12.2       , 18.49      ,  9.        , 13.58      , 10.1       ,\n",
       "       20.5       , 25.        , 10.5       , 22.07      , 22.3       ,\n",
       "       15.26      , 20.62      , 27.4       , 23.2       , 14.4       ,\n",
       "       18.4       , 30.46      , 14.02      , 11.        , 20.6       ,\n",
       "       22.05      , 20.2       , 18.1       , 22.1       , 19.87      ,\n",
       "       13.01      , 18.06      , 26.1       , 16.52      , 13.55      ,\n",
       "       24.2       , 25.83      , 11.2       , 17.09      , 21.03      ,\n",
       "       17.45      , 21.64      , 21.94      , 13.87      , 19.98      ,\n",
       "       20.52      , 23.57      , 11.7       , 17.43      , 18.88      ,\n",
       "       13.68      , 11.18      , 20.89      , 11.8       , 19.62      ,\n",
       "       21.7       , 14.9       , 19.5       , 10.91      , 15.7       ,\n",
       "       20.73      , 15.85      , 20.7       , 14.23      , 16.5       ,\n",
       "       17.36      , 12.6       , 16.36      , 14.95      , 16.9       ,\n",
       "       19.2       , 16.96      , 22.15      , 18.78      , 19.61      ,\n",
       "       17.71      , 18.3       , 19.12      , 19.72      , 12.        ,\n",
       "       11.4       , 23.03      , 11.07      , 15.9       , 17.67      ,\n",
       "       20.46      , 13.1       , 13.45      , 24.8       , 15.73      ,\n",
       "       15.11      , 12.7       , 21.2       , 20.38      , 21.56      ,\n",
       "       13.22      , 14.49      , 15.05      , 23.26      , 15.41      ,\n",
       "       13.8       , 22.27      , 32.52      , 14.66      , 12.12      ,\n",
       "       16.84      , 14.09      , 14.7       , 13.4       , 15.5       ,\n",
       "       13.49      , 11.88      , 14.6       , 10.75      , 24.5       ,\n",
       "       11.74      , 16.07      , 15.63      , 26.3       , 23.7       ,\n",
       "       25.47      , 17.05      , 23.3       , 11.9       , 13.38      ,\n",
       "       20.86      , 10.9       , 18.25      , 15.2       , 20.37      ,\n",
       "       21.8       , 11.96      , 24.04      , 19.69      , 13.73      ,\n",
       "       21.04      , 25.01      , 10.93      , 24.29      , 13.44      ,\n",
       "       20.07      , 19.08      , 20.34      , 11.68      , 12.5       ,\n",
       "       12.3       , 23.87      , 16.38      , 17.42      , 10.        ,\n",
       "       18.24      , 10.71      , 19.59      , 16.7       , 19.83      ,\n",
       "       21.76      , 16.05      , 20.28      , 16.25      , 16.73      ,\n",
       "       18.48      , 14.99      , 18.76      , 16.4       , 19.64      ,\n",
       "       14.94      , 17.11      , 22.8       , 32.26      , 33.        ,\n",
       "       12.4       , 18.44      , 16.09      , 12.62      , 21.13      ,\n",
       "       15.17      , 21.73      , 21.72      , 12.85      , 14.81      ,\n",
       "       13.24      , 21.49      , 14.62      , 26.83      , 11.45      ,\n",
       "       12.08      , 15.74      , 11.3       , 14.21      , 11.72      ,\n",
       "       16.51      ])"
      ]
     },
     "execution_count": 272,
     "metadata": {},
     "output_type": "execute_result"
    }
   ],
   "source": [
    "numcols.mileage.unique()"
   ]
  },
  {
   "cell_type": "code",
   "execution_count": 273,
   "id": "95e98fcf",
   "metadata": {
    "scrolled": true
   },
   "outputs": [
    {
     "data": {
      "text/plain": [
       "count    8110.000000\n",
       "mean       19.456704\n",
       "std         3.877584\n",
       "min         9.000000\n",
       "25%        16.800000\n",
       "50%        19.418783\n",
       "75%        22.300000\n",
       "max        33.440000\n",
       "Name: mileage, dtype: float64"
      ]
     },
     "execution_count": 273,
     "metadata": {},
     "output_type": "execute_result"
    }
   ],
   "source": [
    "numcols.mileage.describe()"
   ]
  },
  {
   "cell_type": "code",
   "execution_count": 274,
   "id": "d94c69e2",
   "metadata": {},
   "outputs": [],
   "source": [
    "numcols.mileage = numcols.mileage.fillna(numcols.mileage.median())"
   ]
  },
  {
   "cell_type": "code",
   "execution_count": 275,
   "id": "8a181e7f",
   "metadata": {},
   "outputs": [
    {
     "data": {
      "text/plain": [
       "array([1248., 1498., 1497., 1396., 1298., 1197., 1061.,  796., 1364.,\n",
       "       1399., 1461.,  993., 1198., 1199.,  998., 1591., 2179., 1368.,\n",
       "         nan, 2494., 2143., 2477., 1462., 1968., 1798., 1196., 1373.,\n",
       "       1598., 1998., 1086., 1194., 1172., 1405., 1582.,  999., 2487.,\n",
       "       1999., 1995., 1451., 1969., 2497., 1797., 1991., 2362., 1493.,\n",
       "       1599., 1341., 1794.,  799., 1193., 2696., 1495., 1186., 1047.,\n",
       "       2498., 2523., 1120.,  624., 1496., 1984., 2354.,  814.,  793.,\n",
       "       1799.,  936., 1956., 1997., 1499., 1948., 2489., 2499., 2609.,\n",
       "       1150., 1994., 1388., 1527., 2199.,  995., 1586., 1390.,  909.,\n",
       "       2393., 1339., 2092., 1595., 2496., 1596., 1597., 2596., 2148.,\n",
       "       1299., 1590., 2231., 2694., 2200., 1795., 1896., 1796., 1422.,\n",
       "       1489., 2359., 2197., 1781., 2650., 1343., 2446., 2198., 1950.])"
      ]
     },
     "execution_count": 275,
     "metadata": {},
     "output_type": "execute_result"
    }
   ],
   "source": [
    "numcols.engine.unique()"
   ]
  },
  {
   "cell_type": "code",
   "execution_count": 276,
   "id": "2b3051f9",
   "metadata": {},
   "outputs": [
    {
     "data": {
      "text/plain": [
       "count    7982.000000\n",
       "mean     1425.275244\n",
       "std       457.921578\n",
       "min       624.000000\n",
       "25%      1197.000000\n",
       "50%      1248.000000\n",
       "75%      1498.000000\n",
       "max      2696.000000\n",
       "Name: engine, dtype: float64"
      ]
     },
     "execution_count": 276,
     "metadata": {},
     "output_type": "execute_result"
    }
   ],
   "source": [
    "numcols.engine.describe()"
   ]
  },
  {
   "cell_type": "code",
   "execution_count": 277,
   "id": "64085e03",
   "metadata": {},
   "outputs": [],
   "source": [
    "numcols.engine = numcols.engine.fillna(numcols.engine.median())"
   ]
  },
  {
   "cell_type": "code",
   "execution_count": 278,
   "id": "809de473",
   "metadata": {},
   "outputs": [
    {
     "data": {
      "text/plain": [
       "array([ 74.   , 103.52 ,  78.   ,  90.   ,  88.2  ,  81.86 ,  57.5  ,\n",
       "        37.   ,  67.1  ,  68.1  , 108.45 ,  60.   ,  73.9  ,  82.   ,\n",
       "        67.   ,  88.5  ,  46.3  ,  88.73 ,  64.1  ,  98.6  ,  88.8  ,\n",
       "        83.81 ,  83.1  ,  47.3  ,  73.8  ,  34.2  ,  35.   ,  81.83 ,\n",
       "        40.3  , 121.3  , 138.03 , 160.77 , 117.3  , 116.3  ,  83.14 ,\n",
       "        67.05 , 168.5  , 100.   , 120.7  ,  98.63 , 175.56 , 103.25 ,\n",
       "       171.5  , 100.6  , 174.33 , 187.74 , 170.   ,  78.9  ,  88.76 ,\n",
       "        86.8  , 108.495, 108.62 ,  93.7  , 103.6  ,  98.59 , 189.   ,\n",
       "        67.04 ,  68.05 ,  58.2  ,  82.85 ,  81.8  ,  73.   , 120.   ,\n",
       "        94.68 , 160.   ,  65.   , 155.   ,  69.01 , 126.32 , 138.1  ,\n",
       "        83.8  , 126.2  ,  98.96 ,  62.1  ,  86.7  , 188.   ,     nan,\n",
       "       177.   , 148.31 , 190.   , 177.46 , 141.   , 117.6  , 150.   ,\n",
       "       147.5  , 108.5  , 103.5  , 183.   , 181.04 , 157.7  , 164.7  ,\n",
       "        91.1  ,  68.   ,  75.   ,  85.8  ,  87.2  ,  53.   , 118.   ,\n",
       "       103.2  ,  83.   ,  84.   ,  58.16 , 147.94 ,  74.02 ,  53.3  ,\n",
       "        80.   ,  88.7  ,  97.7  , 121.36 , 162.   , 140.   ,  94.   ,\n",
       "       100.57 ,  82.9  ,  83.11 ,  70.   , 153.86 , 121.   , 126.3  ,\n",
       "        73.97 , 171.   ,  69.   ,  99.6  , 102.   , 105.   ,  63.   ,\n",
       "        79.4  ,  97.9  ,  63.1  ,  66.1  , 110.   , 174.5  ,  53.26 ,\n",
       "        73.75 ,  67.06 ,  64.08 ,  37.5  , 189.3  , 158.8  ,  61.7  ,\n",
       "        55.2  ,  71.01 ,  73.74 , 147.9  ,  71.   ,  77.   , 121.4  ,\n",
       "       113.4  ,  47.   , 130.   ,  57.6  , 138.   ,  52.8  ,  53.64 ,\n",
       "        53.5  ,  76.8  ,  82.4  , 113.42 ,  76.   ,  84.8  ,   0.   ,\n",
       "        56.3  , 112.   ,  92.   , 105.5  , 169.   ,  95.   ,  72.4  ,\n",
       "       115.   , 152.   ,  91.2  , 156.   ,  74.9  ,  62.   , 105.3  ,\n",
       "        73.94 ,  85.   , 118.3  ,  72.   , 147.51 ,  58.   ,  64.   ,\n",
       "       126.24 ,  76.9  , 194.3  ,  99.23 ,  89.84 , 123.7  , 118.35 ,\n",
       "        99.   , 136.   , 104.68 ,  37.48 , 104.   ,  63.12 ,  91.7  ,\n",
       "       102.5  , 177.6  ,  45.   , 123.37 , 147.8  , 184.   ,  84.48 ,\n",
       "        68.07 ,  74.96 , 167.6  , 152.87 , 112.2  ,  83.83 , 197.   ,\n",
       "       110.4  , 104.55 , 103.   , 103.3  ,  66.   , 108.6  , 165.   ,\n",
       "       163.7  , 116.9  ,  94.93 , 127.   , 198.5  , 179.5  , 120.69 ,\n",
       "       121.31 , 138.08 , 187.7  ,  80.8  ,  86.79 ,  93.87 , 116.6  ,\n",
       "       143.   ,  92.7  ,  88.   ,  58.33 ,  78.8  ,  64.4  , 125.   ,\n",
       "       139.01 , 181.   ,  55.23 , 157.75 , 101.   , 186.   , 187.4  ,\n",
       "        64.9  , 148.   ,  35.5  ,  89.75 ,  32.8  ,  91.72 , 106.   ,\n",
       "        98.97 ,  66.6  ,  86.   ,  65.3  ,  98.82 , 198.25 ,  38.   ,\n",
       "       142.   , 132.   , 174.57 , 178.   , 163.2  , 177.5  , 175.   ,\n",
       "        57.   ,  80.84 ,  68.4  , 167.67 , 170.63 ,  52.   , 149.5  ,\n",
       "        48.21 , 100.5  , 144.   , 194.4  , 168.7  , 104.5  , 103.26 ,\n",
       "       116.4  ,  98.79 ,  80.9  ,  58.3  , 167.62 , 170.3  , 139.46 ,\n",
       "       158.   , 110.5  ,  82.5  , 141.1  ,  38.4  , 197.2  , 161.   ,\n",
       "       194.   , 122.4  , 134.1  ,  60.2  , 134.   , 135.1  ],\n",
       "      dtype=float32)"
      ]
     },
     "execution_count": 278,
     "metadata": {},
     "output_type": "execute_result"
    }
   ],
   "source": [
    "numcols.max_power.unique()"
   ]
  },
  {
   "cell_type": "code",
   "execution_count": 279,
   "id": "2e17c8fb",
   "metadata": {},
   "outputs": [
    {
     "data": {
      "text/plain": [
       "count    8038.000000\n",
       "mean       89.653908\n",
       "std        31.950632\n",
       "min         0.000000\n",
       "25%        68.050003\n",
       "50%        82.000000\n",
       "75%       100.599998\n",
       "max       198.500000\n",
       "Name: max_power, dtype: float64"
      ]
     },
     "execution_count": 279,
     "metadata": {},
     "output_type": "execute_result"
    }
   ],
   "source": [
    "numcols.max_power.describe()"
   ]
  },
  {
   "cell_type": "code",
   "execution_count": 280,
   "id": "53844e08",
   "metadata": {},
   "outputs": [],
   "source": [
    "numcols.max_power = numcols.max_power.fillna(82)"
   ]
  },
  {
   "cell_type": "code",
   "execution_count": 281,
   "id": "2dc6ac06",
   "metadata": {},
   "outputs": [
    {
     "data": {
      "text/plain": [
       "array([2000. , 2700. , 2400. , 4500. , 4000. , 2500. , 2100. , 2250. ,\n",
       "       3500. , 3550. , 1750. , 3000. , 2125. , 4850. , 2200. , 4600. ,\n",
       "       4800. , 2625. , 4400. , 2300. , 2375. , 2975. , 3750. , 3800. ,\n",
       "       4200. , 4250. ,    nan, 2275. , 2325. , 1900. , 4300. , 3125. ,\n",
       "       1700. , 2600. , 1600. , 4700. , 2875. , 1300. , 1740. , 3650. ,\n",
       "       3200. , 4386. , 2750. , 2525. , 1800. , 3275. , 1470. , 5000. ,\n",
       "       1950. , 3600. , 1820. , 4388. , 2150. , 1650. , 4100. , 4750. ,\n",
       "       2950. , 3300. , 3100. , 3400. , 3775. , 1850. , 2225. , 1500. ,\n",
       "       1875. , 2650. , 2800. , 3325. , 1462.5, 3175. , 2050. , 2340. ,\n",
       "       3700. ])"
      ]
     },
     "execution_count": 281,
     "metadata": {},
     "output_type": "execute_result"
    }
   ],
   "source": [
    "numcols.torque.unique()"
   ]
  },
  {
   "cell_type": "code",
   "execution_count": 282,
   "id": "760eb692",
   "metadata": {},
   "outputs": [
    {
     "data": {
      "text/plain": [
       "count    8125.000000\n",
       "mean     2865.391200\n",
       "std       941.266255\n",
       "min      1300.000000\n",
       "25%      2125.000000\n",
       "50%      2400.000000\n",
       "75%      3800.000000\n",
       "max      5000.000000\n",
       "Name: torque, dtype: float64"
      ]
     },
     "execution_count": 282,
     "metadata": {},
     "output_type": "execute_result"
    }
   ],
   "source": [
    "numcols.torque.describe()"
   ]
  },
  {
   "cell_type": "code",
   "execution_count": 283,
   "id": "c6b115ff",
   "metadata": {},
   "outputs": [],
   "source": [
    "numcols.torque = numcols.torque.fillna(2400)"
   ]
  },
  {
   "cell_type": "code",
   "execution_count": 284,
   "id": "fe470825",
   "metadata": {},
   "outputs": [
    {
     "data": {
      "text/plain": [
       "km_driven    0\n",
       "mileage      0\n",
       "engine       0\n",
       "max_power    0\n",
       "torque       0\n",
       "dtype: int64"
      ]
     },
     "execution_count": 284,
     "metadata": {},
     "output_type": "execute_result"
    }
   ],
   "source": [
    "numcols.isnull().sum()"
   ]
  },
  {
   "cell_type": "markdown",
   "id": "ca18c3ea",
   "metadata": {},
   "source": [
    "## Scaling :"
   ]
  },
  {
   "cell_type": "code",
   "execution_count": 285,
   "id": "c5ff7291",
   "metadata": {},
   "outputs": [],
   "source": [
    "from sklearn.preprocessing import StandardScaler"
   ]
  },
  {
   "cell_type": "code",
   "execution_count": 286,
   "id": "484c26ef",
   "metadata": {},
   "outputs": [],
   "source": [
    "std_scaler = StandardScaler()"
   ]
  },
  {
   "cell_type": "code",
   "execution_count": 287,
   "id": "9cd79d1e",
   "metadata": {},
   "outputs": [],
   "source": [
    "numcols_std = std_scaler.fit_transform(numcols)"
   ]
  },
  {
   "cell_type": "code",
   "execution_count": 288,
   "id": "846e6820",
   "metadata": {},
   "outputs": [],
   "source": [
    "# changing from array to dataframe\n",
    "numcols_std = pd.DataFrame(numcols_std, columns=numcols.columns)"
   ]
  },
  {
   "cell_type": "code",
   "execution_count": 289,
   "id": "263ae05f",
   "metadata": {},
   "outputs": [
    {
     "data": {
      "text/html": [
       "<div>\n",
       "<style scoped>\n",
       "    .dataframe tbody tr th:only-of-type {\n",
       "        vertical-align: middle;\n",
       "    }\n",
       "\n",
       "    .dataframe tbody tr th {\n",
       "        vertical-align: top;\n",
       "    }\n",
       "\n",
       "    .dataframe thead th {\n",
       "        text-align: right;\n",
       "    }\n",
       "</style>\n",
       "<table border=\"1\" class=\"dataframe\">\n",
       "  <thead>\n",
       "    <tr style=\"text-align: right;\">\n",
       "      <th></th>\n",
       "      <th>km_driven</th>\n",
       "      <th>mileage</th>\n",
       "      <th>engine</th>\n",
       "      <th>max_power</th>\n",
       "      <th>torque</th>\n",
       "    </tr>\n",
       "  </thead>\n",
       "  <tbody>\n",
       "    <tr>\n",
       "      <th>0</th>\n",
       "      <td>1.730626</td>\n",
       "      <td>1.018159</td>\n",
       "      <td>-0.383146</td>\n",
       "      <td>-0.489883</td>\n",
       "      <td>-0.919393</td>\n",
       "    </tr>\n",
       "    <tr>\n",
       "      <th>1</th>\n",
       "      <td>1.158908</td>\n",
       "      <td>0.434639</td>\n",
       "      <td>0.167064</td>\n",
       "      <td>0.438963</td>\n",
       "      <td>-0.919393</td>\n",
       "    </tr>\n",
       "    <tr>\n",
       "      <th>2</th>\n",
       "      <td>1.607314</td>\n",
       "      <td>-0.453550</td>\n",
       "      <td>0.164863</td>\n",
       "      <td>-0.364023</td>\n",
       "      <td>-0.175564</td>\n",
       "    </tr>\n",
       "    <tr>\n",
       "      <th>3</th>\n",
       "      <td>1.315850</td>\n",
       "      <td>0.914881</td>\n",
       "      <td>-0.057422</td>\n",
       "      <td>0.013557</td>\n",
       "      <td>-0.494348</td>\n",
       "    </tr>\n",
       "    <tr>\n",
       "      <th>4</th>\n",
       "      <td>1.158908</td>\n",
       "      <td>-0.866661</td>\n",
       "      <td>-0.273104</td>\n",
       "      <td>-0.043080</td>\n",
       "      <td>1.737138</td>\n",
       "    </tr>\n",
       "  </tbody>\n",
       "</table>\n",
       "</div>"
      ],
      "text/plain": [
       "   km_driven   mileage    engine  max_power    torque\n",
       "0   1.730626  1.018159 -0.383146  -0.489883 -0.919393\n",
       "1   1.158908  0.434639  0.167064   0.438963 -0.919393\n",
       "2   1.607314 -0.453550  0.164863  -0.364023 -0.175564\n",
       "3   1.315850  0.914881 -0.057422   0.013557 -0.494348\n",
       "4   1.158908 -0.866661 -0.273104  -0.043080  1.737138"
      ]
     },
     "execution_count": 289,
     "metadata": {},
     "output_type": "execute_result"
    }
   ],
   "source": [
    "numcols_std.head()"
   ]
  },
  {
   "cell_type": "code",
   "execution_count": null,
   "id": "06c8f079",
   "metadata": {},
   "outputs": [],
   "source": []
  },
  {
   "cell_type": "code",
   "execution_count": 290,
   "id": "20c2c3f5",
   "metadata": {},
   "outputs": [],
   "source": [
    "from sklearn.preprocessing import MinMaxScaler"
   ]
  },
  {
   "cell_type": "code",
   "execution_count": 291,
   "id": "b3383964",
   "metadata": {},
   "outputs": [],
   "source": [
    "minmax = MinMaxScaler()"
   ]
  },
  {
   "cell_type": "code",
   "execution_count": 292,
   "id": "40491e1f",
   "metadata": {},
   "outputs": [],
   "source": [
    "numcols_minmax = minmax.fit_transform(numcols)"
   ]
  },
  {
   "cell_type": "code",
   "execution_count": 293,
   "id": "48a9a5b0",
   "metadata": {},
   "outputs": [],
   "source": [
    "numcols_minmax = pd.DataFrame(numcols_minmax, columns= numcols.columns)"
   ]
  },
  {
   "cell_type": "code",
   "execution_count": 294,
   "id": "3c3ae6eb",
   "metadata": {},
   "outputs": [
    {
     "data": {
      "text/html": [
       "<div>\n",
       "<style scoped>\n",
       "    .dataframe tbody tr th:only-of-type {\n",
       "        vertical-align: middle;\n",
       "    }\n",
       "\n",
       "    .dataframe tbody tr th {\n",
       "        vertical-align: top;\n",
       "    }\n",
       "\n",
       "    .dataframe thead th {\n",
       "        text-align: right;\n",
       "    }\n",
       "</style>\n",
       "<table border=\"1\" class=\"dataframe\">\n",
       "  <thead>\n",
       "    <tr style=\"text-align: right;\">\n",
       "      <th></th>\n",
       "      <th>km_driven</th>\n",
       "      <th>mileage</th>\n",
       "      <th>engine</th>\n",
       "      <th>max_power</th>\n",
       "      <th>torque</th>\n",
       "    </tr>\n",
       "  </thead>\n",
       "  <tbody>\n",
       "    <tr>\n",
       "      <th>0</th>\n",
       "      <td>0.510525</td>\n",
       "      <td>0.589198</td>\n",
       "      <td>0.301158</td>\n",
       "      <td>0.372796</td>\n",
       "      <td>0.189189</td>\n",
       "    </tr>\n",
       "    <tr>\n",
       "      <th>1</th>\n",
       "      <td>0.421051</td>\n",
       "      <td>0.496727</td>\n",
       "      <td>0.421815</td>\n",
       "      <td>0.521511</td>\n",
       "      <td>0.189189</td>\n",
       "    </tr>\n",
       "    <tr>\n",
       "      <th>2</th>\n",
       "      <td>0.491226</td>\n",
       "      <td>0.355974</td>\n",
       "      <td>0.421332</td>\n",
       "      <td>0.392947</td>\n",
       "      <td>0.378378</td>\n",
       "    </tr>\n",
       "    <tr>\n",
       "      <th>3</th>\n",
       "      <td>0.445612</td>\n",
       "      <td>0.572831</td>\n",
       "      <td>0.372587</td>\n",
       "      <td>0.453401</td>\n",
       "      <td>0.297297</td>\n",
       "    </tr>\n",
       "    <tr>\n",
       "      <th>4</th>\n",
       "      <td>0.421051</td>\n",
       "      <td>0.290507</td>\n",
       "      <td>0.325290</td>\n",
       "      <td>0.444332</td>\n",
       "      <td>0.864865</td>\n",
       "    </tr>\n",
       "  </tbody>\n",
       "</table>\n",
       "</div>"
      ],
      "text/plain": [
       "   km_driven   mileage    engine  max_power    torque\n",
       "0   0.510525  0.589198  0.301158   0.372796  0.189189\n",
       "1   0.421051  0.496727  0.421815   0.521511  0.189189\n",
       "2   0.491226  0.355974  0.421332   0.392947  0.378378\n",
       "3   0.445612  0.572831  0.372587   0.453401  0.297297\n",
       "4   0.421051  0.290507  0.325290   0.444332  0.864865"
      ]
     },
     "execution_count": 294,
     "metadata": {},
     "output_type": "execute_result"
    }
   ],
   "source": [
    "numcols_minmax.head()"
   ]
  },
  {
   "cell_type": "code",
   "execution_count": null,
   "id": "cc5c1950",
   "metadata": {},
   "outputs": [],
   "source": []
  },
  {
   "cell_type": "code",
   "execution_count": 295,
   "id": "2b076a43",
   "metadata": {},
   "outputs": [],
   "source": [
    "from sklearn.preprocessing import RobustScaler"
   ]
  },
  {
   "cell_type": "code",
   "execution_count": 296,
   "id": "8ed841e1",
   "metadata": {},
   "outputs": [],
   "source": [
    "robust = RobustScaler()"
   ]
  },
  {
   "cell_type": "code",
   "execution_count": 297,
   "id": "b64efa65",
   "metadata": {},
   "outputs": [],
   "source": [
    "numcols_robust = robust.fit_transform(numcols)"
   ]
  },
  {
   "cell_type": "code",
   "execution_count": 298,
   "id": "d3dc10a2",
   "metadata": {},
   "outputs": [],
   "source": [
    "numcols_robust = pd.DataFrame(numcols_robust, columns= numcols.columns)"
   ]
  },
  {
   "cell_type": "code",
   "execution_count": 299,
   "id": "f16f73bc",
   "metadata": {},
   "outputs": [
    {
     "data": {
      "text/html": [
       "<div>\n",
       "<style scoped>\n",
       "    .dataframe tbody tr th:only-of-type {\n",
       "        vertical-align: middle;\n",
       "    }\n",
       "\n",
       "    .dataframe tbody tr th {\n",
       "        vertical-align: top;\n",
       "    }\n",
       "\n",
       "    .dataframe thead th {\n",
       "        text-align: right;\n",
       "    }\n",
       "</style>\n",
       "<table border=\"1\" class=\"dataframe\">\n",
       "  <thead>\n",
       "    <tr style=\"text-align: right;\">\n",
       "      <th></th>\n",
       "      <th>km_driven</th>\n",
       "      <th>mileage</th>\n",
       "      <th>engine</th>\n",
       "      <th>max_power</th>\n",
       "      <th>torque</th>\n",
       "    </tr>\n",
       "  </thead>\n",
       "  <tbody>\n",
       "    <tr>\n",
       "      <th>0</th>\n",
       "      <td>1.401639</td>\n",
       "      <td>0.727828</td>\n",
       "      <td>0.000000</td>\n",
       "      <td>-0.246381</td>\n",
       "      <td>-0.238806</td>\n",
       "    </tr>\n",
       "    <tr>\n",
       "      <th>1</th>\n",
       "      <td>0.983607</td>\n",
       "      <td>0.314665</td>\n",
       "      <td>0.830565</td>\n",
       "      <td>0.662766</td>\n",
       "      <td>-0.238806</td>\n",
       "    </tr>\n",
       "    <tr>\n",
       "      <th>2</th>\n",
       "      <td>1.311475</td>\n",
       "      <td>-0.314220</td>\n",
       "      <td>0.827243</td>\n",
       "      <td>-0.123191</td>\n",
       "      <td>0.179104</td>\n",
       "    </tr>\n",
       "    <tr>\n",
       "      <th>3</th>\n",
       "      <td>1.098361</td>\n",
       "      <td>0.654701</td>\n",
       "      <td>0.491694</td>\n",
       "      <td>0.246381</td>\n",
       "      <td>0.000000</td>\n",
       "    </tr>\n",
       "    <tr>\n",
       "      <th>4</th>\n",
       "      <td>0.983607</td>\n",
       "      <td>-0.606725</td>\n",
       "      <td>0.166113</td>\n",
       "      <td>0.190945</td>\n",
       "      <td>1.253731</td>\n",
       "    </tr>\n",
       "  </tbody>\n",
       "</table>\n",
       "</div>"
      ],
      "text/plain": [
       "   km_driven   mileage    engine  max_power    torque\n",
       "0   1.401639  0.727828  0.000000  -0.246381 -0.238806\n",
       "1   0.983607  0.314665  0.830565   0.662766 -0.238806\n",
       "2   1.311475 -0.314220  0.827243  -0.123191  0.179104\n",
       "3   1.098361  0.654701  0.491694   0.246381  0.000000\n",
       "4   0.983607 -0.606725  0.166113   0.190945  1.253731"
      ]
     },
     "execution_count": 299,
     "metadata": {},
     "output_type": "execute_result"
    }
   ],
   "source": [
    "numcols_robust.head()"
   ]
  },
  {
   "cell_type": "code",
   "execution_count": 300,
   "id": "bd24cb06",
   "metadata": {},
   "outputs": [
    {
     "data": {
      "text/plain": [
       "<Axes: >"
      ]
     },
     "execution_count": 300,
     "metadata": {},
     "output_type": "execute_result"
    },
    {
     "data": {
      "image/png": "[encoded data removed]",
      "text/plain": [
       "<Figure size 640x480 with 1 Axes>"
      ]
     },
     "metadata": {},
     "output_type": "display_data"
    }
   ],
   "source": [
    "sns.boxplot(numcols_std, orient = \"h\")"
   ]
  },
  {
   "cell_type": "code",
   "execution_count": 301,
   "id": "4a332b28",
   "metadata": {},
   "outputs": [],
   "source": [
    "# encoding objcols \n",
    "# as name column is creating 1000's of columns when we are dummy encoding so,we are dropping name column \n",
    "objcols = objcols.drop(\"name\",axis=1)"
   ]
  },
  {
   "cell_type": "code",
   "execution_count": 302,
   "id": "a4ded9ba",
   "metadata": {},
   "outputs": [],
   "source": [
    "objcols_dummy = pd.get_dummies(objcols)"
   ]
  },
  {
   "cell_type": "code",
   "execution_count": 303,
   "id": "fd87c3a5",
   "metadata": {},
   "outputs": [
    {
     "data": {
      "text/html": [
       "<div>\n",
       "<style scoped>\n",
       "    .dataframe tbody tr th:only-of-type {\n",
       "        vertical-align: middle;\n",
       "    }\n",
       "\n",
       "    .dataframe tbody tr th {\n",
       "        vertical-align: top;\n",
       "    }\n",
       "\n",
       "    .dataframe thead th {\n",
       "        text-align: right;\n",
       "    }\n",
       "</style>\n",
       "<table border=\"1\" class=\"dataframe\">\n",
       "  <thead>\n",
       "    <tr style=\"text-align: right;\">\n",
       "      <th></th>\n",
       "      <th>fuel_CNG</th>\n",
       "      <th>fuel_Diesel</th>\n",
       "      <th>fuel_LPG</th>\n",
       "      <th>fuel_Petrol</th>\n",
       "      <th>seller_type_Dealer</th>\n",
       "      <th>seller_type_Individual</th>\n",
       "      <th>seller_type_Trustmark Dealer</th>\n",
       "      <th>transmission_Automatic</th>\n",
       "      <th>transmission_Manual</th>\n",
       "      <th>owner_First Owner</th>\n",
       "      <th>owner_Fourth &amp; Above Owner</th>\n",
       "      <th>owner_Second Owner</th>\n",
       "      <th>owner_Test Drive Car</th>\n",
       "      <th>owner_Third Owner</th>\n",
       "    </tr>\n",
       "  </thead>\n",
       "  <tbody>\n",
       "    <tr>\n",
       "      <th>0</th>\n",
       "      <td>False</td>\n",
       "      <td>True</td>\n",
       "      <td>False</td>\n",
       "      <td>False</td>\n",
       "      <td>False</td>\n",
       "      <td>True</td>\n",
       "      <td>False</td>\n",
       "      <td>False</td>\n",
       "      <td>True</td>\n",
       "      <td>True</td>\n",
       "      <td>False</td>\n",
       "      <td>False</td>\n",
       "      <td>False</td>\n",
       "      <td>False</td>\n",
       "    </tr>\n",
       "    <tr>\n",
       "      <th>1</th>\n",
       "      <td>False</td>\n",
       "      <td>True</td>\n",
       "      <td>False</td>\n",
       "      <td>False</td>\n",
       "      <td>False</td>\n",
       "      <td>True</td>\n",
       "      <td>False</td>\n",
       "      <td>False</td>\n",
       "      <td>True</td>\n",
       "      <td>False</td>\n",
       "      <td>False</td>\n",
       "      <td>True</td>\n",
       "      <td>False</td>\n",
       "      <td>False</td>\n",
       "    </tr>\n",
       "  </tbody>\n",
       "</table>\n",
       "</div>"
      ],
      "text/plain": [
       "   fuel_CNG  fuel_Diesel  fuel_LPG  fuel_Petrol  seller_type_Dealer  \\\n",
       "0     False         True     False        False               False   \n",
       "1     False         True     False        False               False   \n",
       "\n",
       "   seller_type_Individual  seller_type_Trustmark Dealer  \\\n",
       "0                    True                         False   \n",
       "1                    True                         False   \n",
       "\n",
       "   transmission_Automatic  transmission_Manual  owner_First Owner  \\\n",
       "0                   False                 True               True   \n",
       "1                   False                 True              False   \n",
       "\n",
       "   owner_Fourth & Above Owner  owner_Second Owner  owner_Test Drive Car  \\\n",
       "0                       False               False                 False   \n",
       "1                       False                True                 False   \n",
       "\n",
       "   owner_Third Owner  \n",
       "0              False  \n",
       "1              False  "
      ]
     },
     "execution_count": 303,
     "metadata": {},
     "output_type": "execute_result"
    }
   ],
   "source": [
    "objcols_dummy.head(2)"
   ]
  },
  {
   "cell_type": "code",
   "execution_count": 304,
   "id": "67fc50c7",
   "metadata": {},
   "outputs": [],
   "source": [
    "objcols_dummy.replace({False:0,True:1},inplace=True)"
   ]
  },
  {
   "cell_type": "code",
   "execution_count": 305,
   "id": "6cc8776a",
   "metadata": {},
   "outputs": [
    {
     "data": {
      "text/html": [
       "<div>\n",
       "<style scoped>\n",
       "    .dataframe tbody tr th:only-of-type {\n",
       "        vertical-align: middle;\n",
       "    }\n",
       "\n",
       "    .dataframe tbody tr th {\n",
       "        vertical-align: top;\n",
       "    }\n",
       "\n",
       "    .dataframe thead th {\n",
       "        text-align: right;\n",
       "    }\n",
       "</style>\n",
       "<table border=\"1\" class=\"dataframe\">\n",
       "  <thead>\n",
       "    <tr style=\"text-align: right;\">\n",
       "      <th></th>\n",
       "      <th>fuel_CNG</th>\n",
       "      <th>fuel_Diesel</th>\n",
       "      <th>fuel_LPG</th>\n",
       "      <th>fuel_Petrol</th>\n",
       "      <th>seller_type_Dealer</th>\n",
       "      <th>seller_type_Individual</th>\n",
       "      <th>seller_type_Trustmark Dealer</th>\n",
       "      <th>transmission_Automatic</th>\n",
       "      <th>transmission_Manual</th>\n",
       "      <th>owner_First Owner</th>\n",
       "      <th>owner_Fourth &amp; Above Owner</th>\n",
       "      <th>owner_Second Owner</th>\n",
       "      <th>owner_Test Drive Car</th>\n",
       "      <th>owner_Third Owner</th>\n",
       "    </tr>\n",
       "  </thead>\n",
       "  <tbody>\n",
       "    <tr>\n",
       "      <th>0</th>\n",
       "      <td>0</td>\n",
       "      <td>1</td>\n",
       "      <td>0</td>\n",
       "      <td>0</td>\n",
       "      <td>0</td>\n",
       "      <td>1</td>\n",
       "      <td>0</td>\n",
       "      <td>0</td>\n",
       "      <td>1</td>\n",
       "      <td>1</td>\n",
       "      <td>0</td>\n",
       "      <td>0</td>\n",
       "      <td>0</td>\n",
       "      <td>0</td>\n",
       "    </tr>\n",
       "    <tr>\n",
       "      <th>1</th>\n",
       "      <td>0</td>\n",
       "      <td>1</td>\n",
       "      <td>0</td>\n",
       "      <td>0</td>\n",
       "      <td>0</td>\n",
       "      <td>1</td>\n",
       "      <td>0</td>\n",
       "      <td>0</td>\n",
       "      <td>1</td>\n",
       "      <td>0</td>\n",
       "      <td>0</td>\n",
       "      <td>1</td>\n",
       "      <td>0</td>\n",
       "      <td>0</td>\n",
       "    </tr>\n",
       "  </tbody>\n",
       "</table>\n",
       "</div>"
      ],
      "text/plain": [
       "   fuel_CNG  fuel_Diesel  fuel_LPG  fuel_Petrol  seller_type_Dealer  \\\n",
       "0         0            1         0            0                   0   \n",
       "1         0            1         0            0                   0   \n",
       "\n",
       "   seller_type_Individual  seller_type_Trustmark Dealer  \\\n",
       "0                       1                             0   \n",
       "1                       1                             0   \n",
       "\n",
       "   transmission_Automatic  transmission_Manual  owner_First Owner  \\\n",
       "0                       0                    1                  1   \n",
       "1                       0                    1                  0   \n",
       "\n",
       "   owner_Fourth & Above Owner  owner_Second Owner  owner_Test Drive Car  \\\n",
       "0                           0                   0                     0   \n",
       "1                           0                   1                     0   \n",
       "\n",
       "   owner_Third Owner  \n",
       "0                  0  \n",
       "1                  0  "
      ]
     },
     "execution_count": 305,
     "metadata": {},
     "output_type": "execute_result"
    }
   ],
   "source": [
    "objcols_dummy.head(2)"
   ]
  },
  {
   "cell_type": "code",
   "execution_count": 306,
   "id": "6f9af773",
   "metadata": {},
   "outputs": [],
   "source": [
    "combinedf = pd.concat([numcols_std,objcols_dummy], axis = 1)"
   ]
  },
  {
   "cell_type": "code",
   "execution_count": 307,
   "id": "d3fffec9",
   "metadata": {},
   "outputs": [
    {
     "data": {
      "text/html": [
       "<div>\n",
       "<style scoped>\n",
       "    .dataframe tbody tr th:only-of-type {\n",
       "        vertical-align: middle;\n",
       "    }\n",
       "\n",
       "    .dataframe tbody tr th {\n",
       "        vertical-align: top;\n",
       "    }\n",
       "\n",
       "    .dataframe thead th {\n",
       "        text-align: right;\n",
       "    }\n",
       "</style>\n",
       "<table border=\"1\" class=\"dataframe\">\n",
       "  <thead>\n",
       "    <tr style=\"text-align: right;\">\n",
       "      <th></th>\n",
       "      <th>km_driven</th>\n",
       "      <th>mileage</th>\n",
       "      <th>engine</th>\n",
       "      <th>max_power</th>\n",
       "      <th>torque</th>\n",
       "      <th>fuel_CNG</th>\n",
       "      <th>fuel_Diesel</th>\n",
       "      <th>fuel_LPG</th>\n",
       "      <th>fuel_Petrol</th>\n",
       "      <th>seller_type_Dealer</th>\n",
       "      <th>seller_type_Individual</th>\n",
       "      <th>seller_type_Trustmark Dealer</th>\n",
       "      <th>transmission_Automatic</th>\n",
       "      <th>transmission_Manual</th>\n",
       "      <th>owner_First Owner</th>\n",
       "      <th>owner_Fourth &amp; Above Owner</th>\n",
       "      <th>owner_Second Owner</th>\n",
       "      <th>owner_Test Drive Car</th>\n",
       "      <th>owner_Third Owner</th>\n",
       "    </tr>\n",
       "  </thead>\n",
       "  <tbody>\n",
       "    <tr>\n",
       "      <th>0</th>\n",
       "      <td>1.730626</td>\n",
       "      <td>1.018159</td>\n",
       "      <td>-0.383146</td>\n",
       "      <td>-0.489883</td>\n",
       "      <td>-0.919393</td>\n",
       "      <td>0</td>\n",
       "      <td>1</td>\n",
       "      <td>0</td>\n",
       "      <td>0</td>\n",
       "      <td>0</td>\n",
       "      <td>1</td>\n",
       "      <td>0</td>\n",
       "      <td>0</td>\n",
       "      <td>1</td>\n",
       "      <td>1</td>\n",
       "      <td>0</td>\n",
       "      <td>0</td>\n",
       "      <td>0</td>\n",
       "      <td>0</td>\n",
       "    </tr>\n",
       "    <tr>\n",
       "      <th>1</th>\n",
       "      <td>1.158908</td>\n",
       "      <td>0.434639</td>\n",
       "      <td>0.167064</td>\n",
       "      <td>0.438963</td>\n",
       "      <td>-0.919393</td>\n",
       "      <td>0</td>\n",
       "      <td>1</td>\n",
       "      <td>0</td>\n",
       "      <td>0</td>\n",
       "      <td>0</td>\n",
       "      <td>1</td>\n",
       "      <td>0</td>\n",
       "      <td>0</td>\n",
       "      <td>1</td>\n",
       "      <td>0</td>\n",
       "      <td>0</td>\n",
       "      <td>1</td>\n",
       "      <td>0</td>\n",
       "      <td>0</td>\n",
       "    </tr>\n",
       "  </tbody>\n",
       "</table>\n",
       "</div>"
      ],
      "text/plain": [
       "   km_driven   mileage    engine  max_power    torque  fuel_CNG  fuel_Diesel  \\\n",
       "0   1.730626  1.018159 -0.383146  -0.489883 -0.919393         0            1   \n",
       "1   1.158908  0.434639  0.167064   0.438963 -0.919393         0            1   \n",
       "\n",
       "   fuel_LPG  fuel_Petrol  seller_type_Dealer  seller_type_Individual  \\\n",
       "0         0            0                   0                       1   \n",
       "1         0            0                   0                       1   \n",
       "\n",
       "   seller_type_Trustmark Dealer  transmission_Automatic  transmission_Manual  \\\n",
       "0                             0                       0                    1   \n",
       "1                             0                       0                    1   \n",
       "\n",
       "   owner_First Owner  owner_Fourth & Above Owner  owner_Second Owner  \\\n",
       "0                  1                           0                   0   \n",
       "1                  0                           0                   1   \n",
       "\n",
       "   owner_Test Drive Car  owner_Third Owner  \n",
       "0                     0                  0  \n",
       "1                     0                  0  "
      ]
     },
     "execution_count": 307,
     "metadata": {},
     "output_type": "execute_result"
    }
   ],
   "source": [
    "combinedf.head(2)"
   ]
  },
  {
   "cell_type": "code",
   "execution_count": 308,
   "id": "59458bc2",
   "metadata": {},
   "outputs": [
    {
     "data": {
      "text/plain": [
       "<Axes: >"
      ]
     },
     "execution_count": 308,
     "metadata": {},
     "output_type": "execute_result"
    },
    {
     "data": {
      "image/png": "[encoded data removed]",
      "text/plain": [
       "<Figure size 3000x1500 with 2 Axes>"
      ]
     },
     "metadata": {},
     "output_type": "display_data"
    }
   ],
   "source": [
    "plt.figure(figsize=(30,15))\n",
    "sns.heatmap(combinedf.corr(),annot=True)\n",
    "# there is no multi collinearity"
   ]
  },
  {
   "cell_type": "code",
   "execution_count": 309,
   "id": "e8c421a1-2b74-45c4-874b-800ba6b8bc67",
   "metadata": {},
   "outputs": [
    {
     "name": "stdout",
     "output_type": "stream",
     "text": [
      "<class 'pandas.core.frame.DataFrame'>\n",
      "RangeIndex: 8128 entries, 0 to 8127\n",
      "Data columns (total 19 columns):\n",
      " #   Column                        Non-Null Count  Dtype  \n",
      "---  ------                        --------------  -----  \n",
      " 0   km_driven                     8128 non-null   float64\n",
      " 1   mileage                       8128 non-null   float64\n",
      " 2   engine                        8128 non-null   float64\n",
      " 3   max_power                     8128 non-null   float64\n",
      " 4   torque                        8128 non-null   float64\n",
      " 5   fuel_CNG                      8128 non-null   int64  \n",
      " 6   fuel_Diesel                   8128 non-null   int64  \n",
      " 7   fuel_LPG                      8128 non-null   int64  \n",
      " 8   fuel_Petrol                   8128 non-null   int64  \n",
      " 9   seller_type_Dealer            8128 non-null   int64  \n",
      " 10  seller_type_Individual        8128 non-null   int64  \n",
      " 11  seller_type_Trustmark Dealer  8128 non-null   int64  \n",
      " 12  transmission_Automatic        8128 non-null   int64  \n",
      " 13  transmission_Manual           8128 non-null   int64  \n",
      " 14  owner_First Owner             8128 non-null   int64  \n",
      " 15  owner_Fourth & Above Owner    8128 non-null   int64  \n",
      " 16  owner_Second Owner            8128 non-null   int64  \n",
      " 17  owner_Test Drive Car          8128 non-null   int64  \n",
      " 18  owner_Third Owner             8128 non-null   int64  \n",
      "dtypes: float64(5), int64(14)\n",
      "memory usage: 1.2 MB\n"
     ]
    }
   ],
   "source": [
    "combinedf.info()"
   ]
  },
  {
   "cell_type": "code",
   "execution_count": 310,
   "id": "78ab1092",
   "metadata": {},
   "outputs": [],
   "source": [
    "# Splitting of Data into dependent and independent variables for data modeling \n",
    "X = combinedf"
   ]
  },
  {
   "cell_type": "code",
   "execution_count": 311,
   "id": "b8998663",
   "metadata": {},
   "outputs": [
    {
     "name": "stdout",
     "output_type": "stream",
     "text": [
      "(8128,)\n",
      "(8128, 19)\n"
     ]
    }
   ],
   "source": [
    "print(y.shape)\n",
    "print(X.shape)"
   ]
  },
  {
   "cell_type": "code",
   "execution_count": null,
   "id": "794b72e9",
   "metadata": {},
   "outputs": [],
   "source": []
  },
  {
   "cell_type": "markdown",
   "id": "af9005a1",
   "metadata": {},
   "source": [
    "## Model Building :"
   ]
  },
  {
   "cell_type": "markdown",
   "id": "2c698a71",
   "metadata": {},
   "source": [
    "## Linear Regression:"
   ]
  },
  {
   "cell_type": "code",
   "execution_count": 312,
   "id": "dde81167",
   "metadata": {},
   "outputs": [],
   "source": [
    "from sklearn.linear_model import LinearRegression"
   ]
  },
  {
   "cell_type": "code",
   "execution_count": 313,
   "id": "f52d7680",
   "metadata": {},
   "outputs": [],
   "source": [
    "reg = LinearRegression()"
   ]
  },
  {
   "cell_type": "code",
   "execution_count": 314,
   "id": "fff050a5",
   "metadata": {},
   "outputs": [],
   "source": [
    "reg_model = reg.fit(X,y)"
   ]
  },
  {
   "cell_type": "code",
   "execution_count": 315,
   "id": "804d1649",
   "metadata": {},
   "outputs": [
    {
     "data": {
      "text/plain": [
       "0.5751581333504806"
      ]
     },
     "execution_count": 315,
     "metadata": {},
     "output_type": "execute_result"
    }
   ],
   "source": [
    "# Score says about how well the model fits the training data\n",
    "reg_model.score(X,y)"
   ]
  },
  {
   "cell_type": "code",
   "execution_count": 316,
   "id": "2c89b03c",
   "metadata": {},
   "outputs": [],
   "source": [
    "from sklearn.model_selection import cross_val_score"
   ]
  },
  {
   "cell_type": "code",
   "execution_count": 317,
   "id": "831880c4",
   "metadata": {},
   "outputs": [
    {
     "data": {
      "text/plain": [
       "array([0.55835299, 0.55683209, 0.5957405 , 0.55054173, 0.56344834])"
      ]
     },
     "execution_count": 317,
     "metadata": {},
     "output_type": "execute_result"
    }
   ],
   "source": [
    "cross_val_score(reg,X,y)"
   ]
  },
  {
   "cell_type": "code",
   "execution_count": 318,
   "id": "8291a17f",
   "metadata": {},
   "outputs": [
    {
     "data": {
      "text/plain": [
       "0.56498313"
      ]
     },
     "execution_count": 318,
     "metadata": {},
     "output_type": "execute_result"
    }
   ],
   "source": [
    "np.mean([0.55835299, 0.55683209, 0.5957405 , 0.55054173, 0.56344834])"
   ]
  },
  {
   "cell_type": "code",
   "execution_count": 319,
   "id": "8bb9fc42",
   "metadata": {},
   "outputs": [],
   "source": [
    "reg_predict = reg_model.predict(X)"
   ]
  },
  {
   "cell_type": "code",
   "execution_count": 320,
   "id": "255478a9",
   "metadata": {},
   "outputs": [],
   "source": [
    "# It calculates the residuals, which are the differences between the actual target variable (y) and the predicted values.\n",
    "reg_residual = y - reg_predict"
   ]
  },
  {
   "cell_type": "code",
   "execution_count": 321,
   "id": "322f61ae",
   "metadata": {},
   "outputs": [
    {
     "data": {
      "text/plain": [
       "525482.7905631114"
      ]
     },
     "execution_count": 321,
     "metadata": {},
     "output_type": "execute_result"
    }
   ],
   "source": [
    "# RMSE - It calculates the root mean squared error (RMSE) of the model's predictions. \n",
    "# RMSE measures the average magnitude of prediction errors. A lower RMSE indicates better model performance.\n",
    "np.sqrt(np.mean(reg_residual**2))"
   ]
  },
  {
   "cell_type": "code",
   "execution_count": 322,
   "id": "a778fd2b",
   "metadata": {},
   "outputs": [],
   "source": [
    "# Making predictions on log-transformed data"
   ]
  },
  {
   "cell_type": "code",
   "execution_count": 323,
   "id": "8d62a322",
   "metadata": {},
   "outputs": [],
   "source": [
    "reg_model = reg.fit(X,np.log(y))"
   ]
  },
  {
   "cell_type": "code",
   "execution_count": 324,
   "id": "c35d3a2d",
   "metadata": {},
   "outputs": [
    {
     "data": {
      "text/plain": [
       "0.7032378332590689"
      ]
     },
     "execution_count": 324,
     "metadata": {},
     "output_type": "execute_result"
    }
   ],
   "source": [
    "reg_model.score(X,np.log(y))"
   ]
  },
  {
   "cell_type": "code",
   "execution_count": 325,
   "id": "d6908187",
   "metadata": {},
   "outputs": [],
   "source": [
    "reg_predict = reg_model.predict(X)"
   ]
  },
  {
   "cell_type": "code",
   "execution_count": 326,
   "id": "2145c2c7",
   "metadata": {},
   "outputs": [],
   "source": [
    "# Exponentiate the predictions to get back to the original scale\n",
    "reg_predict = np.exp(reg_predict)"
   ]
  },
  {
   "cell_type": "code",
   "execution_count": 327,
   "id": "182aed75",
   "metadata": {},
   "outputs": [],
   "source": [
    "reg_residual = y - reg_predict"
   ]
  },
  {
   "cell_type": "code",
   "execution_count": 328,
   "id": "e4373f84",
   "metadata": {},
   "outputs": [
    {
     "data": {
      "text/plain": [
       "465421.4085842132"
      ]
     },
     "execution_count": 328,
     "metadata": {},
     "output_type": "execute_result"
    }
   ],
   "source": [
    "np.sqrt(np.mean(reg_residual**2)) #RMSE"
   ]
  },
  {
   "cell_type": "code",
   "execution_count": null,
   "id": "891d3a8b",
   "metadata": {},
   "outputs": [],
   "source": []
  },
  {
   "cell_type": "markdown",
   "id": "575b0d45",
   "metadata": {},
   "source": [
    "## DecisionTree :"
   ]
  },
  {
   "cell_type": "code",
   "execution_count": 329,
   "id": "208a0969",
   "metadata": {},
   "outputs": [],
   "source": [
    "from sklearn.tree import DecisionTreeRegressor"
   ]
  },
  {
   "cell_type": "code",
   "execution_count": 330,
   "id": "4ad9cb9b",
   "metadata": {},
   "outputs": [],
   "source": [
    "tree = DecisionTreeRegressor(max_depth=4)"
   ]
  },
  {
   "cell_type": "code",
   "execution_count": 331,
   "id": "10bf36cb",
   "metadata": {},
   "outputs": [],
   "source": [
    "treemodel = tree.fit(X,y)"
   ]
  },
  {
   "cell_type": "code",
   "execution_count": 332,
   "id": "6c788ea6",
   "metadata": {},
   "outputs": [
    {
     "data": {
      "text/plain": [
       "0.802941863559547"
      ]
     },
     "execution_count": 332,
     "metadata": {},
     "output_type": "execute_result"
    }
   ],
   "source": [
    "treemodel.score(X,y)"
   ]
  },
  {
   "cell_type": "code",
   "execution_count": 333,
   "id": "9d501c0e",
   "metadata": {},
   "outputs": [
    {
     "data": {
      "text/plain": [
       "array([0.76451891, 0.77601672, 0.79256072, 0.71595472, 0.76357088])"
      ]
     },
     "execution_count": 333,
     "metadata": {},
     "output_type": "execute_result"
    }
   ],
   "source": [
    "cross_val_score(tree,X,y)"
   ]
  },
  {
   "cell_type": "code",
   "execution_count": 401,
   "id": "34b5c077",
   "metadata": {},
   "outputs": [
    {
     "data": {
      "text/plain": [
       "0.76252439"
      ]
     },
     "execution_count": 401,
     "metadata": {},
     "output_type": "execute_result"
    }
   ],
   "source": [
    "np.mean([0.76451891, 0.77601672, 0.79256072, 0.71595472, 0.76357088])"
   ]
  },
  {
   "cell_type": "code",
   "execution_count": 335,
   "id": "767a6412",
   "metadata": {},
   "outputs": [],
   "source": [
    "treepredict = treemodel.predict(X)"
   ]
  },
  {
   "cell_type": "code",
   "execution_count": 336,
   "id": "7ec13837",
   "metadata": {},
   "outputs": [],
   "source": [
    "treeresidual = y - treepredict"
   ]
  },
  {
   "cell_type": "code",
   "execution_count": 337,
   "id": "2f3cd777",
   "metadata": {},
   "outputs": [
    {
     "data": {
      "text/plain": [
       "357883.79097921663"
      ]
     },
     "execution_count": 337,
     "metadata": {},
     "output_type": "execute_result"
    }
   ],
   "source": [
    "np.sqrt(np.mean(treeresidual**2)) #rmse"
   ]
  },
  {
   "cell_type": "code",
   "execution_count": null,
   "id": "66472efc",
   "metadata": {},
   "outputs": [],
   "source": []
  },
  {
   "cell_type": "markdown",
   "id": "62f5c8a9",
   "metadata": {},
   "source": [
    "## RandomForest :"
   ]
  },
  {
   "cell_type": "code",
   "execution_count": 338,
   "id": "55d9fe1a",
   "metadata": {},
   "outputs": [],
   "source": [
    "from sklearn.ensemble import RandomForestRegressor"
   ]
  },
  {
   "cell_type": "code",
   "execution_count": 339,
   "id": "a765856f",
   "metadata": {},
   "outputs": [],
   "source": [
    "ran = RandomForestRegressor(n_estimators=2000,max_depth=4)"
   ]
  },
  {
   "cell_type": "code",
   "execution_count": 340,
   "id": "308d937b",
   "metadata": {},
   "outputs": [],
   "source": [
    "ranmodel = ran.fit(X,y)"
   ]
  },
  {
   "cell_type": "code",
   "execution_count": 341,
   "id": "c2cda558",
   "metadata": {},
   "outputs": [
    {
     "data": {
      "text/plain": [
       "0.822799217138396"
      ]
     },
     "execution_count": 341,
     "metadata": {},
     "output_type": "execute_result"
    }
   ],
   "source": [
    "ranmodel.score(X,y)"
   ]
  },
  {
   "cell_type": "code",
   "execution_count": 342,
   "id": "61e56728",
   "metadata": {},
   "outputs": [
    {
     "data": {
      "text/plain": [
       "array([0.79071725, 0.8036847 , 0.8303969 , 0.76017281, 0.80730095])"
      ]
     },
     "execution_count": 342,
     "metadata": {},
     "output_type": "execute_result"
    }
   ],
   "source": [
    "cross_val_score(ran,X,y)"
   ]
  },
  {
   "cell_type": "code",
   "execution_count": 402,
   "id": "0d61c74b",
   "metadata": {},
   "outputs": [
    {
     "data": {
      "text/plain": [
       "0.7984545220000001"
      ]
     },
     "execution_count": 402,
     "metadata": {},
     "output_type": "execute_result"
    }
   ],
   "source": [
    "np.mean([0.79071725, 0.8036847 , 0.8303969 , 0.76017281, 0.80730095])"
   ]
  },
  {
   "cell_type": "code",
   "execution_count": 344,
   "id": "e963b894",
   "metadata": {},
   "outputs": [],
   "source": [
    "ranpredict = ranmodel.predict(X)"
   ]
  },
  {
   "cell_type": "code",
   "execution_count": 345,
   "id": "1a05d5fb",
   "metadata": {},
   "outputs": [],
   "source": [
    "ranresid = y - ranpredict"
   ]
  },
  {
   "cell_type": "code",
   "execution_count": 346,
   "id": "63fee7e3",
   "metadata": {},
   "outputs": [
    {
     "data": {
      "text/plain": [
       "339373.2922193687"
      ]
     },
     "execution_count": 346,
     "metadata": {},
     "output_type": "execute_result"
    }
   ],
   "source": [
    "np.sqrt(np.mean(ranresid**2))"
   ]
  },
  {
   "cell_type": "code",
   "execution_count": null,
   "id": "3625c975",
   "metadata": {},
   "outputs": [],
   "source": []
  },
  {
   "cell_type": "markdown",
   "id": "9db4cae9",
   "metadata": {},
   "source": [
    "## GradientBoosting :"
   ]
  },
  {
   "cell_type": "code",
   "execution_count": 347,
   "id": "8954f2ad",
   "metadata": {},
   "outputs": [],
   "source": [
    "from sklearn.ensemble import GradientBoostingRegressor"
   ]
  },
  {
   "cell_type": "code",
   "execution_count": 348,
   "id": "ce9c00eb",
   "metadata": {},
   "outputs": [],
   "source": [
    "gbr = GradientBoostingRegressor(n_estimators=3000,max_depth=1)"
   ]
  },
  {
   "cell_type": "code",
   "execution_count": 349,
   "id": "6dbd83e9",
   "metadata": {},
   "outputs": [],
   "source": [
    "gbrmodel = gbr.fit(X,y)"
   ]
  },
  {
   "cell_type": "code",
   "execution_count": 350,
   "id": "62620e2d",
   "metadata": {},
   "outputs": [
    {
     "data": {
      "text/plain": [
       "0.8372891425732678"
      ]
     },
     "execution_count": 350,
     "metadata": {},
     "output_type": "execute_result"
    }
   ],
   "source": [
    "gbrmodel.score(X,y)"
   ]
  },
  {
   "cell_type": "code",
   "execution_count": 351,
   "id": "bbbcd334",
   "metadata": {
    "scrolled": true
   },
   "outputs": [
    {
     "data": {
      "text/plain": [
       "array([0.79499773, 0.82062348, 0.85996526, 0.75541997, 0.81646935])"
      ]
     },
     "execution_count": 351,
     "metadata": {},
     "output_type": "execute_result"
    }
   ],
   "source": [
    "cross_val_score(gbr,X,y)"
   ]
  },
  {
   "cell_type": "code",
   "execution_count": 352,
   "id": "ae4a3b94",
   "metadata": {},
   "outputs": [
    {
     "data": {
      "text/plain": [
       "0.809495158"
      ]
     },
     "execution_count": 352,
     "metadata": {},
     "output_type": "execute_result"
    }
   ],
   "source": [
    "np.mean([0.79499773, 0.82062348, 0.85996526, 0.75541997, 0.81646935])"
   ]
  },
  {
   "cell_type": "code",
   "execution_count": 353,
   "id": "1c69a9d4",
   "metadata": {},
   "outputs": [],
   "source": [
    "gbrpredict  = gbrmodel.predict(X)"
   ]
  },
  {
   "cell_type": "code",
   "execution_count": 354,
   "id": "fa92b05e",
   "metadata": {},
   "outputs": [],
   "source": [
    "gbrresid = y - gbrpredict"
   ]
  },
  {
   "cell_type": "code",
   "execution_count": 355,
   "id": "7aaf8a50",
   "metadata": {},
   "outputs": [
    {
     "data": {
      "text/plain": [
       "325201.9268837196"
      ]
     },
     "execution_count": 355,
     "metadata": {},
     "output_type": "execute_result"
    }
   ],
   "source": [
    "np.sqrt(np.mean(gbrresid**2)) #RMSE"
   ]
  },
  {
   "cell_type": "code",
   "execution_count": null,
   "id": "2a5d15ef",
   "metadata": {},
   "outputs": [],
   "source": []
  },
  {
   "cell_type": "markdown",
   "id": "5f05d11a",
   "metadata": {},
   "source": [
    "### KNN :"
   ]
  },
  {
   "cell_type": "code",
   "execution_count": 356,
   "id": "9432eb1f",
   "metadata": {},
   "outputs": [],
   "source": [
    "from sklearn.neighbors import KNeighborsRegressor"
   ]
  },
  {
   "cell_type": "code",
   "execution_count": 357,
   "id": "4d99e1e0",
   "metadata": {},
   "outputs": [],
   "source": [
    "knn = KNeighborsRegressor(n_neighbors=50)"
   ]
  },
  {
   "cell_type": "code",
   "execution_count": 358,
   "id": "5d6028be",
   "metadata": {},
   "outputs": [],
   "source": [
    "knnmodel=knn.fit(X,y)"
   ]
  },
  {
   "cell_type": "code",
   "execution_count": 359,
   "id": "cc006108",
   "metadata": {},
   "outputs": [
    {
     "data": {
      "text/plain": [
       "0.8433282912744187"
      ]
     },
     "execution_count": 359,
     "metadata": {},
     "output_type": "execute_result"
    }
   ],
   "source": [
    "knnmodel.score(X,y)"
   ]
  },
  {
   "cell_type": "code",
   "execution_count": 360,
   "id": "187f61a1",
   "metadata": {},
   "outputs": [
    {
     "data": {
      "text/plain": [
       "array([0.7601577 , 0.80774341, 0.82391663, 0.81926976, 0.82149017])"
      ]
     },
     "execution_count": 360,
     "metadata": {},
     "output_type": "execute_result"
    }
   ],
   "source": [
    "cross_val_score(knn,X,y)"
   ]
  },
  {
   "cell_type": "code",
   "execution_count": 403,
   "id": "42a70e8d",
   "metadata": {},
   "outputs": [
    {
     "data": {
      "text/plain": [
       "0.8065155340000001"
      ]
     },
     "execution_count": 403,
     "metadata": {},
     "output_type": "execute_result"
    }
   ],
   "source": [
    "np.mean([0.7601577 , 0.80774341, 0.82391663, 0.81926976, 0.82149017])"
   ]
  },
  {
   "cell_type": "code",
   "execution_count": 362,
   "id": "9c429238",
   "metadata": {},
   "outputs": [],
   "source": [
    "knnpredict = knnmodel.predict(X)"
   ]
  },
  {
   "cell_type": "code",
   "execution_count": 363,
   "id": "2645f4f7",
   "metadata": {},
   "outputs": [],
   "source": [
    "knnresidual = y - knnpredict"
   ]
  },
  {
   "cell_type": "code",
   "execution_count": 364,
   "id": "5079e9e2",
   "metadata": {},
   "outputs": [
    {
     "data": {
      "text/plain": [
       "319109.79385111283"
      ]
     },
     "execution_count": 364,
     "metadata": {},
     "output_type": "execute_result"
    }
   ],
   "source": [
    "np.sqrt(np.mean(knnresidual**2))"
   ]
  },
  {
   "cell_type": "code",
   "execution_count": null,
   "id": "b1abab20",
   "metadata": {},
   "outputs": [],
   "source": []
  },
  {
   "cell_type": "markdown",
   "id": "9049e569",
   "metadata": {},
   "source": [
    "## Support Vector Machine :"
   ]
  },
  {
   "cell_type": "code",
   "execution_count": 365,
   "id": "50f59ae5",
   "metadata": {},
   "outputs": [],
   "source": [
    "from sklearn.svm import LinearSVR"
   ]
  },
  {
   "cell_type": "code",
   "execution_count": 366,
   "id": "6355307d",
   "metadata": {},
   "outputs": [],
   "source": [
    "svr = LinearSVR(C=1000)"
   ]
  },
  {
   "cell_type": "code",
   "execution_count": 367,
   "id": "888e4fa8",
   "metadata": {},
   "outputs": [
    {
     "name": "stderr",
     "output_type": "stream",
     "text": [
      "C:\\Users\\srava\\anaconda3\\lib\\site-packages\\sklearn\\svm\\_classes.py:32: FutureWarning: The default value of `dual` will change from `True` to `'auto'` in 1.5. Set the value of `dual` explicitly to suppress the warning.\n",
      "  warnings.warn(\n"
     ]
    }
   ],
   "source": [
    "svrmodel = svr.fit(X,y)"
   ]
  },
  {
   "cell_type": "code",
   "execution_count": 368,
   "id": "514659ab",
   "metadata": {},
   "outputs": [
    {
     "data": {
      "text/plain": [
       "0.40324728401748466"
      ]
     },
     "execution_count": 368,
     "metadata": {},
     "output_type": "execute_result"
    }
   ],
   "source": [
    "svrmodel.score(X,y)"
   ]
  },
  {
   "cell_type": "code",
   "execution_count": 369,
   "id": "29fdc570",
   "metadata": {},
   "outputs": [
    {
     "name": "stderr",
     "output_type": "stream",
     "text": [
      "C:\\Users\\srava\\anaconda3\\lib\\site-packages\\sklearn\\svm\\_classes.py:32: FutureWarning: The default value of `dual` will change from `True` to `'auto'` in 1.5. Set the value of `dual` explicitly to suppress the warning.\n",
      "  warnings.warn(\n",
      "C:\\Users\\srava\\anaconda3\\lib\\site-packages\\sklearn\\svm\\_classes.py:32: FutureWarning: The default value of `dual` will change from `True` to `'auto'` in 1.5. Set the value of `dual` explicitly to suppress the warning.\n",
      "  warnings.warn(\n",
      "C:\\Users\\srava\\anaconda3\\lib\\site-packages\\sklearn\\svm\\_classes.py:32: FutureWarning: The default value of `dual` will change from `True` to `'auto'` in 1.5. Set the value of `dual` explicitly to suppress the warning.\n",
      "  warnings.warn(\n",
      "C:\\Users\\srava\\anaconda3\\lib\\site-packages\\sklearn\\svm\\_classes.py:32: FutureWarning: The default value of `dual` will change from `True` to `'auto'` in 1.5. Set the value of `dual` explicitly to suppress the warning.\n",
      "  warnings.warn(\n",
      "C:\\Users\\srava\\anaconda3\\lib\\site-packages\\sklearn\\svm\\_classes.py:32: FutureWarning: The default value of `dual` will change from `True` to `'auto'` in 1.5. Set the value of `dual` explicitly to suppress the warning.\n",
      "  warnings.warn(\n"
     ]
    },
    {
     "data": {
      "text/plain": [
       "array([0.35745886, 0.4117798 , 0.38422253, 0.40310427, 0.40447088])"
      ]
     },
     "execution_count": 369,
     "metadata": {},
     "output_type": "execute_result"
    }
   ],
   "source": [
    "cross_val_score(svr,X,y)"
   ]
  },
  {
   "cell_type": "code",
   "execution_count": 404,
   "id": "154ade5f",
   "metadata": {},
   "outputs": [
    {
     "data": {
      "text/plain": [
       "0.39220726800000005"
      ]
     },
     "execution_count": 404,
     "metadata": {},
     "output_type": "execute_result"
    }
   ],
   "source": [
    "np.mean([0.35745886, 0.4117798 , 0.38422253, 0.40310427, 0.40447088])"
   ]
  },
  {
   "cell_type": "code",
   "execution_count": 371,
   "id": "a0d1e172",
   "metadata": {},
   "outputs": [],
   "source": [
    "svr_predict = svrmodel.predict(X)"
   ]
  },
  {
   "cell_type": "code",
   "execution_count": 372,
   "id": "96a68908",
   "metadata": {},
   "outputs": [],
   "source": [
    "svr_residual = y - svr_predict"
   ]
  },
  {
   "cell_type": "code",
   "execution_count": 373,
   "id": "87700517",
   "metadata": {},
   "outputs": [
    {
     "data": {
      "text/plain": [
       "622790.5950266232"
      ]
     },
     "execution_count": 373,
     "metadata": {},
     "output_type": "execute_result"
    }
   ],
   "source": [
    "np.sqrt(np.mean(svr_residual**2))"
   ]
  },
  {
   "cell_type": "code",
   "execution_count": null,
   "id": "cdfc3c54",
   "metadata": {},
   "outputs": [],
   "source": []
  },
  {
   "cell_type": "markdown",
   "id": "aa8fbae4",
   "metadata": {},
   "source": [
    "## Lasso :"
   ]
  },
  {
   "cell_type": "code",
   "execution_count": 374,
   "id": "7a69e4b2",
   "metadata": {},
   "outputs": [],
   "source": [
    "from sklearn.linear_model import Lasso"
   ]
  },
  {
   "cell_type": "code",
   "execution_count": 375,
   "id": "51c1d681",
   "metadata": {},
   "outputs": [],
   "source": [
    "las = Lasso(alpha=10)"
   ]
  },
  {
   "cell_type": "code",
   "execution_count": 376,
   "id": "23e1136a",
   "metadata": {},
   "outputs": [],
   "source": [
    "lasmodel = las.fit(X,y)"
   ]
  },
  {
   "cell_type": "code",
   "execution_count": 377,
   "id": "c44ec8e1",
   "metadata": {},
   "outputs": [
    {
     "data": {
      "text/plain": [
       "0.5751578083712305"
      ]
     },
     "execution_count": 377,
     "metadata": {},
     "output_type": "execute_result"
    }
   ],
   "source": [
    "lasmodel.score(X,y)"
   ]
  },
  {
   "cell_type": "code",
   "execution_count": 378,
   "id": "d6f913e0",
   "metadata": {},
   "outputs": [
    {
     "data": {
      "text/plain": [
       "array([0.55834602, 0.55685268, 0.59580882, 0.5489337 , 0.56344227])"
      ]
     },
     "execution_count": 378,
     "metadata": {},
     "output_type": "execute_result"
    }
   ],
   "source": [
    "cross_val_score(las,X,y)"
   ]
  },
  {
   "cell_type": "code",
   "execution_count": 379,
   "id": "f72f93c1",
   "metadata": {},
   "outputs": [
    {
     "data": {
      "text/plain": [
       "0.564676698"
      ]
     },
     "execution_count": 379,
     "metadata": {},
     "output_type": "execute_result"
    }
   ],
   "source": [
    "np.mean([0.55834602, 0.55685268, 0.59580882, 0.5489337 , 0.56344227])"
   ]
  },
  {
   "cell_type": "code",
   "execution_count": 380,
   "id": "5a8e82ee",
   "metadata": {},
   "outputs": [],
   "source": [
    "laspredict = lasmodel.predict(X)"
   ]
  },
  {
   "cell_type": "code",
   "execution_count": 381,
   "id": "8dfe8da8",
   "metadata": {},
   "outputs": [],
   "source": [
    "lasresid = y-laspredict"
   ]
  },
  {
   "cell_type": "code",
   "execution_count": 382,
   "id": "8069ee61",
   "metadata": {},
   "outputs": [
    {
     "data": {
      "text/plain": [
       "525482.9915449166"
      ]
     },
     "execution_count": 382,
     "metadata": {},
     "output_type": "execute_result"
    }
   ],
   "source": [
    "np.sqrt(np.mean(lasresid**2))"
   ]
  },
  {
   "cell_type": "code",
   "execution_count": null,
   "id": "ba7cecf1",
   "metadata": {},
   "outputs": [],
   "source": []
  },
  {
   "cell_type": "markdown",
   "id": "f37c115f",
   "metadata": {},
   "source": [
    "# ridge"
   ]
  },
  {
   "cell_type": "code",
   "execution_count": 383,
   "id": "dabb62db",
   "metadata": {},
   "outputs": [],
   "source": [
    "from sklearn.linear_model import Ridge"
   ]
  },
  {
   "cell_type": "code",
   "execution_count": 384,
   "id": "15e4fbe7",
   "metadata": {},
   "outputs": [],
   "source": [
    "rid = Ridge()"
   ]
  },
  {
   "cell_type": "code",
   "execution_count": 385,
   "id": "bd156a5b",
   "metadata": {},
   "outputs": [],
   "source": [
    "ridmodel = rid.fit(X,y)"
   ]
  },
  {
   "cell_type": "code",
   "execution_count": 386,
   "id": "e70a3a0d",
   "metadata": {},
   "outputs": [
    {
     "data": {
      "text/plain": [
       "0.5750684580847776"
      ]
     },
     "execution_count": 386,
     "metadata": {},
     "output_type": "execute_result"
    }
   ],
   "source": [
    "ridmodel.score(X,y)"
   ]
  },
  {
   "cell_type": "code",
   "execution_count": 387,
   "id": "326f77c5",
   "metadata": {},
   "outputs": [
    {
     "data": {
      "text/plain": [
       "array([0.55842144, 0.55682971, 0.59768228, 0.5492925 , 0.56334599])"
      ]
     },
     "execution_count": 387,
     "metadata": {},
     "output_type": "execute_result"
    }
   ],
   "source": [
    "cross_val_score(rid,X,y)"
   ]
  },
  {
   "cell_type": "code",
   "execution_count": 388,
   "id": "dfdd9548",
   "metadata": {},
   "outputs": [
    {
     "data": {
      "text/plain": [
       "0.5651143839999999"
      ]
     },
     "execution_count": 388,
     "metadata": {},
     "output_type": "execute_result"
    }
   ],
   "source": [
    "np.mean([0.55842144, 0.55682971, 0.59768228, 0.5492925 , 0.56334599])"
   ]
  },
  {
   "cell_type": "code",
   "execution_count": 389,
   "id": "950de01d",
   "metadata": {},
   "outputs": [],
   "source": [
    "ridpredict = ridmodel.predict(X)"
   ]
  },
  {
   "cell_type": "code",
   "execution_count": 390,
   "id": "6ce12402",
   "metadata": {},
   "outputs": [],
   "source": [
    "ridresid = y-ridpredict"
   ]
  },
  {
   "cell_type": "code",
   "execution_count": 391,
   "id": "fb4c5330",
   "metadata": {},
   "outputs": [
    {
     "data": {
      "text/plain": [
       "525538.2468707012"
      ]
     },
     "execution_count": 391,
     "metadata": {},
     "output_type": "execute_result"
    }
   ],
   "source": [
    "np.sqrt(np.mean(ridresid**2))"
   ]
  },
  {
   "cell_type": "code",
   "execution_count": null,
   "id": "d9e3bafa",
   "metadata": {},
   "outputs": [],
   "source": []
  },
  {
   "cell_type": "markdown",
   "id": "159efe19",
   "metadata": {},
   "source": [
    "# Elastic net"
   ]
  },
  {
   "cell_type": "code",
   "execution_count": 392,
   "id": "b83410d3",
   "metadata": {},
   "outputs": [],
   "source": [
    "from sklearn.linear_model import ElasticNet"
   ]
  },
  {
   "cell_type": "code",
   "execution_count": 393,
   "id": "972ae70f",
   "metadata": {},
   "outputs": [],
   "source": [
    "en = ElasticNet()"
   ]
  },
  {
   "cell_type": "code",
   "execution_count": 394,
   "id": "50560554",
   "metadata": {},
   "outputs": [],
   "source": [
    "en_model = en.fit(X,y)"
   ]
  },
  {
   "cell_type": "code",
   "execution_count": 395,
   "id": "7dbde2c6",
   "metadata": {},
   "outputs": [
    {
     "data": {
      "text/plain": [
       "0.49533662646883136"
      ]
     },
     "execution_count": 395,
     "metadata": {},
     "output_type": "execute_result"
    }
   ],
   "source": [
    "en_model.score(X,y)"
   ]
  },
  {
   "cell_type": "code",
   "execution_count": 396,
   "id": "c9c106e2",
   "metadata": {},
   "outputs": [
    {
     "data": {
      "text/plain": [
       "array([0.46506015, 0.501377  , 0.50812589, 0.49058843, 0.50070814])"
      ]
     },
     "execution_count": 396,
     "metadata": {},
     "output_type": "execute_result"
    }
   ],
   "source": [
    "cross_val_score(en,X,y)"
   ]
  },
  {
   "cell_type": "code",
   "execution_count": 397,
   "id": "a1a6a44f",
   "metadata": {},
   "outputs": [
    {
     "data": {
      "text/plain": [
       "0.493171922"
      ]
     },
     "execution_count": 397,
     "metadata": {},
     "output_type": "execute_result"
    }
   ],
   "source": [
    "np.mean([0.46506015, 0.501377  , 0.50812589, 0.49058843, 0.50070814])"
   ]
  },
  {
   "cell_type": "code",
   "execution_count": 398,
   "id": "3210901c",
   "metadata": {},
   "outputs": [],
   "source": [
    "en_predict = en_model.predict(X)"
   ]
  },
  {
   "cell_type": "code",
   "execution_count": 399,
   "id": "4b930011",
   "metadata": {},
   "outputs": [],
   "source": [
    "en_residual = y - en_predict"
   ]
  },
  {
   "cell_type": "code",
   "execution_count": 400,
   "id": "fb5b13a9",
   "metadata": {},
   "outputs": [
    {
     "data": {
      "text/plain": [
       "572724.4668699242"
      ]
     },
     "execution_count": 400,
     "metadata": {},
     "output_type": "execute_result"
    }
   ],
   "source": [
    "np.sqrt(np.mean(en_residual**2))"
   ]
  },
  {
   "cell_type": "markdown",
   "id": "52707289",
   "metadata": {},
   "source": [
    "# Summary"
   ]
  },
  {
   "cell_type": "markdown",
   "id": "5baf17f5",
   "metadata": {},
   "source": [
    "After building and evaluating various machine learning models for the Used Cars Prices dataset, we have compiled additional information, including RMSE(Root Mean Square Error), to provide a comprehensive summary. Below is a table summarizing the models, their machine learning scores, r_square, and RMSE values:"
   ]
  },
  {
   "cell_type": "markdown",
   "id": "a1e50c57",
   "metadata": {},
   "source": [
    "| Model Name | R_square| RMSE |\n",
    "|--|--|--|\n",
    "| Linear Regression | 0.7032378332590689 | 465421.40858421434| \n",
    "| Decision Tree | 0.802941863559547  | 357883.79097921663 |\n",
    "| Random Forest | 0.8224345979369216 | 339722.2704445976 |\n",
    "| Gradient Boosting Machine | 0.8372891425732678  | 325201.92688371957 |\n",
    "| **k-nearest neighbors** | **0.8433323417156402**  | **319105.66884402686** |\n",
    "| Support Vector Machine | 0.4060172100212289  | 621343.521312164 |\n",
    "| Lasso Regression | 0.5751578083712304 | 525482.9915449166 |\n",
    "| Ridge Regression | 0.5750684580847774 | 525538.2468707013 | \n",
    "| Elastic Net | 0.49533662646883136  | 572724.4668699242 |"
   ]
  },
  {
   "cell_type": "markdown",
   "id": "5f9c358b",
   "metadata": {},
   "source": [
    "The \"k-nearest neighbors\" model stands out with a significantly lower RMSE score compared to its counterparts, indicating its superior predictive performance for this dataset. The lower RMSE value suggests that the k-nearest neighbors model yields predictions that are more closely aligned with actual outcomes, which is particularly valuable for regression tasks where numerical prediction accuracy is crucial.\n",
    "\n",
    "In light of these findings, it's advisable to consider the k-nearest neighbors model as a more reliable option for regression analysis on used cars Prices dataset, prioritizing RMSE as the key performance indicator scores."
   ]
  },
  {
   "cell_type": "code",
   "execution_count": null,
   "id": "31aeab28",
   "metadata": {},
   "outputs": [],
   "source": []
  },
  {
   "cell_type": "code",
   "execution_count": null,
   "id": "6f14c430",
   "metadata": {},
   "outputs": [],
   "source": []
  }
 ],
 "metadata": {
  "kernelspec": {
   "display_name": "Python 3 (ipykernel)",
   "language": "python",
   "name": "python3"
  },
  "language_info": {
   "codemirror_mode": {
    "name": "ipython",
    "version": 3
   },
   "file_extension": ".py",
   "mimetype": "text/x-python",
   "name": "python",
   "nbconvert_exporter": "python",
   "pygments_lexer": "ipython3",
   "version": "3.10.13"
  }
 },
 "nbformat": 4,
 "nbformat_minor": 5
}
